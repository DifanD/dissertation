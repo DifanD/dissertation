{
  "nbformat": 4,
  "nbformat_minor": 0,
  "metadata": {
    "colab": {
      "provenance": []
    },
    "kernelspec": {
      "name": "python3",
      "display_name": "Python 3"
    },
    "language_info": {
      "name": "python"
    },
    "widgets": {
      "application/vnd.jupyter.widget-state+json": {
        "8cf6135f8d9c482785abb2f66cc1428b": {
          "model_module": "@jupyter-widgets/controls",
          "model_name": "HBoxModel",
          "model_module_version": "1.5.0",
          "state": {
            "_dom_classes": [],
            "_model_module": "@jupyter-widgets/controls",
            "_model_module_version": "1.5.0",
            "_model_name": "HBoxModel",
            "_view_count": null,
            "_view_module": "@jupyter-widgets/controls",
            "_view_module_version": "1.5.0",
            "_view_name": "HBoxView",
            "box_style": "",
            "children": [
              "IPY_MODEL_5eb39e2a988945438af65767eb2f1a78",
              "IPY_MODEL_604dd68361934f479801d822f6c4d58b",
              "IPY_MODEL_43827e6e43724070b0eab432dfd56a22"
            ],
            "layout": "IPY_MODEL_9a23321ad0714fe5be2c3c12d67d68c2"
          }
        },
        "5eb39e2a988945438af65767eb2f1a78": {
          "model_module": "@jupyter-widgets/controls",
          "model_name": "HTMLModel",
          "model_module_version": "1.5.0",
          "state": {
            "_dom_classes": [],
            "_model_module": "@jupyter-widgets/controls",
            "_model_module_version": "1.5.0",
            "_model_name": "HTMLModel",
            "_view_count": null,
            "_view_module": "@jupyter-widgets/controls",
            "_view_module_version": "1.5.0",
            "_view_name": "HTMLView",
            "description": "",
            "description_tooltip": null,
            "layout": "IPY_MODEL_a21634d6df8a4e83b72497225870bffa",
            "placeholder": "​",
            "style": "IPY_MODEL_e9c1d01844a0430d921d42e1ff37e9d7",
            "value": "100%"
          }
        },
        "604dd68361934f479801d822f6c4d58b": {
          "model_module": "@jupyter-widgets/controls",
          "model_name": "FloatProgressModel",
          "model_module_version": "1.5.0",
          "state": {
            "_dom_classes": [],
            "_model_module": "@jupyter-widgets/controls",
            "_model_module_version": "1.5.0",
            "_model_name": "FloatProgressModel",
            "_view_count": null,
            "_view_module": "@jupyter-widgets/controls",
            "_view_module_version": "1.5.0",
            "_view_name": "ProgressView",
            "bar_style": "success",
            "description": "",
            "description_tooltip": null,
            "layout": "IPY_MODEL_82085712e7c94921bf7f139a7fc732a9",
            "max": 3,
            "min": 0,
            "orientation": "horizontal",
            "style": "IPY_MODEL_ab471c4393784c2f9ef63726d357a0f0",
            "value": 3
          }
        },
        "43827e6e43724070b0eab432dfd56a22": {
          "model_module": "@jupyter-widgets/controls",
          "model_name": "HTMLModel",
          "model_module_version": "1.5.0",
          "state": {
            "_dom_classes": [],
            "_model_module": "@jupyter-widgets/controls",
            "_model_module_version": "1.5.0",
            "_model_name": "HTMLModel",
            "_view_count": null,
            "_view_module": "@jupyter-widgets/controls",
            "_view_module_version": "1.5.0",
            "_view_name": "HTMLView",
            "description": "",
            "description_tooltip": null,
            "layout": "IPY_MODEL_a64ea3323dbe4f8c9a31d9b78147403c",
            "placeholder": "​",
            "style": "IPY_MODEL_426bcd1d38dc499bacf6f7a35d181be2",
            "value": " 3/3 [00:00&lt;00:00,  7.52it/s]"
          }
        },
        "9a23321ad0714fe5be2c3c12d67d68c2": {
          "model_module": "@jupyter-widgets/base",
          "model_name": "LayoutModel",
          "model_module_version": "1.2.0",
          "state": {
            "_model_module": "@jupyter-widgets/base",
            "_model_module_version": "1.2.0",
            "_model_name": "LayoutModel",
            "_view_count": null,
            "_view_module": "@jupyter-widgets/base",
            "_view_module_version": "1.2.0",
            "_view_name": "LayoutView",
            "align_content": null,
            "align_items": null,
            "align_self": null,
            "border": null,
            "bottom": null,
            "display": null,
            "flex": null,
            "flex_flow": null,
            "grid_area": null,
            "grid_auto_columns": null,
            "grid_auto_flow": null,
            "grid_auto_rows": null,
            "grid_column": null,
            "grid_gap": null,
            "grid_row": null,
            "grid_template_areas": null,
            "grid_template_columns": null,
            "grid_template_rows": null,
            "height": null,
            "justify_content": null,
            "justify_items": null,
            "left": null,
            "margin": null,
            "max_height": null,
            "max_width": null,
            "min_height": null,
            "min_width": null,
            "object_fit": null,
            "object_position": null,
            "order": null,
            "overflow": null,
            "overflow_x": null,
            "overflow_y": null,
            "padding": null,
            "right": null,
            "top": null,
            "visibility": null,
            "width": null
          }
        },
        "a21634d6df8a4e83b72497225870bffa": {
          "model_module": "@jupyter-widgets/base",
          "model_name": "LayoutModel",
          "model_module_version": "1.2.0",
          "state": {
            "_model_module": "@jupyter-widgets/base",
            "_model_module_version": "1.2.0",
            "_model_name": "LayoutModel",
            "_view_count": null,
            "_view_module": "@jupyter-widgets/base",
            "_view_module_version": "1.2.0",
            "_view_name": "LayoutView",
            "align_content": null,
            "align_items": null,
            "align_self": null,
            "border": null,
            "bottom": null,
            "display": null,
            "flex": null,
            "flex_flow": null,
            "grid_area": null,
            "grid_auto_columns": null,
            "grid_auto_flow": null,
            "grid_auto_rows": null,
            "grid_column": null,
            "grid_gap": null,
            "grid_row": null,
            "grid_template_areas": null,
            "grid_template_columns": null,
            "grid_template_rows": null,
            "height": null,
            "justify_content": null,
            "justify_items": null,
            "left": null,
            "margin": null,
            "max_height": null,
            "max_width": null,
            "min_height": null,
            "min_width": null,
            "object_fit": null,
            "object_position": null,
            "order": null,
            "overflow": null,
            "overflow_x": null,
            "overflow_y": null,
            "padding": null,
            "right": null,
            "top": null,
            "visibility": null,
            "width": null
          }
        },
        "e9c1d01844a0430d921d42e1ff37e9d7": {
          "model_module": "@jupyter-widgets/controls",
          "model_name": "DescriptionStyleModel",
          "model_module_version": "1.5.0",
          "state": {
            "_model_module": "@jupyter-widgets/controls",
            "_model_module_version": "1.5.0",
            "_model_name": "DescriptionStyleModel",
            "_view_count": null,
            "_view_module": "@jupyter-widgets/base",
            "_view_module_version": "1.2.0",
            "_view_name": "StyleView",
            "description_width": ""
          }
        },
        "82085712e7c94921bf7f139a7fc732a9": {
          "model_module": "@jupyter-widgets/base",
          "model_name": "LayoutModel",
          "model_module_version": "1.2.0",
          "state": {
            "_model_module": "@jupyter-widgets/base",
            "_model_module_version": "1.2.0",
            "_model_name": "LayoutModel",
            "_view_count": null,
            "_view_module": "@jupyter-widgets/base",
            "_view_module_version": "1.2.0",
            "_view_name": "LayoutView",
            "align_content": null,
            "align_items": null,
            "align_self": null,
            "border": null,
            "bottom": null,
            "display": null,
            "flex": null,
            "flex_flow": null,
            "grid_area": null,
            "grid_auto_columns": null,
            "grid_auto_flow": null,
            "grid_auto_rows": null,
            "grid_column": null,
            "grid_gap": null,
            "grid_row": null,
            "grid_template_areas": null,
            "grid_template_columns": null,
            "grid_template_rows": null,
            "height": null,
            "justify_content": null,
            "justify_items": null,
            "left": null,
            "margin": null,
            "max_height": null,
            "max_width": null,
            "min_height": null,
            "min_width": null,
            "object_fit": null,
            "object_position": null,
            "order": null,
            "overflow": null,
            "overflow_x": null,
            "overflow_y": null,
            "padding": null,
            "right": null,
            "top": null,
            "visibility": null,
            "width": null
          }
        },
        "ab471c4393784c2f9ef63726d357a0f0": {
          "model_module": "@jupyter-widgets/controls",
          "model_name": "ProgressStyleModel",
          "model_module_version": "1.5.0",
          "state": {
            "_model_module": "@jupyter-widgets/controls",
            "_model_module_version": "1.5.0",
            "_model_name": "ProgressStyleModel",
            "_view_count": null,
            "_view_module": "@jupyter-widgets/base",
            "_view_module_version": "1.2.0",
            "_view_name": "StyleView",
            "bar_color": null,
            "description_width": ""
          }
        },
        "a64ea3323dbe4f8c9a31d9b78147403c": {
          "model_module": "@jupyter-widgets/base",
          "model_name": "LayoutModel",
          "model_module_version": "1.2.0",
          "state": {
            "_model_module": "@jupyter-widgets/base",
            "_model_module_version": "1.2.0",
            "_model_name": "LayoutModel",
            "_view_count": null,
            "_view_module": "@jupyter-widgets/base",
            "_view_module_version": "1.2.0",
            "_view_name": "LayoutView",
            "align_content": null,
            "align_items": null,
            "align_self": null,
            "border": null,
            "bottom": null,
            "display": null,
            "flex": null,
            "flex_flow": null,
            "grid_area": null,
            "grid_auto_columns": null,
            "grid_auto_flow": null,
            "grid_auto_rows": null,
            "grid_column": null,
            "grid_gap": null,
            "grid_row": null,
            "grid_template_areas": null,
            "grid_template_columns": null,
            "grid_template_rows": null,
            "height": null,
            "justify_content": null,
            "justify_items": null,
            "left": null,
            "margin": null,
            "max_height": null,
            "max_width": null,
            "min_height": null,
            "min_width": null,
            "object_fit": null,
            "object_position": null,
            "order": null,
            "overflow": null,
            "overflow_x": null,
            "overflow_y": null,
            "padding": null,
            "right": null,
            "top": null,
            "visibility": null,
            "width": null
          }
        },
        "426bcd1d38dc499bacf6f7a35d181be2": {
          "model_module": "@jupyter-widgets/controls",
          "model_name": "DescriptionStyleModel",
          "model_module_version": "1.5.0",
          "state": {
            "_model_module": "@jupyter-widgets/controls",
            "_model_module_version": "1.5.0",
            "_model_name": "DescriptionStyleModel",
            "_view_count": null,
            "_view_module": "@jupyter-widgets/base",
            "_view_module_version": "1.2.0",
            "_view_name": "StyleView",
            "description_width": ""
          }
        },
        "3fef2cc7c2c343cfa88842c795746dd4": {
          "model_module": "@jupyter-widgets/controls",
          "model_name": "HBoxModel",
          "model_module_version": "1.5.0",
          "state": {
            "_dom_classes": [],
            "_model_module": "@jupyter-widgets/controls",
            "_model_module_version": "1.5.0",
            "_model_name": "HBoxModel",
            "_view_count": null,
            "_view_module": "@jupyter-widgets/controls",
            "_view_module_version": "1.5.0",
            "_view_name": "HBoxView",
            "box_style": "",
            "children": [
              "IPY_MODEL_04332359251048daa2b9fbbfa8fbd5eb",
              "IPY_MODEL_563782fd77144911abfc38f0507fbe5a",
              "IPY_MODEL_9614f1b798244939a22c793a0f416299"
            ],
            "layout": "IPY_MODEL_849a5e40a0b441b6ab2a5794c3a65bd2"
          }
        },
        "04332359251048daa2b9fbbfa8fbd5eb": {
          "model_module": "@jupyter-widgets/controls",
          "model_name": "HTMLModel",
          "model_module_version": "1.5.0",
          "state": {
            "_dom_classes": [],
            "_model_module": "@jupyter-widgets/controls",
            "_model_module_version": "1.5.0",
            "_model_name": "HTMLModel",
            "_view_count": null,
            "_view_module": "@jupyter-widgets/controls",
            "_view_module_version": "1.5.0",
            "_view_name": "HTMLView",
            "description": "",
            "description_tooltip": null,
            "layout": "IPY_MODEL_cc0fad240cd3457ba38df7c8a601bf34",
            "placeholder": "​",
            "style": "IPY_MODEL_158b62cd917d49cc949c033a04fb964d",
            "value": "Map: 100%"
          }
        },
        "563782fd77144911abfc38f0507fbe5a": {
          "model_module": "@jupyter-widgets/controls",
          "model_name": "FloatProgressModel",
          "model_module_version": "1.5.0",
          "state": {
            "_dom_classes": [],
            "_model_module": "@jupyter-widgets/controls",
            "_model_module_version": "1.5.0",
            "_model_name": "FloatProgressModel",
            "_view_count": null,
            "_view_module": "@jupyter-widgets/controls",
            "_view_module_version": "1.5.0",
            "_view_name": "ProgressView",
            "bar_style": "",
            "description": "",
            "description_tooltip": null,
            "layout": "IPY_MODEL_248143e9d0a9446ba29993532ef09df9",
            "max": 81,
            "min": 0,
            "orientation": "horizontal",
            "style": "IPY_MODEL_de46afffac7c41d6b6839afdd044b337",
            "value": 81
          }
        },
        "9614f1b798244939a22c793a0f416299": {
          "model_module": "@jupyter-widgets/controls",
          "model_name": "HTMLModel",
          "model_module_version": "1.5.0",
          "state": {
            "_dom_classes": [],
            "_model_module": "@jupyter-widgets/controls",
            "_model_module_version": "1.5.0",
            "_model_name": "HTMLModel",
            "_view_count": null,
            "_view_module": "@jupyter-widgets/controls",
            "_view_module_version": "1.5.0",
            "_view_name": "HTMLView",
            "description": "",
            "description_tooltip": null,
            "layout": "IPY_MODEL_6d5e15b364274d759b955e87222f20f4",
            "placeholder": "​",
            "style": "IPY_MODEL_e5d9e087c9234c77accb148c98be301a",
            "value": " 81/81 [00:00&lt;00:00, 722.02 examples/s]"
          }
        },
        "849a5e40a0b441b6ab2a5794c3a65bd2": {
          "model_module": "@jupyter-widgets/base",
          "model_name": "LayoutModel",
          "model_module_version": "1.2.0",
          "state": {
            "_model_module": "@jupyter-widgets/base",
            "_model_module_version": "1.2.0",
            "_model_name": "LayoutModel",
            "_view_count": null,
            "_view_module": "@jupyter-widgets/base",
            "_view_module_version": "1.2.0",
            "_view_name": "LayoutView",
            "align_content": null,
            "align_items": null,
            "align_self": null,
            "border": null,
            "bottom": null,
            "display": null,
            "flex": null,
            "flex_flow": null,
            "grid_area": null,
            "grid_auto_columns": null,
            "grid_auto_flow": null,
            "grid_auto_rows": null,
            "grid_column": null,
            "grid_gap": null,
            "grid_row": null,
            "grid_template_areas": null,
            "grid_template_columns": null,
            "grid_template_rows": null,
            "height": null,
            "justify_content": null,
            "justify_items": null,
            "left": null,
            "margin": null,
            "max_height": null,
            "max_width": null,
            "min_height": null,
            "min_width": null,
            "object_fit": null,
            "object_position": null,
            "order": null,
            "overflow": null,
            "overflow_x": null,
            "overflow_y": null,
            "padding": null,
            "right": null,
            "top": null,
            "visibility": "hidden",
            "width": null
          }
        },
        "cc0fad240cd3457ba38df7c8a601bf34": {
          "model_module": "@jupyter-widgets/base",
          "model_name": "LayoutModel",
          "model_module_version": "1.2.0",
          "state": {
            "_model_module": "@jupyter-widgets/base",
            "_model_module_version": "1.2.0",
            "_model_name": "LayoutModel",
            "_view_count": null,
            "_view_module": "@jupyter-widgets/base",
            "_view_module_version": "1.2.0",
            "_view_name": "LayoutView",
            "align_content": null,
            "align_items": null,
            "align_self": null,
            "border": null,
            "bottom": null,
            "display": null,
            "flex": null,
            "flex_flow": null,
            "grid_area": null,
            "grid_auto_columns": null,
            "grid_auto_flow": null,
            "grid_auto_rows": null,
            "grid_column": null,
            "grid_gap": null,
            "grid_row": null,
            "grid_template_areas": null,
            "grid_template_columns": null,
            "grid_template_rows": null,
            "height": null,
            "justify_content": null,
            "justify_items": null,
            "left": null,
            "margin": null,
            "max_height": null,
            "max_width": null,
            "min_height": null,
            "min_width": null,
            "object_fit": null,
            "object_position": null,
            "order": null,
            "overflow": null,
            "overflow_x": null,
            "overflow_y": null,
            "padding": null,
            "right": null,
            "top": null,
            "visibility": null,
            "width": null
          }
        },
        "158b62cd917d49cc949c033a04fb964d": {
          "model_module": "@jupyter-widgets/controls",
          "model_name": "DescriptionStyleModel",
          "model_module_version": "1.5.0",
          "state": {
            "_model_module": "@jupyter-widgets/controls",
            "_model_module_version": "1.5.0",
            "_model_name": "DescriptionStyleModel",
            "_view_count": null,
            "_view_module": "@jupyter-widgets/base",
            "_view_module_version": "1.2.0",
            "_view_name": "StyleView",
            "description_width": ""
          }
        },
        "248143e9d0a9446ba29993532ef09df9": {
          "model_module": "@jupyter-widgets/base",
          "model_name": "LayoutModel",
          "model_module_version": "1.2.0",
          "state": {
            "_model_module": "@jupyter-widgets/base",
            "_model_module_version": "1.2.0",
            "_model_name": "LayoutModel",
            "_view_count": null,
            "_view_module": "@jupyter-widgets/base",
            "_view_module_version": "1.2.0",
            "_view_name": "LayoutView",
            "align_content": null,
            "align_items": null,
            "align_self": null,
            "border": null,
            "bottom": null,
            "display": null,
            "flex": null,
            "flex_flow": null,
            "grid_area": null,
            "grid_auto_columns": null,
            "grid_auto_flow": null,
            "grid_auto_rows": null,
            "grid_column": null,
            "grid_gap": null,
            "grid_row": null,
            "grid_template_areas": null,
            "grid_template_columns": null,
            "grid_template_rows": null,
            "height": null,
            "justify_content": null,
            "justify_items": null,
            "left": null,
            "margin": null,
            "max_height": null,
            "max_width": null,
            "min_height": null,
            "min_width": null,
            "object_fit": null,
            "object_position": null,
            "order": null,
            "overflow": null,
            "overflow_x": null,
            "overflow_y": null,
            "padding": null,
            "right": null,
            "top": null,
            "visibility": null,
            "width": null
          }
        },
        "de46afffac7c41d6b6839afdd044b337": {
          "model_module": "@jupyter-widgets/controls",
          "model_name": "ProgressStyleModel",
          "model_module_version": "1.5.0",
          "state": {
            "_model_module": "@jupyter-widgets/controls",
            "_model_module_version": "1.5.0",
            "_model_name": "ProgressStyleModel",
            "_view_count": null,
            "_view_module": "@jupyter-widgets/base",
            "_view_module_version": "1.2.0",
            "_view_name": "StyleView",
            "bar_color": null,
            "description_width": ""
          }
        },
        "6d5e15b364274d759b955e87222f20f4": {
          "model_module": "@jupyter-widgets/base",
          "model_name": "LayoutModel",
          "model_module_version": "1.2.0",
          "state": {
            "_model_module": "@jupyter-widgets/base",
            "_model_module_version": "1.2.0",
            "_model_name": "LayoutModel",
            "_view_count": null,
            "_view_module": "@jupyter-widgets/base",
            "_view_module_version": "1.2.0",
            "_view_name": "LayoutView",
            "align_content": null,
            "align_items": null,
            "align_self": null,
            "border": null,
            "bottom": null,
            "display": null,
            "flex": null,
            "flex_flow": null,
            "grid_area": null,
            "grid_auto_columns": null,
            "grid_auto_flow": null,
            "grid_auto_rows": null,
            "grid_column": null,
            "grid_gap": null,
            "grid_row": null,
            "grid_template_areas": null,
            "grid_template_columns": null,
            "grid_template_rows": null,
            "height": null,
            "justify_content": null,
            "justify_items": null,
            "left": null,
            "margin": null,
            "max_height": null,
            "max_width": null,
            "min_height": null,
            "min_width": null,
            "object_fit": null,
            "object_position": null,
            "order": null,
            "overflow": null,
            "overflow_x": null,
            "overflow_y": null,
            "padding": null,
            "right": null,
            "top": null,
            "visibility": null,
            "width": null
          }
        },
        "e5d9e087c9234c77accb148c98be301a": {
          "model_module": "@jupyter-widgets/controls",
          "model_name": "DescriptionStyleModel",
          "model_module_version": "1.5.0",
          "state": {
            "_model_module": "@jupyter-widgets/controls",
            "_model_module_version": "1.5.0",
            "_model_name": "DescriptionStyleModel",
            "_view_count": null,
            "_view_module": "@jupyter-widgets/base",
            "_view_module_version": "1.2.0",
            "_view_name": "StyleView",
            "description_width": ""
          }
        },
        "c5fa077e1c2f469594b0e3ea55143405": {
          "model_module": "@jupyter-widgets/controls",
          "model_name": "HBoxModel",
          "model_module_version": "1.5.0",
          "state": {
            "_dom_classes": [],
            "_model_module": "@jupyter-widgets/controls",
            "_model_module_version": "1.5.0",
            "_model_name": "HBoxModel",
            "_view_count": null,
            "_view_module": "@jupyter-widgets/controls",
            "_view_module_version": "1.5.0",
            "_view_name": "HBoxView",
            "box_style": "",
            "children": [
              "IPY_MODEL_c4aa066fc304444c8bb023423be967e4",
              "IPY_MODEL_28936619fd6b4207b7a8481ff0fb270e",
              "IPY_MODEL_ff1eb565ae22445d8d17ebf61d933f07"
            ],
            "layout": "IPY_MODEL_e769d6d804f84493a7ff2fc735ab104b"
          }
        },
        "c4aa066fc304444c8bb023423be967e4": {
          "model_module": "@jupyter-widgets/controls",
          "model_name": "HTMLModel",
          "model_module_version": "1.5.0",
          "state": {
            "_dom_classes": [],
            "_model_module": "@jupyter-widgets/controls",
            "_model_module_version": "1.5.0",
            "_model_name": "HTMLModel",
            "_view_count": null,
            "_view_module": "@jupyter-widgets/controls",
            "_view_module_version": "1.5.0",
            "_view_name": "HTMLView",
            "description": "",
            "description_tooltip": null,
            "layout": "IPY_MODEL_3350c28b5e6945e797730d84eff8a292",
            "placeholder": "​",
            "style": "IPY_MODEL_93ee9028bf344691a0a4f89d8945c08f",
            "value": "Fetching 6 files: 100%"
          }
        },
        "28936619fd6b4207b7a8481ff0fb270e": {
          "model_module": "@jupyter-widgets/controls",
          "model_name": "FloatProgressModel",
          "model_module_version": "1.5.0",
          "state": {
            "_dom_classes": [],
            "_model_module": "@jupyter-widgets/controls",
            "_model_module_version": "1.5.0",
            "_model_name": "FloatProgressModel",
            "_view_count": null,
            "_view_module": "@jupyter-widgets/controls",
            "_view_module_version": "1.5.0",
            "_view_name": "ProgressView",
            "bar_style": "success",
            "description": "",
            "description_tooltip": null,
            "layout": "IPY_MODEL_35c33230924140f0be69ed90578f73c5",
            "max": 6,
            "min": 0,
            "orientation": "horizontal",
            "style": "IPY_MODEL_9b5de2cf3e034c3393128078c85f7eb1",
            "value": 6
          }
        },
        "ff1eb565ae22445d8d17ebf61d933f07": {
          "model_module": "@jupyter-widgets/controls",
          "model_name": "HTMLModel",
          "model_module_version": "1.5.0",
          "state": {
            "_dom_classes": [],
            "_model_module": "@jupyter-widgets/controls",
            "_model_module_version": "1.5.0",
            "_model_name": "HTMLModel",
            "_view_count": null,
            "_view_module": "@jupyter-widgets/controls",
            "_view_module_version": "1.5.0",
            "_view_name": "HTMLView",
            "description": "",
            "description_tooltip": null,
            "layout": "IPY_MODEL_06401cb1cbd04eeda8599f5b24742588",
            "placeholder": "​",
            "style": "IPY_MODEL_1084d5e9d4de4619ae25b0aa9c014c5f",
            "value": " 6/6 [00:00&lt;00:00, 179.62it/s]"
          }
        },
        "e769d6d804f84493a7ff2fc735ab104b": {
          "model_module": "@jupyter-widgets/base",
          "model_name": "LayoutModel",
          "model_module_version": "1.2.0",
          "state": {
            "_model_module": "@jupyter-widgets/base",
            "_model_module_version": "1.2.0",
            "_model_name": "LayoutModel",
            "_view_count": null,
            "_view_module": "@jupyter-widgets/base",
            "_view_module_version": "1.2.0",
            "_view_name": "LayoutView",
            "align_content": null,
            "align_items": null,
            "align_self": null,
            "border": null,
            "bottom": null,
            "display": null,
            "flex": null,
            "flex_flow": null,
            "grid_area": null,
            "grid_auto_columns": null,
            "grid_auto_flow": null,
            "grid_auto_rows": null,
            "grid_column": null,
            "grid_gap": null,
            "grid_row": null,
            "grid_template_areas": null,
            "grid_template_columns": null,
            "grid_template_rows": null,
            "height": null,
            "justify_content": null,
            "justify_items": null,
            "left": null,
            "margin": null,
            "max_height": null,
            "max_width": null,
            "min_height": null,
            "min_width": null,
            "object_fit": null,
            "object_position": null,
            "order": null,
            "overflow": null,
            "overflow_x": null,
            "overflow_y": null,
            "padding": null,
            "right": null,
            "top": null,
            "visibility": null,
            "width": null
          }
        },
        "3350c28b5e6945e797730d84eff8a292": {
          "model_module": "@jupyter-widgets/base",
          "model_name": "LayoutModel",
          "model_module_version": "1.2.0",
          "state": {
            "_model_module": "@jupyter-widgets/base",
            "_model_module_version": "1.2.0",
            "_model_name": "LayoutModel",
            "_view_count": null,
            "_view_module": "@jupyter-widgets/base",
            "_view_module_version": "1.2.0",
            "_view_name": "LayoutView",
            "align_content": null,
            "align_items": null,
            "align_self": null,
            "border": null,
            "bottom": null,
            "display": null,
            "flex": null,
            "flex_flow": null,
            "grid_area": null,
            "grid_auto_columns": null,
            "grid_auto_flow": null,
            "grid_auto_rows": null,
            "grid_column": null,
            "grid_gap": null,
            "grid_row": null,
            "grid_template_areas": null,
            "grid_template_columns": null,
            "grid_template_rows": null,
            "height": null,
            "justify_content": null,
            "justify_items": null,
            "left": null,
            "margin": null,
            "max_height": null,
            "max_width": null,
            "min_height": null,
            "min_width": null,
            "object_fit": null,
            "object_position": null,
            "order": null,
            "overflow": null,
            "overflow_x": null,
            "overflow_y": null,
            "padding": null,
            "right": null,
            "top": null,
            "visibility": null,
            "width": null
          }
        },
        "93ee9028bf344691a0a4f89d8945c08f": {
          "model_module": "@jupyter-widgets/controls",
          "model_name": "DescriptionStyleModel",
          "model_module_version": "1.5.0",
          "state": {
            "_model_module": "@jupyter-widgets/controls",
            "_model_module_version": "1.5.0",
            "_model_name": "DescriptionStyleModel",
            "_view_count": null,
            "_view_module": "@jupyter-widgets/base",
            "_view_module_version": "1.2.0",
            "_view_name": "StyleView",
            "description_width": ""
          }
        },
        "35c33230924140f0be69ed90578f73c5": {
          "model_module": "@jupyter-widgets/base",
          "model_name": "LayoutModel",
          "model_module_version": "1.2.0",
          "state": {
            "_model_module": "@jupyter-widgets/base",
            "_model_module_version": "1.2.0",
            "_model_name": "LayoutModel",
            "_view_count": null,
            "_view_module": "@jupyter-widgets/base",
            "_view_module_version": "1.2.0",
            "_view_name": "LayoutView",
            "align_content": null,
            "align_items": null,
            "align_self": null,
            "border": null,
            "bottom": null,
            "display": null,
            "flex": null,
            "flex_flow": null,
            "grid_area": null,
            "grid_auto_columns": null,
            "grid_auto_flow": null,
            "grid_auto_rows": null,
            "grid_column": null,
            "grid_gap": null,
            "grid_row": null,
            "grid_template_areas": null,
            "grid_template_columns": null,
            "grid_template_rows": null,
            "height": null,
            "justify_content": null,
            "justify_items": null,
            "left": null,
            "margin": null,
            "max_height": null,
            "max_width": null,
            "min_height": null,
            "min_width": null,
            "object_fit": null,
            "object_position": null,
            "order": null,
            "overflow": null,
            "overflow_x": null,
            "overflow_y": null,
            "padding": null,
            "right": null,
            "top": null,
            "visibility": null,
            "width": null
          }
        },
        "9b5de2cf3e034c3393128078c85f7eb1": {
          "model_module": "@jupyter-widgets/controls",
          "model_name": "ProgressStyleModel",
          "model_module_version": "1.5.0",
          "state": {
            "_model_module": "@jupyter-widgets/controls",
            "_model_module_version": "1.5.0",
            "_model_name": "ProgressStyleModel",
            "_view_count": null,
            "_view_module": "@jupyter-widgets/base",
            "_view_module_version": "1.2.0",
            "_view_name": "StyleView",
            "bar_color": null,
            "description_width": ""
          }
        },
        "06401cb1cbd04eeda8599f5b24742588": {
          "model_module": "@jupyter-widgets/base",
          "model_name": "LayoutModel",
          "model_module_version": "1.2.0",
          "state": {
            "_model_module": "@jupyter-widgets/base",
            "_model_module_version": "1.2.0",
            "_model_name": "LayoutModel",
            "_view_count": null,
            "_view_module": "@jupyter-widgets/base",
            "_view_module_version": "1.2.0",
            "_view_name": "LayoutView",
            "align_content": null,
            "align_items": null,
            "align_self": null,
            "border": null,
            "bottom": null,
            "display": null,
            "flex": null,
            "flex_flow": null,
            "grid_area": null,
            "grid_auto_columns": null,
            "grid_auto_flow": null,
            "grid_auto_rows": null,
            "grid_column": null,
            "grid_gap": null,
            "grid_row": null,
            "grid_template_areas": null,
            "grid_template_columns": null,
            "grid_template_rows": null,
            "height": null,
            "justify_content": null,
            "justify_items": null,
            "left": null,
            "margin": null,
            "max_height": null,
            "max_width": null,
            "min_height": null,
            "min_width": null,
            "object_fit": null,
            "object_position": null,
            "order": null,
            "overflow": null,
            "overflow_x": null,
            "overflow_y": null,
            "padding": null,
            "right": null,
            "top": null,
            "visibility": null,
            "width": null
          }
        },
        "1084d5e9d4de4619ae25b0aa9c014c5f": {
          "model_module": "@jupyter-widgets/controls",
          "model_name": "DescriptionStyleModel",
          "model_module_version": "1.5.0",
          "state": {
            "_model_module": "@jupyter-widgets/controls",
            "_model_module_version": "1.5.0",
            "_model_name": "DescriptionStyleModel",
            "_view_count": null,
            "_view_module": "@jupyter-widgets/base",
            "_view_module_version": "1.2.0",
            "_view_name": "StyleView",
            "description_width": ""
          }
        }
      }
    }
  },
  "cells": [
    {
      "cell_type": "code",
      "execution_count": null,
      "metadata": {
        "colab": {
          "base_uri": "https://localhost:8080/",
          "height": 1000
        },
        "id": "NlAdcfAHM5QP",
        "outputId": "d211b8a5-4664-4647-85c4-177bbe244e3f"
      },
      "outputs": [
        {
          "output_type": "stream",
          "name": "stdout",
          "text": [
            "\u001b[2K     \u001b[90m━━━━━━━━━━━━━━━━━━━━━━━━━━━━━━━━━━━━━━━━\u001b[0m \u001b[32m92.2/92.2 MB\u001b[0m \u001b[31m6.6 MB/s\u001b[0m eta \u001b[36m0:00:00\u001b[0m\n",
            "\u001b[?25h  Installing build dependencies ... \u001b[?25l\u001b[?25hdone\n",
            "  Getting requirements to build wheel ... \u001b[?25l\u001b[?25hdone\n",
            "  Preparing metadata (pyproject.toml) ... \u001b[?25l\u001b[?25hdone\n",
            "\u001b[2K     \u001b[90m━━━━━━━━━━━━━━━━━━━━━━━━━━━━━━━━━━━━━━━\u001b[0m \u001b[32m236.8/236.8 kB\u001b[0m \u001b[31m5.0 MB/s\u001b[0m eta \u001b[36m0:00:00\u001b[0m\n",
            "\u001b[2K     \u001b[90m━━━━━━━━━━━━━━━━━━━━━━━━━━━━━━━━━━━━━━━━\u001b[0m \u001b[32m7.8/7.8 MB\u001b[0m \u001b[31m72.0 MB/s\u001b[0m eta \u001b[36m0:00:00\u001b[0m\n",
            "\u001b[2K     \u001b[90m━━━━━━━━━━━━━━━━━━━━━━━━━━━━━━━━━━━━━━━━\u001b[0m \u001b[32m1.3/1.3 MB\u001b[0m \u001b[31m56.2 MB/s\u001b[0m eta \u001b[36m0:00:00\u001b[0m\n",
            "\u001b[?25h  Building wheel for transformers (pyproject.toml) ... \u001b[?25l\u001b[?25hdone\n",
            "  Installing build dependencies ... \u001b[?25l\u001b[?25hdone\n",
            "  Getting requirements to build wheel ... \u001b[?25l\u001b[?25hdone\n",
            "  Preparing metadata (pyproject.toml) ... \u001b[?25l\u001b[?25hdone\n",
            "\u001b[2K     \u001b[90m━━━━━━━━━━━━━━━━━━━━━━━━━━━━━━━━━━━━━━━\u001b[0m \u001b[32m227.5/227.5 kB\u001b[0m \u001b[31m2.3 MB/s\u001b[0m eta \u001b[36m0:00:00\u001b[0m\n",
            "\u001b[?25h  Building wheel for peft (pyproject.toml) ... \u001b[?25l\u001b[?25hdone\n",
            "  Installing build dependencies ... \u001b[?25l\u001b[?25hdone\n",
            "  Getting requirements to build wheel ... \u001b[?25l\u001b[?25hdone\n",
            "  Preparing metadata (pyproject.toml) ... \u001b[?25l\u001b[?25hdone\n",
            "  Building wheel for accelerate (pyproject.toml) ... \u001b[?25l\u001b[?25hdone\n",
            "\u001b[2K     \u001b[90m━━━━━━━━━━━━━━━━━━━━━━━━━━━━━━━━━━━━━━━\u001b[0m \u001b[32m474.6/474.6 kB\u001b[0m \u001b[31m7.5 MB/s\u001b[0m eta \u001b[36m0:00:00\u001b[0m\n",
            "\u001b[2K     \u001b[90m━━━━━━━━━━━━━━━━━━━━━━━━━━━━━━━━━━━━━━━\u001b[0m \u001b[32m110.5/110.5 kB\u001b[0m \u001b[31m6.7 MB/s\u001b[0m eta \u001b[36m0:00:00\u001b[0m\n",
            "\u001b[2K     \u001b[90m━━━━━━━━━━━━━━━━━━━━━━━━━━━━━━━━━━━━━━\u001b[0m \u001b[32m212.5/212.5 kB\u001b[0m \u001b[31m10.2 MB/s\u001b[0m eta \u001b[36m0:00:00\u001b[0m\n",
            "\u001b[2K     \u001b[90m━━━━━━━━━━━━━━━━━━━━━━━━━━━━━━━━━━━━━━\u001b[0m \u001b[32m134.3/134.3 kB\u001b[0m \u001b[31m11.0 MB/s\u001b[0m eta \u001b[36m0:00:00\u001b[0m\n",
            "\u001b[2K     \u001b[90m━━━━━━━━━━━━━━━━━━━━━━━━━━━━━━━━━━━━━━━━\u001b[0m \u001b[32m1.0/1.0 MB\u001b[0m \u001b[31m28.4 MB/s\u001b[0m eta \u001b[36m0:00:00\u001b[0m\n",
            "\u001b[2K     \u001b[90m━━━━━━━━━━━━━━━━━━━━━━━━━━━━━━━━━━━━━━━\u001b[0m \u001b[32m114.5/114.5 kB\u001b[0m \u001b[31m8.8 MB/s\u001b[0m eta \u001b[36m0:00:00\u001b[0m\n",
            "\u001b[2K     \u001b[90m━━━━━━━━━━━━━━━━━━━━━━━━━━━━━━━━━━━━━━\u001b[0m \u001b[32m268.8/268.8 kB\u001b[0m \u001b[31m15.6 MB/s\u001b[0m eta \u001b[36m0:00:00\u001b[0m\n",
            "\u001b[2K     \u001b[90m━━━━━━━━━━━━━━━━━━━━━━━━━━━━━━━━━━━━━━\u001b[0m \u001b[32m149.6/149.6 kB\u001b[0m \u001b[31m11.5 MB/s\u001b[0m eta \u001b[36m0:00:00\u001b[0m\n",
            "\u001b[?25hLooking in indexes: https://pypi.org/simple, https://us-python.pkg.dev/colab-wheels/public/simple/\n",
            "Collecting adapter-transformers\n",
            "  Downloading adapter_transformers-3.2.1-py3-none-any.whl (6.4 MB)\n",
            "\u001b[2K     \u001b[90m━━━━━━━━━━━━━━━━━━━━━━━━━━━━━━━━━━━━━━━━\u001b[0m \u001b[32m6.4/6.4 MB\u001b[0m \u001b[31m39.6 MB/s\u001b[0m eta \u001b[36m0:00:00\u001b[0m\n",
            "\u001b[?25hRequirement already satisfied: filelock in /usr/local/lib/python3.10/dist-packages (from adapter-transformers) (3.12.0)\n",
            "Requirement already satisfied: huggingface-hub<1.0,>=0.11.0 in /usr/local/lib/python3.10/dist-packages (from adapter-transformers) (0.15.1)\n",
            "Requirement already satisfied: numpy>=1.17 in /usr/local/lib/python3.10/dist-packages (from adapter-transformers) (1.22.4)\n",
            "Requirement already satisfied: packaging>=20.0 in /usr/local/lib/python3.10/dist-packages (from adapter-transformers) (23.1)\n",
            "Requirement already satisfied: pyyaml>=5.1 in /usr/local/lib/python3.10/dist-packages (from adapter-transformers) (6.0)\n",
            "Requirement already satisfied: regex!=2019.12.17 in /usr/local/lib/python3.10/dist-packages (from adapter-transformers) (2022.10.31)\n",
            "Requirement already satisfied: requests in /usr/local/lib/python3.10/dist-packages (from adapter-transformers) (2.27.1)\n",
            "Requirement already satisfied: tokenizers!=0.11.3,<0.14,>=0.11.1 in /usr/local/lib/python3.10/dist-packages (from adapter-transformers) (0.13.3)\n",
            "Requirement already satisfied: tqdm>=4.27 in /usr/local/lib/python3.10/dist-packages (from adapter-transformers) (4.65.0)\n",
            "Requirement already satisfied: fsspec in /usr/local/lib/python3.10/dist-packages (from huggingface-hub<1.0,>=0.11.0->adapter-transformers) (2023.4.0)\n",
            "Requirement already satisfied: typing-extensions>=3.7.4.3 in /usr/local/lib/python3.10/dist-packages (from huggingface-hub<1.0,>=0.11.0->adapter-transformers) (4.5.0)\n",
            "Requirement already satisfied: urllib3<1.27,>=1.21.1 in /usr/local/lib/python3.10/dist-packages (from requests->adapter-transformers) (1.26.15)\n",
            "Requirement already satisfied: certifi>=2017.4.17 in /usr/local/lib/python3.10/dist-packages (from requests->adapter-transformers) (2022.12.7)\n",
            "Requirement already satisfied: charset-normalizer~=2.0.0 in /usr/local/lib/python3.10/dist-packages (from requests->adapter-transformers) (2.0.12)\n",
            "Requirement already satisfied: idna<4,>=2.5 in /usr/local/lib/python3.10/dist-packages (from requests->adapter-transformers) (3.4)\n",
            "Installing collected packages: adapter-transformers\n",
            "Successfully installed adapter-transformers-3.2.1\n",
            "Looking in indexes: https://pypi.org/simple, https://us-python.pkg.dev/colab-wheels/public/simple/\n",
            "Collecting neptune\n",
            "  Downloading neptune-1.2.0-py3-none-any.whl (448 kB)\n",
            "\u001b[2K     \u001b[90m━━━━━━━━━━━━━━━━━━━━━━━━━━━━━━━━━━━━━━━\u001b[0m \u001b[32m448.1/448.1 kB\u001b[0m \u001b[31m8.2 MB/s\u001b[0m eta \u001b[36m0:00:00\u001b[0m\n",
            "\u001b[?25hRequirement already satisfied: transformers in /usr/local/lib/python3.10/dist-packages (4.31.0.dev0)\n",
            "Requirement already satisfied: datasets in /usr/local/lib/python3.10/dist-packages (2.12.0)\n",
            "Collecting evaluate\n",
            "  Downloading evaluate-0.4.0-py3-none-any.whl (81 kB)\n",
            "\u001b[2K     \u001b[90m━━━━━━━━━━━━━━━━━━━━━━━━━━━━━━━━━━━━━━━━\u001b[0m \u001b[32m81.4/81.4 kB\u001b[0m \u001b[31m7.4 MB/s\u001b[0m eta \u001b[36m0:00:00\u001b[0m\n",
            "\u001b[?25hRequirement already satisfied: torch in /usr/local/lib/python3.10/dist-packages (2.0.1+cu118)\n",
            "Requirement already satisfied: scipy in /usr/local/lib/python3.10/dist-packages (1.10.1)\n",
            "Requirement already satisfied: scikit-learn in /usr/local/lib/python3.10/dist-packages (1.2.2)\n",
            "Requirement already satisfied: numpy in /usr/local/lib/python3.10/dist-packages (1.22.4)\n",
            "Collecting numpy\n",
            "  Downloading numpy-1.24.3-cp310-cp310-manylinux_2_17_x86_64.manylinux2014_x86_64.whl (17.3 MB)\n",
            "\u001b[2K     \u001b[90m━━━━━━━━━━━━━━━━━━━━━━━━━━━━━━━━━━━━━━━━\u001b[0m \u001b[32m17.3/17.3 MB\u001b[0m \u001b[31m58.9 MB/s\u001b[0m eta \u001b[36m0:00:00\u001b[0m\n",
            "\u001b[?25hCollecting GitPython>=2.0.8 (from neptune)\n",
            "  Downloading GitPython-3.1.31-py3-none-any.whl (184 kB)\n",
            "\u001b[2K     \u001b[90m━━━━━━━━━━━━━━━━━━━━━━━━━━━━━━━━━━━━━━\u001b[0m \u001b[32m184.3/184.3 kB\u001b[0m \u001b[31m14.2 MB/s\u001b[0m eta \u001b[36m0:00:00\u001b[0m\n",
            "\u001b[?25hRequirement already satisfied: Pillow>=1.1.6 in /usr/local/lib/python3.10/dist-packages (from neptune) (8.4.0)\n",
            "Collecting PyJWT (from neptune)\n",
            "  Downloading PyJWT-2.7.0-py3-none-any.whl (22 kB)\n",
            "Collecting boto3>=1.16.0 (from neptune)\n",
            "  Downloading boto3-1.26.149-py3-none-any.whl (135 kB)\n",
            "\u001b[2K     \u001b[90m━━━━━━━━━━━━━━━━━━━━━━━━━━━━━━━━━━━━━━\u001b[0m \u001b[32m135.6/135.6 kB\u001b[0m \u001b[31m12.3 MB/s\u001b[0m eta \u001b[36m0:00:00\u001b[0m\n",
            "\u001b[?25hCollecting bravado<12.0.0,>=11.0.0 (from neptune)\n",
            "  Downloading bravado-11.0.3-py2.py3-none-any.whl (38 kB)\n",
            "Requirement already satisfied: click>=7.0 in /usr/local/lib/python3.10/dist-packages (from neptune) (8.1.3)\n",
            "Requirement already satisfied: future>=0.17.1 in /usr/local/lib/python3.10/dist-packages (from neptune) (0.18.3)\n",
            "Requirement already satisfied: oauthlib>=2.1.0 in /usr/local/lib/python3.10/dist-packages (from neptune) (3.2.2)\n",
            "Requirement already satisfied: packaging in /usr/local/lib/python3.10/dist-packages (from neptune) (23.1)\n",
            "Requirement already satisfied: pandas in /usr/local/lib/python3.10/dist-packages (from neptune) (1.5.3)\n",
            "Requirement already satisfied: psutil in /usr/local/lib/python3.10/dist-packages (from neptune) (5.9.5)\n",
            "Requirement already satisfied: requests>=2.20.0 in /usr/local/lib/python3.10/dist-packages (from neptune) (2.27.1)\n",
            "Requirement already satisfied: requests-oauthlib>=1.0.0 in /usr/local/lib/python3.10/dist-packages (from neptune) (1.3.1)\n",
            "Requirement already satisfied: six>=1.12.0 in /usr/local/lib/python3.10/dist-packages (from neptune) (1.16.0)\n",
            "Collecting swagger-spec-validator>=2.7.4 (from neptune)\n",
            "  Downloading swagger_spec_validator-3.0.3-py2.py3-none-any.whl (27 kB)\n",
            "Requirement already satisfied: urllib3 in /usr/local/lib/python3.10/dist-packages (from neptune) (1.26.15)\n",
            "Requirement already satisfied: websocket-client!=1.0.0,>=0.35.0 in /usr/local/lib/python3.10/dist-packages (from neptune) (1.5.1)\n",
            "Requirement already satisfied: filelock in /usr/local/lib/python3.10/dist-packages (from transformers) (3.12.0)\n",
            "Requirement already satisfied: huggingface-hub<1.0,>=0.14.1 in /usr/local/lib/python3.10/dist-packages (from transformers) (0.15.1)\n",
            "Requirement already satisfied: pyyaml>=5.1 in /usr/local/lib/python3.10/dist-packages (from transformers) (6.0)\n",
            "Requirement already satisfied: regex!=2019.12.17 in /usr/local/lib/python3.10/dist-packages (from transformers) (2022.10.31)\n",
            "Requirement already satisfied: tokenizers!=0.11.3,<0.14,>=0.11.1 in /usr/local/lib/python3.10/dist-packages (from transformers) (0.13.3)\n",
            "Requirement already satisfied: safetensors>=0.3.1 in /usr/local/lib/python3.10/dist-packages (from transformers) (0.3.1)\n",
            "Requirement already satisfied: tqdm>=4.27 in /usr/local/lib/python3.10/dist-packages (from transformers) (4.65.0)\n",
            "Requirement already satisfied: pyarrow>=8.0.0 in /usr/local/lib/python3.10/dist-packages (from datasets) (9.0.0)\n",
            "Requirement already satisfied: dill<0.3.7,>=0.3.0 in /usr/local/lib/python3.10/dist-packages (from datasets) (0.3.6)\n",
            "Requirement already satisfied: xxhash in /usr/local/lib/python3.10/dist-packages (from datasets) (3.2.0)\n",
            "Requirement already satisfied: multiprocess in /usr/local/lib/python3.10/dist-packages (from datasets) (0.70.14)\n",
            "Requirement already satisfied: fsspec[http]>=2021.11.1 in /usr/local/lib/python3.10/dist-packages (from datasets) (2023.4.0)\n",
            "Requirement already satisfied: aiohttp in /usr/local/lib/python3.10/dist-packages (from datasets) (3.8.4)\n",
            "Requirement already satisfied: responses<0.19 in /usr/local/lib/python3.10/dist-packages (from datasets) (0.18.0)\n",
            "Requirement already satisfied: typing-extensions in /usr/local/lib/python3.10/dist-packages (from torch) (4.5.0)\n",
            "Requirement already satisfied: sympy in /usr/local/lib/python3.10/dist-packages (from torch) (1.11.1)\n",
            "Requirement already satisfied: networkx in /usr/local/lib/python3.10/dist-packages (from torch) (3.1)\n",
            "Requirement already satisfied: jinja2 in /usr/local/lib/python3.10/dist-packages (from torch) (3.1.2)\n",
            "Requirement already satisfied: triton==2.0.0 in /usr/local/lib/python3.10/dist-packages (from torch) (2.0.0)\n",
            "Requirement already satisfied: cmake in /usr/local/lib/python3.10/dist-packages (from triton==2.0.0->torch) (3.25.2)\n",
            "Requirement already satisfied: lit in /usr/local/lib/python3.10/dist-packages (from triton==2.0.0->torch) (16.0.5)\n",
            "Requirement already satisfied: joblib>=1.1.1 in /usr/local/lib/python3.10/dist-packages (from scikit-learn) (1.2.0)\n",
            "Requirement already satisfied: threadpoolctl>=2.0.0 in /usr/local/lib/python3.10/dist-packages (from scikit-learn) (3.1.0)\n",
            "Collecting botocore<1.30.0,>=1.29.149 (from boto3>=1.16.0->neptune)\n",
            "  Downloading botocore-1.29.149-py3-none-any.whl (10.8 MB)\n",
            "\u001b[2K     \u001b[90m━━━━━━━━━━━━━━━━━━━━━━━━━━━━━━━━━━━━━━━━\u001b[0m \u001b[32m10.8/10.8 MB\u001b[0m \u001b[31m48.6 MB/s\u001b[0m eta \u001b[36m0:00:00\u001b[0m\n",
            "\u001b[?25hCollecting jmespath<2.0.0,>=0.7.1 (from boto3>=1.16.0->neptune)\n",
            "  Downloading jmespath-1.0.1-py3-none-any.whl (20 kB)\n",
            "Collecting s3transfer<0.7.0,>=0.6.0 (from boto3>=1.16.0->neptune)\n",
            "  Downloading s3transfer-0.6.1-py3-none-any.whl (79 kB)\n",
            "\u001b[2K     \u001b[90m━━━━━━━━━━━━━━━━━━━━━━━━━━━━━━━━━━━━━━━━\u001b[0m \u001b[32m79.8/79.8 kB\u001b[0m \u001b[31m6.6 MB/s\u001b[0m eta \u001b[36m0:00:00\u001b[0m\n",
            "\u001b[?25hCollecting bravado-core>=5.16.1 (from bravado<12.0.0,>=11.0.0->neptune)\n",
            "  Downloading bravado_core-5.17.1-py2.py3-none-any.whl (67 kB)\n",
            "\u001b[2K     \u001b[90m━━━━━━━━━━━━━━━━━━━━━━━━━━━━━━━━━━━━━━━━\u001b[0m \u001b[32m67.7/67.7 kB\u001b[0m \u001b[31m6.3 MB/s\u001b[0m eta \u001b[36m0:00:00\u001b[0m\n",
            "\u001b[?25hRequirement already satisfied: msgpack in /usr/local/lib/python3.10/dist-packages (from bravado<12.0.0,>=11.0.0->neptune) (1.0.5)\n",
            "Requirement already satisfied: python-dateutil in /usr/local/lib/python3.10/dist-packages (from bravado<12.0.0,>=11.0.0->neptune) (2.8.2)\n",
            "Collecting simplejson (from bravado<12.0.0,>=11.0.0->neptune)\n",
            "  Downloading simplejson-3.19.1-cp310-cp310-manylinux_2_5_x86_64.manylinux1_x86_64.manylinux_2_17_x86_64.manylinux2014_x86_64.whl (137 kB)\n",
            "\u001b[2K     \u001b[90m━━━━━━━━━━━━━━━━━━━━━━━━━━━━━━━━━━━━━━\u001b[0m \u001b[32m137.9/137.9 kB\u001b[0m \u001b[31m13.1 MB/s\u001b[0m eta \u001b[36m0:00:00\u001b[0m\n",
            "\u001b[?25hCollecting monotonic (from bravado<12.0.0,>=11.0.0->neptune)\n",
            "  Downloading monotonic-1.6-py2.py3-none-any.whl (8.2 kB)\n",
            "Requirement already satisfied: attrs>=17.3.0 in /usr/local/lib/python3.10/dist-packages (from aiohttp->datasets) (23.1.0)\n",
            "Requirement already satisfied: charset-normalizer<4.0,>=2.0 in /usr/local/lib/python3.10/dist-packages (from aiohttp->datasets) (2.0.12)\n",
            "Requirement already satisfied: multidict<7.0,>=4.5 in /usr/local/lib/python3.10/dist-packages (from aiohttp->datasets) (6.0.4)\n",
            "Requirement already satisfied: async-timeout<5.0,>=4.0.0a3 in /usr/local/lib/python3.10/dist-packages (from aiohttp->datasets) (4.0.2)\n",
            "Requirement already satisfied: yarl<2.0,>=1.0 in /usr/local/lib/python3.10/dist-packages (from aiohttp->datasets) (1.9.2)\n",
            "Requirement already satisfied: frozenlist>=1.1.1 in /usr/local/lib/python3.10/dist-packages (from aiohttp->datasets) (1.3.3)\n",
            "Requirement already satisfied: aiosignal>=1.1.2 in /usr/local/lib/python3.10/dist-packages (from aiohttp->datasets) (1.3.1)\n",
            "Collecting gitdb<5,>=4.0.1 (from GitPython>=2.0.8->neptune)\n",
            "  Downloading gitdb-4.0.10-py3-none-any.whl (62 kB)\n",
            "\u001b[2K     \u001b[90m━━━━━━━━━━━━━━━━━━━━━━━━━━━━━━━━━━━━━━━━\u001b[0m \u001b[32m62.7/62.7 kB\u001b[0m \u001b[31m6.1 MB/s\u001b[0m eta \u001b[36m0:00:00\u001b[0m\n",
            "\u001b[?25hRequirement already satisfied: certifi>=2017.4.17 in /usr/local/lib/python3.10/dist-packages (from requests>=2.20.0->neptune) (2022.12.7)\n",
            "Requirement already satisfied: idna<4,>=2.5 in /usr/local/lib/python3.10/dist-packages (from requests>=2.20.0->neptune) (3.4)\n",
            "Requirement already satisfied: jsonschema in /usr/local/lib/python3.10/dist-packages (from swagger-spec-validator>=2.7.4->neptune) (4.3.3)\n",
            "Requirement already satisfied: MarkupSafe>=2.0 in /usr/local/lib/python3.10/dist-packages (from jinja2->torch) (2.1.2)\n",
            "Requirement already satisfied: pytz>=2020.1 in /usr/local/lib/python3.10/dist-packages (from pandas->neptune) (2022.7.1)\n",
            "Requirement already satisfied: mpmath>=0.19 in /usr/local/lib/python3.10/dist-packages (from sympy->torch) (1.3.0)\n",
            "Collecting jsonref (from bravado-core>=5.16.1->bravado<12.0.0,>=11.0.0->neptune)\n",
            "  Downloading jsonref-1.1.0-py3-none-any.whl (9.4 kB)\n",
            "Collecting smmap<6,>=3.0.1 (from gitdb<5,>=4.0.1->GitPython>=2.0.8->neptune)\n",
            "  Downloading smmap-5.0.0-py3-none-any.whl (24 kB)\n",
            "Requirement already satisfied: pyrsistent!=0.17.0,!=0.17.1,!=0.17.2,>=0.14.0 in /usr/local/lib/python3.10/dist-packages (from jsonschema->swagger-spec-validator>=2.7.4->neptune) (0.19.3)\n",
            "Collecting fqdn (from jsonschema->swagger-spec-validator>=2.7.4->neptune)\n",
            "  Downloading fqdn-1.5.1-py3-none-any.whl (9.1 kB)\n",
            "Collecting isoduration (from jsonschema->swagger-spec-validator>=2.7.4->neptune)\n",
            "  Downloading isoduration-20.11.0-py3-none-any.whl (11 kB)\n",
            "Collecting jsonpointer>1.13 (from jsonschema->swagger-spec-validator>=2.7.4->neptune)\n",
            "  Downloading jsonpointer-2.3-py2.py3-none-any.whl (7.8 kB)\n",
            "Collecting rfc3339-validator (from jsonschema->swagger-spec-validator>=2.7.4->neptune)\n",
            "  Downloading rfc3339_validator-0.1.4-py2.py3-none-any.whl (3.5 kB)\n",
            "Collecting rfc3987 (from jsonschema->swagger-spec-validator>=2.7.4->neptune)\n",
            "  Downloading rfc3987-1.3.8-py2.py3-none-any.whl (13 kB)\n",
            "Collecting uri-template (from jsonschema->swagger-spec-validator>=2.7.4->neptune)\n",
            "  Downloading uri_template-1.2.0-py3-none-any.whl (10 kB)\n",
            "Requirement already satisfied: webcolors>=1.11 in /usr/local/lib/python3.10/dist-packages (from jsonschema->swagger-spec-validator>=2.7.4->neptune) (1.13)\n",
            "Collecting arrow>=0.15.0 (from isoduration->jsonschema->swagger-spec-validator>=2.7.4->neptune)\n",
            "  Downloading arrow-1.2.3-py3-none-any.whl (66 kB)\n",
            "\u001b[2K     \u001b[90m━━━━━━━━━━━━━━━━━━━━━━━━━━━━━━━━━━━━━━━━\u001b[0m \u001b[32m66.4/66.4 kB\u001b[0m \u001b[31m5.6 MB/s\u001b[0m eta \u001b[36m0:00:00\u001b[0m\n",
            "\u001b[?25hInstalling collected packages: rfc3987, monotonic, uri-template, smmap, simplejson, rfc3339-validator, PyJWT, numpy, jsonref, jsonpointer, jmespath, fqdn, swagger-spec-validator, gitdb, botocore, arrow, s3transfer, isoduration, GitPython, boto3, evaluate, bravado-core, bravado, neptune\n",
            "\u001b[33m  WARNING: The scripts f2py, f2py3 and f2py3.10 are installed in '/root/.local/bin' which is not on PATH.\n",
            "  Consider adding this directory to PATH or, if you prefer to suppress this warning, use --no-warn-script-location.\u001b[0m\u001b[33m\n",
            "\u001b[0m\u001b[33m  WARNING: The script evaluate-cli is installed in '/root/.local/bin' which is not on PATH.\n",
            "  Consider adding this directory to PATH or, if you prefer to suppress this warning, use --no-warn-script-location.\u001b[0m\u001b[33m\n",
            "\u001b[0m\u001b[33m  WARNING: The script neptune is installed in '/root/.local/bin' which is not on PATH.\n",
            "  Consider adding this directory to PATH or, if you prefer to suppress this warning, use --no-warn-script-location.\u001b[0m\u001b[33m\n",
            "\u001b[0m\u001b[31mERROR: pip's dependency resolver does not currently take into account all the packages that are installed. This behaviour is the source of the following dependency conflicts.\n",
            "numba 0.56.4 requires numpy<1.24,>=1.18, but you have numpy 1.24.3 which is incompatible.\n",
            "tensorflow 2.12.0 requires numpy<1.24,>=1.22, but you have numpy 1.24.3 which is incompatible.\u001b[0m\u001b[31m\n",
            "\u001b[0mSuccessfully installed GitPython-3.1.31 PyJWT-2.7.0 arrow-1.2.3 boto3-1.26.149 botocore-1.29.149 bravado-11.0.3 bravado-core-5.17.1 evaluate-0.4.0 fqdn-1.5.1 gitdb-4.0.10 isoduration-20.11.0 jmespath-1.0.1 jsonpointer-2.3 jsonref-1.1.0 monotonic-1.6 neptune-1.2.0 numpy-1.24.3 rfc3339-validator-0.1.4 rfc3987-1.3.8 s3transfer-0.6.1 simplejson-3.19.1 smmap-5.0.0 swagger-spec-validator-3.0.3 uri-template-1.2.0\n"
          ]
        },
        {
          "output_type": "display_data",
          "data": {
            "application/vnd.colab-display-data+json": {
              "pip_warning": {
                "packages": [
                  "numpy"
                ]
              }
            }
          },
          "metadata": {}
        }
      ],
      "source": [
        "!pip install -q -U bitsandbytes\n",
        "!pip install -q -U git+https://github.com/huggingface/transformers.git \n",
        "!pip install -q -U git+https://github.com/huggingface/peft.git\n",
        "!pip install -q -U git+https://github.com/huggingface/accelerate.git\n",
        "!pip install -q datasets\n",
        "!pip install -U adapter-transformers\n",
        "!pip install -U --user neptune transformers datasets evaluate torch scipy scikit-learn numpy"
      ]
    },
    {
      "cell_type": "code",
      "source": [
        "import torch\n",
        "from transformers import pipeline, AutoTokenizer, AutoModelForSequenceClassification, TrainingArguments, Trainer, TrainerCallback, AutoModelForCausalLM, AutoModelForSeq2SeqLM, AdapterTrainer, EvalPrediction\n",
        "from datasets import load_dataset, concatenate_datasets, load_from_disk, load_metric, Dataset, ClassLabel\n",
        "import numpy as np\n",
        "import pandas as pd\n",
        "import os\n",
        "import neptune"
      ],
      "metadata": {
        "id": "MfNGh5KPOSak"
      },
      "execution_count": null,
      "outputs": []
    },
    {
      "cell_type": "code",
      "source": [
        "import os\n",
        "from getpass import getpass\n",
        "api_token = 'eyJhcGlfYWRkcmVzcyI6Imh0dHBzOi8vYXBwLm5lcHR1bmUuYWkiLCJhcGlfdXJsIjoiaHR0cHM6Ly9hcHAubmVwdHVuZS5haSIsImFwaV9rZXkiOiI2ZmViNmNiNy1hYmFiLTRhOWYtYjA3NC02NDRhYjJmZjUxODcifQ=='\n",
        "project = 'dducl/Dissertation'\n",
        "os.environ[\"NEPTUNE_API_TOKEN\"] = getpass(\"Enter your Neptune API token: \")\n",
        "os.environ[\"NEPTUNE_PROJECT\"] = \"dducl/Dissertation\""
      ],
      "metadata": {
        "colab": {
          "base_uri": "https://localhost:8080/"
        },
        "id": "G8bOhCveBDun",
        "outputId": "0bf0d91c-44fa-4169-9d2d-2ec153f8af10"
      },
      "execution_count": null,
      "outputs": [
        {
          "name": "stdout",
          "output_type": "stream",
          "text": [
            "Enter your Neptune API token: ··········\n"
          ]
        }
      ]
    },
    {
      "cell_type": "code",
      "source": [
        "# Load data\n",
        "df_total = pd.read_parquet('/content/drive/MyDrive/Dissertation/df_total.parquet')"
      ],
      "metadata": {
        "id": "JBQc_i2gNthH"
      },
      "execution_count": null,
      "outputs": []
    },
    {
      "cell_type": "code",
      "source": [
        "# One-shot sample\n",
        "df_label_unique_sample = df_total.groupby('label_cat', group_keys=False).apply(lambda df: df.sample(1))\n",
        "\n",
        "# Create label mapping\n",
        "label = list(df_label_unique_sample['label'])\n",
        "id = list(df_label_unique_sample['label_cat'])\n",
        "label_to_id = dict(zip(label,id))\n",
        "id_to_label = dict(zip(id,label))"
      ],
      "metadata": {
        "id": "Ry3o9bD9Nvf5"
      },
      "execution_count": null,
      "outputs": []
    },
    {
      "cell_type": "code",
      "source": [
        "# Define mapping\n",
        "Mapping = ClassLabel(names= label)\n",
        "\n",
        "# Load dataset\n",
        "# Load the parquet dataset\n",
        "dataset = load_dataset(\"parquet\", data_files={'train': '/content/drive/MyDrive/Dissertation/train.parquet', 'test': '/content/drive/MyDrive/Dissertation/test.parquet','valid':'/content/drive/MyDrive/Dissertation/validation.parquet'})"
      ],
      "metadata": {
        "colab": {
          "base_uri": "https://localhost:8080/",
          "height": 87,
          "referenced_widgets": [
            "8cf6135f8d9c482785abb2f66cc1428b",
            "5eb39e2a988945438af65767eb2f1a78",
            "604dd68361934f479801d822f6c4d58b",
            "43827e6e43724070b0eab432dfd56a22",
            "9a23321ad0714fe5be2c3c12d67d68c2",
            "a21634d6df8a4e83b72497225870bffa",
            "e9c1d01844a0430d921d42e1ff37e9d7",
            "82085712e7c94921bf7f139a7fc732a9",
            "ab471c4393784c2f9ef63726d357a0f0",
            "a64ea3323dbe4f8c9a31d9b78147403c",
            "426bcd1d38dc499bacf6f7a35d181be2"
          ]
        },
        "id": "rmcn1Sj_NyzR",
        "outputId": "a5f356ae-0e3c-4f78-8ff3-4bcf69d66ca4"
      },
      "execution_count": null,
      "outputs": [
        {
          "output_type": "stream",
          "name": "stderr",
          "text": [
            "WARNING:datasets.builder:Found cached dataset parquet (/root/.cache/huggingface/datasets/parquet/default-11e37b9db50c5f27/0.0.0/2a3b91fbd88a2c90d1dbbb32b460cf621d31bd5b05b934492fdef7d8d6f236ec)\n"
          ]
        },
        {
          "output_type": "display_data",
          "data": {
            "text/plain": [
              "  0%|          | 0/3 [00:00<?, ?it/s]"
            ],
            "application/vnd.jupyter.widget-view+json": {
              "version_major": 2,
              "version_minor": 0,
              "model_id": "8cf6135f8d9c482785abb2f66cc1428b"
            }
          },
          "metadata": {}
        }
      ]
    },
    {
      "cell_type": "code",
      "source": [
        "# Rename columns to the suitable column names for modelling\n",
        "test_ds = dataset['test']\n",
        "train_ds = dataset['train']\n",
        "valid_ds = dataset['valid']\n",
        "train_ds = train_ds.rename_column(\"Text\", \"text\")\n",
        "train_ds = train_ds.rename_column(\"label_cat\", \"labels\")\n",
        "test_ds = test_ds.rename_column(\"Text\", \"text\")\n",
        "test_ds= test_ds.rename_column(\"label_cat\", \"labels\")\n",
        "valid_ds = valid_ds.rename_column(\"Text\", \"text\")\n",
        "valid_ds= valid_ds.rename_column(\"label_cat\", \"labels\")"
      ],
      "metadata": {
        "id": "PnE66EVKN0i0"
      },
      "execution_count": null,
      "outputs": []
    },
    {
      "cell_type": "code",
      "source": [
        "model_name = 'roberta-base'\n",
        "from transformers import RobertaTokenizer\n",
        "tokenizer = RobertaTokenizer.from_pretrained(model_name)\n",
        "def encode_batch(batch):\n",
        "  \"\"\"Encodes a batch of input data using the model tokenizer.\"\"\"\n",
        "  return tokenizer(batch[\"text\"], max_length=150, truncation=True, padding=\"max_length\")"
      ],
      "metadata": {
        "id": "YkujTzWCN2pb"
      },
      "execution_count": null,
      "outputs": []
    },
    {
      "cell_type": "code",
      "source": [
        "# Encode the input training data\n",
        "train_ds = train_ds.map(encode_batch, batched=True)\n",
        "# Transform to pytorch tensors and only output the required columns\n",
        "train_ds.set_format(type=\"torch\", columns=[\"input_ids\", \"attention_mask\", \"labels\"])\n",
        "\n",
        "# Encode the input test data\n",
        "test_ds = test_ds.map(encode_batch, batched=True)\n",
        "# Transform to pytorch tensors and only output the required columns\n",
        "test_ds.set_format(type=\"torch\", columns=[\"input_ids\", \"attention_mask\", \"labels\"])"
      ],
      "metadata": {
        "colab": {
          "base_uri": "https://localhost:8080/",
          "height": 55,
          "referenced_widgets": [
            "3fef2cc7c2c343cfa88842c795746dd4",
            "04332359251048daa2b9fbbfa8fbd5eb",
            "563782fd77144911abfc38f0507fbe5a",
            "9614f1b798244939a22c793a0f416299",
            "849a5e40a0b441b6ab2a5794c3a65bd2",
            "cc0fad240cd3457ba38df7c8a601bf34",
            "158b62cd917d49cc949c033a04fb964d",
            "248143e9d0a9446ba29993532ef09df9",
            "de46afffac7c41d6b6839afdd044b337",
            "6d5e15b364274d759b955e87222f20f4",
            "e5d9e087c9234c77accb148c98be301a"
          ]
        },
        "id": "esUmiWTISOma",
        "outputId": "0e8a2580-6786-4343-ab03-848715237b6e"
      },
      "execution_count": null,
      "outputs": [
        {
          "output_type": "stream",
          "name": "stderr",
          "text": [
            "WARNING:datasets.arrow_dataset:Loading cached processed dataset at /root/.cache/huggingface/datasets/parquet/default-11e37b9db50c5f27/0.0.0/2a3b91fbd88a2c90d1dbbb32b460cf621d31bd5b05b934492fdef7d8d6f236ec/cache-92f7eae7f3a3f4f9.arrow\n"
          ]
        },
        {
          "output_type": "display_data",
          "data": {
            "text/plain": [
              "Map:   0%|          | 0/81 [00:00<?, ? examples/s]"
            ],
            "application/vnd.jupyter.widget-view+json": {
              "version_major": 2,
              "version_minor": 0,
              "model_id": "3fef2cc7c2c343cfa88842c795746dd4"
            }
          },
          "metadata": {}
        }
      ]
    },
    {
      "cell_type": "code",
      "source": [
        "from transformers import RobertaConfig, RobertaModelWithHeads\n",
        "\n",
        "config = RobertaConfig.from_pretrained(\n",
        "    model_name,\n",
        "    num_labels=len(label),\n",
        ")\n",
        "model = RobertaModelWithHeads.from_pretrained(\n",
        "    model_name,\n",
        "    config=config,\n",
        ")"
      ],
      "metadata": {
        "colab": {
          "base_uri": "https://localhost:8080/"
        },
        "id": "z_KuG5GLeGPK",
        "outputId": "4712f53c-068b-4cae-da0c-ccdb7e667fed"
      },
      "execution_count": null,
      "outputs": [
        {
          "output_type": "stream",
          "name": "stderr",
          "text": [
            "/usr/local/lib/python3.10/dist-packages/transformers/adapters/models/roberta/adapter_model.py:274: FutureWarning: This class has been renamed to `RobertaAdapterModel` in v3. Please use the new class instead as this class might be removed in a future version.\n",
            "  warnings.warn(\n",
            "/usr/local/lib/python3.10/dist-packages/transformers/adapters/models/roberta/adapter_model.py:252: FutureWarning: This class has been renamed to `RobertaAdapterModel` in v3. Please use the new class instead as this class might be removed in a future version.\n",
            "  warnings.warn(\n",
            "Some weights of the model checkpoint at roberta-base were not used when initializing RobertaModelWithHeads: ['lm_head.bias', 'lm_head.layer_norm.weight', 'lm_head.dense.weight', 'lm_head.dense.bias', 'lm_head.layer_norm.bias']\n",
            "- This IS expected if you are initializing RobertaModelWithHeads from the checkpoint of a model trained on another task or with another architecture (e.g. initializing a BertForSequenceClassification model from a BertForPreTraining model).\n",
            "- This IS NOT expected if you are initializing RobertaModelWithHeads from the checkpoint of a model that you expect to be exactly identical (initializing a BertForSequenceClassification model from a BertForSequenceClassification model).\n",
            "Some weights of RobertaModelWithHeads were not initialized from the model checkpoint at roberta-base and are newly initialized: ['roberta.pooler.dense.bias', 'roberta.pooler.dense.weight']\n",
            "You should probably TRAIN this model on a down-stream task to be able to use it for predictions and inference.\n"
          ]
        }
      ]
    },
    {
      "cell_type": "code",
      "source": [
        "# Add a new adapter\n",
        "model.add_adapter(\"baseline\")\n",
        "model.add_classification_head(\n",
        "    \"baseline\",\n",
        "    num_labels= len(label),\n",
        "    id2label=id_to_label\n",
        "  )\n",
        "# Activate the adapter\n",
        "model.train_adapter(\"baseline\")"
      ],
      "metadata": {
        "id": "CZTj5ji5geqZ"
      },
      "execution_count": null,
      "outputs": []
    },
    {
      "cell_type": "code",
      "source": [
        "import numpy as np\n",
        "from transformers import TrainingArguments, AdapterTrainer, EvalPrediction\n",
        "\n",
        "training_args = TrainingArguments(\n",
        "    f\"{model_name}-baseline_adapter\",\n",
        "    evaluation_strategy = 'epoch',\n",
        "    save_strategy=\"epoch\",\n",
        "    learning_rate=1e-4,\n",
        "    num_train_epochs=6,\n",
        "    per_device_train_batch_size=16,\n",
        "    per_device_eval_batch_size=16,\n",
        "    weight_decay=0.01,\n",
        "    load_best_model_at_end=True,\n",
        "    report_to=\"neptune\",\n",
        "    # The next line is important to ensure the dataset labels are properly passed to the model\n",
        "    remove_unused_columns=False,\n",
        ")\n",
        "\n",
        "def compute_accuracy(p: EvalPrediction):\n",
        "  preds = np.argmax(p.predictions, axis=1)\n",
        "  return {\"acc\": (preds == p.label_ids).mean()}\n",
        "\n",
        "trainer = AdapterTrainer(\n",
        "    model=model,\n",
        "    args=training_args,\n",
        "    train_dataset=train_ds,\n",
        "    eval_dataset=test_ds,\n",
        "    compute_metrics=compute_accuracy,\n",
        ")"
      ],
      "metadata": {
        "colab": {
          "base_uri": "https://localhost:8080/"
        },
        "id": "K4RYY3n7v-D_",
        "outputId": "f7f709d0-119a-4e13-c4e4-0f31e4121144"
      },
      "execution_count": null,
      "outputs": [
        {
          "output_type": "stream",
          "name": "stderr",
          "text": [
            "/usr/local/lib/python3.10/dist-packages/transformers/integrations.py:1114: NeptuneDeprecationWarning: You're importing the Neptune client library via the deprecated `neptune.new` module, which will be removed in a future release. Import directly from `neptune` instead.\n",
            "  from neptune.new.metadata_containers.run import Run\n"
          ]
        }
      ]
    },
    {
      "cell_type": "code",
      "source": [
        "trainer.train()"
      ],
      "metadata": {
        "colab": {
          "base_uri": "https://localhost:8080/",
          "height": 1000
        },
        "id": "Q_8zfBmRwh2y",
        "outputId": "23a1cb1c-53d9-4930-d524-399666989626"
      },
      "execution_count": null,
      "outputs": [
        {
          "output_type": "stream",
          "name": "stderr",
          "text": [
            "/usr/local/lib/python3.10/dist-packages/transformers/optimization.py:306: FutureWarning: This implementation of AdamW is deprecated and will be removed in a future version. Use the PyTorch implementation torch.optim.AdamW instead, or set `no_deprecation_warning=True` to disable this warning\n",
            "  warnings.warn(\n",
            "***** Running training *****\n",
            "  Num examples = 567\n",
            "  Num Epochs = 6\n",
            "  Instantaneous batch size per device = 16\n",
            "  Total train batch size (w. parallel, distributed & accumulation) = 16\n",
            "  Gradient Accumulation steps = 1\n",
            "  Total optimization steps = 216\n",
            "  Number of trainable parameters = 1509728\n",
            "/usr/local/lib/python3.10/dist-packages/transformers/integrations.py:1164: NeptuneWarning: To avoid unintended consumption of logging hours during interactive sessions, the following monitoring options are disabled unless set to 'True' when initializing the run: 'capture_stdout', 'capture_stderr', and 'capture_hardware_metrics'.\n",
            "  self._run = init_run(**self._init_run_kwargs, **additional_neptune_kwargs)\n"
          ]
        },
        {
          "output_type": "stream",
          "name": "stdout",
          "text": [
            "https://app.neptune.ai/dducl/Dissertation/e/DIS-2\n"
          ]
        },
        {
          "output_type": "stream",
          "name": "stderr",
          "text": [
            "/usr/local/lib/python3.10/dist-packages/transformers/integrations.py:1221: NeptuneUnsupportedType: You're attempting to log a type that is not directly supported by Neptune (<class 'NoneType'>).\n",
            "        Convert the value to a supported type, such as a string or float, or use stringify_unsupported(obj)\n",
            "        for dictionaries or collections that contain unsupported values.\n",
            "        For more, see https://docs.neptune.ai/help/value_of_unsupported_type\n",
            "  self._metadata_namespace[NeptuneCallback.model_parameters_key] = model.config.to_dict()\n",
            "/usr/local/lib/python3.10/dist-packages/transformers/integrations.py:1221: NeptuneUnsupportedType: You're attempting to log a type that is not directly supported by Neptune (<class 'list'>).\n",
            "        Convert the value to a supported type, such as a string or float, or use stringify_unsupported(obj)\n",
            "        for dictionaries or collections that contain unsupported values.\n",
            "        For more, see https://docs.neptune.ai/help/value_of_unsupported_type\n",
            "  self._metadata_namespace[NeptuneCallback.model_parameters_key] = model.config.to_dict()\n"
          ]
        },
        {
          "output_type": "display_data",
          "data": {
            "text/plain": [
              "<IPython.core.display.HTML object>"
            ],
            "text/html": [
              "\n",
              "    <div>\n",
              "      \n",
              "      <progress value='216' max='216' style='width:300px; height:20px; vertical-align: middle;'></progress>\n",
              "      [216/216 1:09:21, Epoch 6/6]\n",
              "    </div>\n",
              "    <table border=\"1\" class=\"dataframe\">\n",
              "  <thead>\n",
              " <tr style=\"text-align: left;\">\n",
              "      <th>Epoch</th>\n",
              "      <th>Training Loss</th>\n",
              "      <th>Validation Loss</th>\n",
              "      <th>Acc</th>\n",
              "    </tr>\n",
              "  </thead>\n",
              "  <tbody>\n",
              "    <tr>\n",
              "      <td>1</td>\n",
              "      <td>No log</td>\n",
              "      <td>3.189548</td>\n",
              "      <td>0.209877</td>\n",
              "    </tr>\n",
              "    <tr>\n",
              "      <td>2</td>\n",
              "      <td>No log</td>\n",
              "      <td>3.033872</td>\n",
              "      <td>0.209877</td>\n",
              "    </tr>\n",
              "    <tr>\n",
              "      <td>3</td>\n",
              "      <td>No log</td>\n",
              "      <td>2.824613</td>\n",
              "      <td>0.234568</td>\n",
              "    </tr>\n",
              "    <tr>\n",
              "      <td>4</td>\n",
              "      <td>No log</td>\n",
              "      <td>2.561463</td>\n",
              "      <td>0.296296</td>\n",
              "    </tr>\n",
              "    <tr>\n",
              "      <td>5</td>\n",
              "      <td>No log</td>\n",
              "      <td>2.433053</td>\n",
              "      <td>0.382716</td>\n",
              "    </tr>\n",
              "    <tr>\n",
              "      <td>6</td>\n",
              "      <td>No log</td>\n",
              "      <td>2.382947</td>\n",
              "      <td>0.395062</td>\n",
              "    </tr>\n",
              "  </tbody>\n",
              "</table><p>"
            ]
          },
          "metadata": {}
        },
        {
          "output_type": "stream",
          "name": "stderr",
          "text": [
            "***** Running Evaluation *****\n",
            "  Num examples = 81\n",
            "  Batch size = 16\n",
            "Saving model checkpoint to roberta-base-baseline_adapter/checkpoint-36\n",
            "Configuration saved in roberta-base-baseline_adapter/checkpoint-36/baseline/adapter_config.json\n",
            "Module weights saved in roberta-base-baseline_adapter/checkpoint-36/baseline/pytorch_adapter.bin\n",
            "Configuration saved in roberta-base-baseline_adapter/checkpoint-36/baseline/head_config.json\n",
            "Module weights saved in roberta-base-baseline_adapter/checkpoint-36/baseline/pytorch_model_head.bin\n",
            "Configuration saved in roberta-base-baseline_adapter/checkpoint-36/baseline/head_config.json\n",
            "Module weights saved in roberta-base-baseline_adapter/checkpoint-36/baseline/pytorch_model_head.bin\n",
            "***** Running Evaluation *****\n",
            "  Num examples = 81\n",
            "  Batch size = 16\n",
            "Saving model checkpoint to roberta-base-baseline_adapter/checkpoint-72\n",
            "Configuration saved in roberta-base-baseline_adapter/checkpoint-72/baseline/adapter_config.json\n",
            "Module weights saved in roberta-base-baseline_adapter/checkpoint-72/baseline/pytorch_adapter.bin\n",
            "Configuration saved in roberta-base-baseline_adapter/checkpoint-72/baseline/head_config.json\n",
            "Module weights saved in roberta-base-baseline_adapter/checkpoint-72/baseline/pytorch_model_head.bin\n",
            "Configuration saved in roberta-base-baseline_adapter/checkpoint-72/baseline/head_config.json\n",
            "Module weights saved in roberta-base-baseline_adapter/checkpoint-72/baseline/pytorch_model_head.bin\n",
            "***** Running Evaluation *****\n",
            "  Num examples = 81\n",
            "  Batch size = 16\n",
            "Saving model checkpoint to roberta-base-baseline_adapter/checkpoint-108\n",
            "Configuration saved in roberta-base-baseline_adapter/checkpoint-108/baseline/adapter_config.json\n",
            "Module weights saved in roberta-base-baseline_adapter/checkpoint-108/baseline/pytorch_adapter.bin\n",
            "Configuration saved in roberta-base-baseline_adapter/checkpoint-108/baseline/head_config.json\n",
            "Module weights saved in roberta-base-baseline_adapter/checkpoint-108/baseline/pytorch_model_head.bin\n",
            "Configuration saved in roberta-base-baseline_adapter/checkpoint-108/baseline/head_config.json\n",
            "Module weights saved in roberta-base-baseline_adapter/checkpoint-108/baseline/pytorch_model_head.bin\n",
            "***** Running Evaluation *****\n",
            "  Num examples = 81\n",
            "  Batch size = 16\n",
            "Saving model checkpoint to roberta-base-baseline_adapter/checkpoint-144\n",
            "Configuration saved in roberta-base-baseline_adapter/checkpoint-144/baseline/adapter_config.json\n",
            "Module weights saved in roberta-base-baseline_adapter/checkpoint-144/baseline/pytorch_adapter.bin\n",
            "Configuration saved in roberta-base-baseline_adapter/checkpoint-144/baseline/head_config.json\n",
            "Module weights saved in roberta-base-baseline_adapter/checkpoint-144/baseline/pytorch_model_head.bin\n",
            "Configuration saved in roberta-base-baseline_adapter/checkpoint-144/baseline/head_config.json\n",
            "Module weights saved in roberta-base-baseline_adapter/checkpoint-144/baseline/pytorch_model_head.bin\n",
            "***** Running Evaluation *****\n",
            "  Num examples = 81\n",
            "  Batch size = 16\n",
            "Saving model checkpoint to roberta-base-baseline_adapter/checkpoint-180\n",
            "Configuration saved in roberta-base-baseline_adapter/checkpoint-180/baseline/adapter_config.json\n",
            "Module weights saved in roberta-base-baseline_adapter/checkpoint-180/baseline/pytorch_adapter.bin\n",
            "Configuration saved in roberta-base-baseline_adapter/checkpoint-180/baseline/head_config.json\n",
            "Module weights saved in roberta-base-baseline_adapter/checkpoint-180/baseline/pytorch_model_head.bin\n",
            "Configuration saved in roberta-base-baseline_adapter/checkpoint-180/baseline/head_config.json\n",
            "Module weights saved in roberta-base-baseline_adapter/checkpoint-180/baseline/pytorch_model_head.bin\n",
            "***** Running Evaluation *****\n",
            "  Num examples = 81\n",
            "  Batch size = 16\n",
            "Saving model checkpoint to roberta-base-baseline_adapter/checkpoint-216\n",
            "Configuration saved in roberta-base-baseline_adapter/checkpoint-216/baseline/adapter_config.json\n",
            "Module weights saved in roberta-base-baseline_adapter/checkpoint-216/baseline/pytorch_adapter.bin\n",
            "Configuration saved in roberta-base-baseline_adapter/checkpoint-216/baseline/head_config.json\n",
            "Module weights saved in roberta-base-baseline_adapter/checkpoint-216/baseline/pytorch_model_head.bin\n",
            "Configuration saved in roberta-base-baseline_adapter/checkpoint-216/baseline/head_config.json\n",
            "Module weights saved in roberta-base-baseline_adapter/checkpoint-216/baseline/pytorch_model_head.bin\n",
            "\n",
            "\n",
            "Training completed. Do not forget to share your model on huggingface.co/models =)\n",
            "\n",
            "\n",
            "Loading best adapter(s) from roberta-base-baseline_adapter/checkpoint-216 (score: 2.3829472064971924).\n",
            "Loading module configuration from roberta-base-baseline_adapter/checkpoint-216/baseline/adapter_config.json\n",
            "Overwriting existing adapter 'baseline'.\n",
            "Loading module weights from roberta-base-baseline_adapter/checkpoint-216/baseline/pytorch_adapter.bin\n",
            "Loading module configuration from roberta-base-baseline_adapter/checkpoint-216/baseline/head_config.json\n",
            "Overwriting existing head 'baseline'\n",
            "Adding head 'baseline' with config {'head_type': 'classification', 'num_labels': 32, 'layers': 2, 'activation_function': 'tanh', 'label2id': {'Act_1954': 8, 'Alteration_non_structural': 22, 'Alteration_structural': 21, 'Assignment_whole': 24, 'Current_Tenant': 7, 'DOL': 1, 'Guarantor': 3, 'Insurance_full_reinstatment': 16, 'Insurance_suspension': 17, 'Landlord_determine': 9, 'Parties': 2, 'Permitted_use': 23, 'Premise': 0, 'Remaining_Review_date': 13, 'Rent': 4, 'Rent_Commencement_date': 12, 'Rent_Review_method': 14, 'Rent_Review_upwards': 15, 'Rent_deduction': 18, 'Rent_payable_quarterly': 10, 'Repair_decoration': 20, 'Repair_obligation': 19, 'Tenant_determine': 5, 'Term': 6, 'Underlet_part': 25, 'Underlet_whole': 26, 'Uninsured_specific': 31, 'VAT_recoverable': 27, 'Yield_up': 29, 'service_charge_cap': 30, 'service_landlord_convenant': 11, 'service_proportion': 28}, 'use_pooler': False, 'bias': True}.\n",
            "Loading module weights from roberta-base-baseline_adapter/checkpoint-216/baseline/pytorch_model_head.bin\n"
          ]
        },
        {
          "output_type": "stream",
          "name": "stdout",
          "text": [
            "Shutting down background jobs, please wait a moment...\n",
            "Done!\n",
            "Waiting for the remaining 12 operations to synchronize with Neptune. Do not kill this process.\n",
            "All 12 operations synced, thanks for waiting!\n",
            "Explore the metadata in the Neptune app:\n",
            "https://app.neptune.ai/dducl/Dissertation/e/DIS-2/metadata\n"
          ]
        },
        {
          "output_type": "execute_result",
          "data": {
            "text/plain": [
              "TrainOutput(global_step=216, training_loss=2.7729257654260704, metrics={'train_runtime': 4194.0347, 'train_samples_per_second': 0.811, 'train_steps_per_second': 0.052, 'total_flos': 266855220576000.0, 'train_loss': 2.7729257654260704, 'epoch': 6.0})"
            ]
          },
          "metadata": {},
          "execution_count": 13
        }
      ]
    },
    {
      "cell_type": "markdown",
      "source": [
        "## Adpater fusion\n",
        "As the previous baseline adapter performs not too well, let us examine whether use existing adpater and fusion will help to enhance the performance of the model"
      ],
      "metadata": {
        "id": "YrY_aFq6QzUG"
      }
    },
    {
      "cell_type": "code",
      "source": [
        "# Use the same model as before\n",
        "model2 = RobertaModelWithHeads.from_pretrained(\n",
        "    model_name,\n",
        "    config=config,\n",
        ")"
      ],
      "metadata": {
        "colab": {
          "base_uri": "https://localhost:8080/"
        },
        "id": "VzJvyNuqQyvC",
        "outputId": "ec5c1bcc-cc2e-4a14-e1b9-fec5728c7420"
      },
      "execution_count": null,
      "outputs": [
        {
          "output_type": "stream",
          "name": "stderr",
          "text": [
            "Some weights of the model checkpoint at roberta-base were not used when initializing RobertaModelWithHeads: ['lm_head.bias', 'lm_head.layer_norm.weight', 'lm_head.dense.weight', 'lm_head.dense.bias', 'lm_head.layer_norm.bias']\n",
            "- This IS expected if you are initializing RobertaModelWithHeads from the checkpoint of a model trained on another task or with another architecture (e.g. initializing a BertForSequenceClassification model from a BertForPreTraining model).\n",
            "- This IS NOT expected if you are initializing RobertaModelWithHeads from the checkpoint of a model that you expect to be exactly identical (initializing a BertForSequenceClassification model from a BertForSequenceClassification model).\n",
            "Some weights of RobertaModelWithHeads were not initialized from the model checkpoint at roberta-base and are newly initialized: ['roberta.pooler.dense.bias', 'roberta.pooler.dense.weight']\n",
            "You should probably TRAIN this model on a down-stream task to be able to use it for predictions and inference.\n"
          ]
        }
      ]
    },
    {
      "cell_type": "code",
      "source": [
        "from transformers.adapters.composition import Fuse\n",
        "# Load the pre-trained adapters we want to fuse\n",
        "model2.add_adapter('baseline_2')\n",
        "model2.load_adapter(\"AdapterHub/roberta-base-pf-pmb_sem_tagging\",load_as=\"pmbst\", source=\"hf\", with_head=False)\n",
        "model2.load_adapter(\"nli/multinli@ukp\", load_as=\"multinli\", with_head=False)\n",
        "# Add a fusion layer for all loaded adapters\n",
        "model2.add_adapter_fusion(Fuse(\"pmbst\", \"multinli\",'baseline_2'))\n",
        "model2.set_active_adapters(Fuse(\"pmbst\", \"multinli\",'baseline_2'))\n",
        "model2.add_classification_head(\n",
        "    \"baseline_2\",\n",
        "    num_labels= len(label),\n",
        "    id2label=id_to_label,\n",
        "    overwrite_ok=True\n",
        "  )\n",
        "# Unfreeze and activate fusion setup\n",
        "adapter_setup = Fuse(\"pmbst\", \"multinli\",'baseline_2')\n",
        "model2.train_adapter_fusion(adapter_setup)"
      ],
      "metadata": {
        "colab": {
          "base_uri": "https://localhost:8080/",
          "height": 67,
          "referenced_widgets": [
            "c5fa077e1c2f469594b0e3ea55143405",
            "c4aa066fc304444c8bb023423be967e4",
            "28936619fd6b4207b7a8481ff0fb270e",
            "ff1eb565ae22445d8d17ebf61d933f07",
            "e769d6d804f84493a7ff2fc735ab104b",
            "3350c28b5e6945e797730d84eff8a292",
            "93ee9028bf344691a0a4f89d8945c08f",
            "35c33230924140f0be69ed90578f73c5",
            "9b5de2cf3e034c3393128078c85f7eb1",
            "06401cb1cbd04eeda8599f5b24742588",
            "1084d5e9d4de4619ae25b0aa9c014c5f"
          ]
        },
        "id": "sMaBiuVPUxJ1",
        "outputId": "d5a06e33-b5a9-4c72-8c90-5b08c58984b4"
      },
      "execution_count": null,
      "outputs": [
        {
          "output_type": "display_data",
          "data": {
            "text/plain": [
              "Fetching 6 files:   0%|          | 0/6 [00:00<?, ?it/s]"
            ],
            "application/vnd.jupyter.widget-view+json": {
              "version_major": 2,
              "version_minor": 0,
              "model_id": "c5fa077e1c2f469594b0e3ea55143405"
            }
          },
          "metadata": {}
        },
        {
          "output_type": "stream",
          "name": "stderr",
          "text": [
            "Overwriting existing adapter 'multinli'.\n"
          ]
        }
      ]
    },
    {
      "cell_type": "code",
      "source": [
        "training_args = TrainingArguments(\n",
        "    f\"model2-adapter_fushion\",\n",
        "    evaluation_strategy = 'epoch',\n",
        "    save_strategy=\"epoch\",\n",
        "    learning_rate=1e-4,\n",
        "    num_train_epochs=6,\n",
        "    per_device_train_batch_size=16,\n",
        "    per_device_eval_batch_size=16,\n",
        "    weight_decay=0.01,\n",
        "    load_best_model_at_end=True,\n",
        "    report_to=\"neptune\",\n",
        "    # The next line is important to ensure the dataset labels are properly passed to the model\n",
        "    remove_unused_columns=False,\n",
        ")\n",
        "\n",
        "def compute_accuracy(p: EvalPrediction):\n",
        "  preds = np.argmax(p.predictions, axis=1)\n",
        "  return {\"acc\": (preds == p.label_ids).mean()}\n",
        "\n",
        "trainer2 = AdapterTrainer(\n",
        "    model=model2,\n",
        "    args=training_args,\n",
        "    train_dataset=train_ds,\n",
        "    eval_dataset=test_ds,\n",
        "    compute_metrics=compute_accuracy,\n",
        ")"
      ],
      "metadata": {
        "colab": {
          "base_uri": "https://localhost:8080/"
        },
        "id": "xBigw8tggf9j",
        "outputId": "d57ae7de-004c-497e-d738-0f7bd0943cca"
      },
      "execution_count": null,
      "outputs": [
        {
          "output_type": "stream",
          "name": "stderr",
          "text": [
            "/usr/local/lib/python3.10/dist-packages/transformers/integrations.py:1114: NeptuneDeprecationWarning: You're importing the Neptune client library via the deprecated `neptune.new` module, which will be removed in a future release. Import directly from `neptune` instead.\n",
            "  from neptune.new.metadata_containers.run import Run\n"
          ]
        }
      ]
    },
    {
      "cell_type": "code",
      "source": [
        "trainer2.train()"
      ],
      "metadata": {
        "colab": {
          "base_uri": "https://localhost:8080/",
          "height": 1000
        },
        "id": "lNQIGVZQi1E2",
        "outputId": "273f4925-0f67-4d0f-99bd-8197976ff53c"
      },
      "execution_count": null,
      "outputs": [
        {
          "output_type": "stream",
          "name": "stderr",
          "text": [
            "***** Running training *****\n",
            "  Num examples = 567\n",
            "  Num Epochs = 6\n",
            "  Instantaneous batch size per device = 16\n",
            "  Total train batch size (w. parallel, distributed & accumulation) = 16\n",
            "  Gradient Accumulation steps = 1\n",
            "  Total optimization steps = 216\n",
            "  Number of trainable parameters = 21867296\n"
          ]
        },
        {
          "output_type": "stream",
          "name": "stdout",
          "text": [
            "https://app.neptune.ai/dducl/Dissertation/e/DIS-4\n"
          ]
        },
        {
          "output_type": "stream",
          "name": "stderr",
          "text": [
            "/usr/local/lib/python3.10/dist-packages/transformers/integrations.py:1221: NeptuneUnsupportedType: You're attempting to log a type that is not directly supported by Neptune (<class 'NoneType'>).\n",
            "        Convert the value to a supported type, such as a string or float, or use stringify_unsupported(obj)\n",
            "        for dictionaries or collections that contain unsupported values.\n",
            "        For more, see https://docs.neptune.ai/help/value_of_unsupported_type\n",
            "  self._metadata_namespace[NeptuneCallback.model_parameters_key] = model.config.to_dict()\n",
            "/usr/local/lib/python3.10/dist-packages/transformers/integrations.py:1221: NeptuneUnsupportedType: You're attempting to log a type that is not directly supported by Neptune (<class 'list'>).\n",
            "        Convert the value to a supported type, such as a string or float, or use stringify_unsupported(obj)\n",
            "        for dictionaries or collections that contain unsupported values.\n",
            "        For more, see https://docs.neptune.ai/help/value_of_unsupported_type\n",
            "  self._metadata_namespace[NeptuneCallback.model_parameters_key] = model.config.to_dict()\n"
          ]
        },
        {
          "output_type": "display_data",
          "data": {
            "text/plain": [
              "<IPython.core.display.HTML object>"
            ],
            "text/html": [
              "\n",
              "    <div>\n",
              "      \n",
              "      <progress value='216' max='216' style='width:300px; height:20px; vertical-align: middle;'></progress>\n",
              "      [216/216 2:09:21, Epoch 6/6]\n",
              "    </div>\n",
              "    <table border=\"1\" class=\"dataframe\">\n",
              "  <thead>\n",
              " <tr style=\"text-align: left;\">\n",
              "      <th>Epoch</th>\n",
              "      <th>Training Loss</th>\n",
              "      <th>Validation Loss</th>\n",
              "      <th>Acc</th>\n",
              "    </tr>\n",
              "  </thead>\n",
              "  <tbody>\n",
              "    <tr>\n",
              "      <td>1</td>\n",
              "      <td>No log</td>\n",
              "      <td>3.023161</td>\n",
              "      <td>0.296296</td>\n",
              "    </tr>\n",
              "    <tr>\n",
              "      <td>2</td>\n",
              "      <td>No log</td>\n",
              "      <td>2.658662</td>\n",
              "      <td>0.296296</td>\n",
              "    </tr>\n",
              "    <tr>\n",
              "      <td>3</td>\n",
              "      <td>No log</td>\n",
              "      <td>2.397679</td>\n",
              "      <td>0.333333</td>\n",
              "    </tr>\n",
              "    <tr>\n",
              "      <td>4</td>\n",
              "      <td>No log</td>\n",
              "      <td>2.224698</td>\n",
              "      <td>0.407407</td>\n",
              "    </tr>\n",
              "    <tr>\n",
              "      <td>5</td>\n",
              "      <td>No log</td>\n",
              "      <td>2.130226</td>\n",
              "      <td>0.456790</td>\n",
              "    </tr>\n",
              "    <tr>\n",
              "      <td>6</td>\n",
              "      <td>No log</td>\n",
              "      <td>2.087685</td>\n",
              "      <td>0.444444</td>\n",
              "    </tr>\n",
              "  </tbody>\n",
              "</table><p>"
            ]
          },
          "metadata": {}
        },
        {
          "output_type": "stream",
          "name": "stderr",
          "text": [
            "***** Running Evaluation *****\n",
            "  Num examples = 81\n",
            "  Batch size = 16\n",
            "Saving model checkpoint to model2-adapter_fushion/checkpoint-36\n",
            "Configuration saved in model2-adapter_fushion/checkpoint-36/pmb/adapter_config.json\n",
            "Module weights saved in model2-adapter_fushion/checkpoint-36/pmb/pytorch_adapter.bin\n",
            "Configuration saved in model2-adapter_fushion/checkpoint-36/multinli/adapter_config.json\n",
            "Module weights saved in model2-adapter_fushion/checkpoint-36/multinli/pytorch_adapter.bin\n",
            "Configuration saved in model2-adapter_fushion/checkpoint-36/baseline_2/adapter_config.json\n",
            "Module weights saved in model2-adapter_fushion/checkpoint-36/baseline_2/pytorch_adapter.bin\n",
            "Configuration saved in model2-adapter_fushion/checkpoint-36/baseline_2/head_config.json\n",
            "Module weights saved in model2-adapter_fushion/checkpoint-36/baseline_2/pytorch_model_head.bin\n",
            "Configuration saved in model2-adapter_fushion/checkpoint-36/pmbst/adapter_config.json\n",
            "Module weights saved in model2-adapter_fushion/checkpoint-36/pmbst/pytorch_adapter.bin\n",
            "Configuration saved in model2-adapter_fushion/checkpoint-36/pmb,multinli,baseline_2/adapter_fusion_config.json\n",
            "Module weights saved in model2-adapter_fushion/checkpoint-36/pmb,multinli,baseline_2/pytorch_model_adapter_fusion.bin\n",
            "Configuration saved in model2-adapter_fushion/checkpoint-36/pmbst,multinli,baseline_2/adapter_fusion_config.json\n",
            "Module weights saved in model2-adapter_fushion/checkpoint-36/pmbst,multinli,baseline_2/pytorch_model_adapter_fusion.bin\n",
            "Configuration saved in model2-adapter_fushion/checkpoint-36/baseline_2/head_config.json\n",
            "Module weights saved in model2-adapter_fushion/checkpoint-36/baseline_2/pytorch_model_head.bin\n",
            "***** Running Evaluation *****\n",
            "  Num examples = 81\n",
            "  Batch size = 16\n",
            "Saving model checkpoint to model2-adapter_fushion/checkpoint-72\n",
            "Configuration saved in model2-adapter_fushion/checkpoint-72/pmb/adapter_config.json\n",
            "Module weights saved in model2-adapter_fushion/checkpoint-72/pmb/pytorch_adapter.bin\n",
            "Configuration saved in model2-adapter_fushion/checkpoint-72/multinli/adapter_config.json\n",
            "Module weights saved in model2-adapter_fushion/checkpoint-72/multinli/pytorch_adapter.bin\n",
            "Configuration saved in model2-adapter_fushion/checkpoint-72/baseline_2/adapter_config.json\n",
            "Module weights saved in model2-adapter_fushion/checkpoint-72/baseline_2/pytorch_adapter.bin\n",
            "Configuration saved in model2-adapter_fushion/checkpoint-72/baseline_2/head_config.json\n",
            "Module weights saved in model2-adapter_fushion/checkpoint-72/baseline_2/pytorch_model_head.bin\n",
            "Configuration saved in model2-adapter_fushion/checkpoint-72/pmbst/adapter_config.json\n",
            "Module weights saved in model2-adapter_fushion/checkpoint-72/pmbst/pytorch_adapter.bin\n",
            "Configuration saved in model2-adapter_fushion/checkpoint-72/pmb,multinli,baseline_2/adapter_fusion_config.json\n",
            "Module weights saved in model2-adapter_fushion/checkpoint-72/pmb,multinli,baseline_2/pytorch_model_adapter_fusion.bin\n",
            "Configuration saved in model2-adapter_fushion/checkpoint-72/pmbst,multinli,baseline_2/adapter_fusion_config.json\n",
            "Module weights saved in model2-adapter_fushion/checkpoint-72/pmbst,multinli,baseline_2/pytorch_model_adapter_fusion.bin\n",
            "Configuration saved in model2-adapter_fushion/checkpoint-72/baseline_2/head_config.json\n",
            "Module weights saved in model2-adapter_fushion/checkpoint-72/baseline_2/pytorch_model_head.bin\n",
            "***** Running Evaluation *****\n",
            "  Num examples = 81\n",
            "  Batch size = 16\n",
            "Saving model checkpoint to model2-adapter_fushion/checkpoint-108\n",
            "Configuration saved in model2-adapter_fushion/checkpoint-108/pmb/adapter_config.json\n",
            "Module weights saved in model2-adapter_fushion/checkpoint-108/pmb/pytorch_adapter.bin\n",
            "Configuration saved in model2-adapter_fushion/checkpoint-108/multinli/adapter_config.json\n",
            "Module weights saved in model2-adapter_fushion/checkpoint-108/multinli/pytorch_adapter.bin\n",
            "Configuration saved in model2-adapter_fushion/checkpoint-108/baseline_2/adapter_config.json\n",
            "Module weights saved in model2-adapter_fushion/checkpoint-108/baseline_2/pytorch_adapter.bin\n",
            "Configuration saved in model2-adapter_fushion/checkpoint-108/baseline_2/head_config.json\n",
            "Module weights saved in model2-adapter_fushion/checkpoint-108/baseline_2/pytorch_model_head.bin\n",
            "Configuration saved in model2-adapter_fushion/checkpoint-108/pmbst/adapter_config.json\n",
            "Module weights saved in model2-adapter_fushion/checkpoint-108/pmbst/pytorch_adapter.bin\n",
            "Configuration saved in model2-adapter_fushion/checkpoint-108/pmb,multinli,baseline_2/adapter_fusion_config.json\n",
            "Module weights saved in model2-adapter_fushion/checkpoint-108/pmb,multinli,baseline_2/pytorch_model_adapter_fusion.bin\n",
            "Configuration saved in model2-adapter_fushion/checkpoint-108/pmbst,multinli,baseline_2/adapter_fusion_config.json\n",
            "Module weights saved in model2-adapter_fushion/checkpoint-108/pmbst,multinli,baseline_2/pytorch_model_adapter_fusion.bin\n",
            "Configuration saved in model2-adapter_fushion/checkpoint-108/baseline_2/head_config.json\n",
            "Module weights saved in model2-adapter_fushion/checkpoint-108/baseline_2/pytorch_model_head.bin\n",
            "***** Running Evaluation *****\n",
            "  Num examples = 81\n",
            "  Batch size = 16\n",
            "Saving model checkpoint to model2-adapter_fushion/checkpoint-144\n",
            "Configuration saved in model2-adapter_fushion/checkpoint-144/pmb/adapter_config.json\n",
            "Module weights saved in model2-adapter_fushion/checkpoint-144/pmb/pytorch_adapter.bin\n",
            "Configuration saved in model2-adapter_fushion/checkpoint-144/multinli/adapter_config.json\n",
            "Module weights saved in model2-adapter_fushion/checkpoint-144/multinli/pytorch_adapter.bin\n",
            "Configuration saved in model2-adapter_fushion/checkpoint-144/baseline_2/adapter_config.json\n",
            "Module weights saved in model2-adapter_fushion/checkpoint-144/baseline_2/pytorch_adapter.bin\n",
            "Configuration saved in model2-adapter_fushion/checkpoint-144/baseline_2/head_config.json\n",
            "Module weights saved in model2-adapter_fushion/checkpoint-144/baseline_2/pytorch_model_head.bin\n",
            "Configuration saved in model2-adapter_fushion/checkpoint-144/pmbst/adapter_config.json\n",
            "Module weights saved in model2-adapter_fushion/checkpoint-144/pmbst/pytorch_adapter.bin\n",
            "Configuration saved in model2-adapter_fushion/checkpoint-144/pmb,multinli,baseline_2/adapter_fusion_config.json\n",
            "Module weights saved in model2-adapter_fushion/checkpoint-144/pmb,multinli,baseline_2/pytorch_model_adapter_fusion.bin\n",
            "Configuration saved in model2-adapter_fushion/checkpoint-144/pmbst,multinli,baseline_2/adapter_fusion_config.json\n",
            "Module weights saved in model2-adapter_fushion/checkpoint-144/pmbst,multinli,baseline_2/pytorch_model_adapter_fusion.bin\n",
            "Configuration saved in model2-adapter_fushion/checkpoint-144/baseline_2/head_config.json\n",
            "Module weights saved in model2-adapter_fushion/checkpoint-144/baseline_2/pytorch_model_head.bin\n",
            "***** Running Evaluation *****\n",
            "  Num examples = 81\n",
            "  Batch size = 16\n",
            "Saving model checkpoint to model2-adapter_fushion/checkpoint-180\n",
            "Configuration saved in model2-adapter_fushion/checkpoint-180/pmb/adapter_config.json\n",
            "Module weights saved in model2-adapter_fushion/checkpoint-180/pmb/pytorch_adapter.bin\n",
            "Configuration saved in model2-adapter_fushion/checkpoint-180/multinli/adapter_config.json\n",
            "Module weights saved in model2-adapter_fushion/checkpoint-180/multinli/pytorch_adapter.bin\n",
            "Configuration saved in model2-adapter_fushion/checkpoint-180/baseline_2/adapter_config.json\n",
            "Module weights saved in model2-adapter_fushion/checkpoint-180/baseline_2/pytorch_adapter.bin\n",
            "Configuration saved in model2-adapter_fushion/checkpoint-180/baseline_2/head_config.json\n",
            "Module weights saved in model2-adapter_fushion/checkpoint-180/baseline_2/pytorch_model_head.bin\n",
            "Configuration saved in model2-adapter_fushion/checkpoint-180/pmbst/adapter_config.json\n",
            "Module weights saved in model2-adapter_fushion/checkpoint-180/pmbst/pytorch_adapter.bin\n",
            "Configuration saved in model2-adapter_fushion/checkpoint-180/pmb,multinli,baseline_2/adapter_fusion_config.json\n",
            "Module weights saved in model2-adapter_fushion/checkpoint-180/pmb,multinli,baseline_2/pytorch_model_adapter_fusion.bin\n",
            "Configuration saved in model2-adapter_fushion/checkpoint-180/pmbst,multinli,baseline_2/adapter_fusion_config.json\n",
            "Module weights saved in model2-adapter_fushion/checkpoint-180/pmbst,multinli,baseline_2/pytorch_model_adapter_fusion.bin\n",
            "Configuration saved in model2-adapter_fushion/checkpoint-180/baseline_2/head_config.json\n",
            "Module weights saved in model2-adapter_fushion/checkpoint-180/baseline_2/pytorch_model_head.bin\n",
            "***** Running Evaluation *****\n",
            "  Num examples = 81\n",
            "  Batch size = 16\n",
            "Saving model checkpoint to model2-adapter_fushion/checkpoint-216\n",
            "Configuration saved in model2-adapter_fushion/checkpoint-216/pmb/adapter_config.json\n",
            "Module weights saved in model2-adapter_fushion/checkpoint-216/pmb/pytorch_adapter.bin\n",
            "Configuration saved in model2-adapter_fushion/checkpoint-216/multinli/adapter_config.json\n",
            "Module weights saved in model2-adapter_fushion/checkpoint-216/multinli/pytorch_adapter.bin\n",
            "Configuration saved in model2-adapter_fushion/checkpoint-216/baseline_2/adapter_config.json\n",
            "Module weights saved in model2-adapter_fushion/checkpoint-216/baseline_2/pytorch_adapter.bin\n",
            "Configuration saved in model2-adapter_fushion/checkpoint-216/baseline_2/head_config.json\n",
            "Module weights saved in model2-adapter_fushion/checkpoint-216/baseline_2/pytorch_model_head.bin\n",
            "Configuration saved in model2-adapter_fushion/checkpoint-216/pmbst/adapter_config.json\n",
            "Module weights saved in model2-adapter_fushion/checkpoint-216/pmbst/pytorch_adapter.bin\n",
            "Configuration saved in model2-adapter_fushion/checkpoint-216/pmb,multinli,baseline_2/adapter_fusion_config.json\n",
            "Module weights saved in model2-adapter_fushion/checkpoint-216/pmb,multinli,baseline_2/pytorch_model_adapter_fusion.bin\n",
            "Configuration saved in model2-adapter_fushion/checkpoint-216/pmbst,multinli,baseline_2/adapter_fusion_config.json\n",
            "Module weights saved in model2-adapter_fushion/checkpoint-216/pmbst,multinli,baseline_2/pytorch_model_adapter_fusion.bin\n",
            "Configuration saved in model2-adapter_fushion/checkpoint-216/baseline_2/head_config.json\n",
            "Module weights saved in model2-adapter_fushion/checkpoint-216/baseline_2/pytorch_model_head.bin\n",
            "\n",
            "\n",
            "Training completed. Do not forget to share your model on huggingface.co/models =)\n",
            "\n",
            "\n",
            "Loading best adapter(s) from model2-adapter_fushion/checkpoint-216 (score: 2.0876848697662354).\n",
            "Loading module configuration from model2-adapter_fushion/checkpoint-216/pmb/adapter_config.json\n",
            "Overwriting existing adapter 'pmb'.\n",
            "Loading module weights from model2-adapter_fushion/checkpoint-216/pmb/pytorch_adapter.bin\n",
            "No matching prediction head found in 'model2-adapter_fushion/checkpoint-216/pmb'\n",
            "Loading module configuration from model2-adapter_fushion/checkpoint-216/multinli/adapter_config.json\n",
            "Overwriting existing adapter 'multinli'.\n",
            "Loading module weights from model2-adapter_fushion/checkpoint-216/multinli/pytorch_adapter.bin\n",
            "No matching prediction head found in 'model2-adapter_fushion/checkpoint-216/multinli'\n",
            "Loading module configuration from model2-adapter_fushion/checkpoint-216/baseline_2/adapter_config.json\n",
            "Overwriting existing adapter 'baseline_2'.\n",
            "Loading module weights from model2-adapter_fushion/checkpoint-216/baseline_2/pytorch_adapter.bin\n",
            "Loading module configuration from model2-adapter_fushion/checkpoint-216/baseline_2/head_config.json\n",
            "Overwriting existing head 'baseline_2'\n",
            "Adding head 'baseline_2' with config {'head_type': 'classification', 'num_labels': 32, 'layers': 2, 'activation_function': 'tanh', 'label2id': {'Act_1954': 8, 'Alteration_non_structural': 22, 'Alteration_structural': 21, 'Assignment_whole': 24, 'Current_Tenant': 7, 'DOL': 1, 'Guarantor': 3, 'Insurance_full_reinstatment': 16, 'Insurance_suspension': 17, 'Landlord_determine': 9, 'Parties': 2, 'Permitted_use': 23, 'Premise': 0, 'Remaining_Review_date': 13, 'Rent': 4, 'Rent_Commencement_date': 12, 'Rent_Review_method': 14, 'Rent_Review_upwards': 15, 'Rent_deduction': 18, 'Rent_payable_quarterly': 10, 'Repair_decoration': 20, 'Repair_obligation': 19, 'Tenant_determine': 5, 'Term': 6, 'Underlet_part': 25, 'Underlet_whole': 26, 'Uninsured_specific': 31, 'VAT_recoverable': 27, 'Yield_up': 29, 'service_charge_cap': 30, 'service_landlord_convenant': 11, 'service_proportion': 28}, 'use_pooler': False, 'bias': True}.\n",
            "Loading module weights from model2-adapter_fushion/checkpoint-216/baseline_2/pytorch_model_head.bin\n",
            "Loading module configuration from model2-adapter_fushion/checkpoint-216/pmbst/adapter_config.json\n",
            "Overwriting existing adapter 'pmbst'.\n",
            "Loading module weights from model2-adapter_fushion/checkpoint-216/pmbst/pytorch_adapter.bin\n",
            "No matching prediction head found in 'model2-adapter_fushion/checkpoint-216/pmbst'\n",
            "Loading best adapter fusion(s) from model2-adapter_fushion/checkpoint-216 (score: 2.0876848697662354).\n",
            "Loading module configuration from model2-adapter_fushion/checkpoint-216/pmb,multinli,baseline_2/adapter_fusion_config.json\n",
            "Overwriting existing adapter fusion module 'pmb,multinli,baseline_2'\n",
            "Loading module weights from model2-adapter_fushion/checkpoint-216/pmb,multinli,baseline_2/pytorch_model_adapter_fusion.bin\n",
            "No matching prediction head found in 'model2-adapter_fushion/checkpoint-216/pmb,multinli,baseline_2'\n",
            "Loading module configuration from model2-adapter_fushion/checkpoint-216/pmbst,multinli,baseline_2/adapter_fusion_config.json\n",
            "Overwriting existing adapter fusion module 'pmbst,multinli,baseline_2'\n",
            "Loading module weights from model2-adapter_fushion/checkpoint-216/pmbst,multinli,baseline_2/pytorch_model_adapter_fusion.bin\n",
            "No matching prediction head found in 'model2-adapter_fushion/checkpoint-216/pmbst,multinli,baseline_2'\n"
          ]
        },
        {
          "output_type": "stream",
          "name": "stdout",
          "text": [
            "Shutting down background jobs, please wait a moment...\n",
            "Done!\n",
            "Waiting for the remaining 6 operations to synchronize with Neptune. Do not kill this process.\n",
            "All 6 operations synced, thanks for waiting!\n",
            "Explore the metadata in the Neptune app:\n",
            "https://app.neptune.ai/dducl/Dissertation/e/DIS-4/metadata\n"
          ]
        },
        {
          "output_type": "execute_result",
          "data": {
            "text/plain": [
              "TrainOutput(global_step=216, training_loss=2.481488263165509, metrics={'train_runtime': 7800.6237, 'train_samples_per_second': 0.436, 'train_steps_per_second': 0.028, 'total_flos': 340141485600000.0, 'train_loss': 2.481488263165509, 'epoch': 6.0})"
            ]
          },
          "metadata": {},
          "execution_count": 23
        }
      ]
    },
    {
      "cell_type": "code",
      "source": [
        "#save trainer\n",
        "model2.save_adapter_fusion(\"/content/drive/MyDrive/Dissertation/adapter_transformer/roberta-base-baseline_adapter\", \"pmbst,multinli,baseline_2\")\n",
        "model2.save_all_adapters(\"/content/drive/MyDrive/Dissertation/adapter_transformer/roberta-base-baseline_adapter\")"
      ],
      "metadata": {
        "colab": {
          "base_uri": "https://localhost:8080/"
        },
        "id": "nygBvHfo_wlr",
        "outputId": "10c37e95-bb3f-4a4b-a9b6-3fe06ae5dff5"
      },
      "execution_count": null,
      "outputs": [
        {
          "output_type": "stream",
          "name": "stderr",
          "text": [
            "Configuration saved in /content/drive/MyDrive/Dissertation/adapter_transformer/roberta-base-baseline_adapter/adapter_fusion_config.json\n",
            "Module weights saved in /content/drive/MyDrive/Dissertation/adapter_transformer/roberta-base-baseline_adapter/pytorch_model_adapter_fusion.bin\n",
            "Configuration saved in /content/drive/MyDrive/Dissertation/adapter_transformer/roberta-base-baseline_adapter/pmb/adapter_config.json\n",
            "Module weights saved in /content/drive/MyDrive/Dissertation/adapter_transformer/roberta-base-baseline_adapter/pmb/pytorch_adapter.bin\n",
            "Configuration saved in /content/drive/MyDrive/Dissertation/adapter_transformer/roberta-base-baseline_adapter/multinli/adapter_config.json\n",
            "Module weights saved in /content/drive/MyDrive/Dissertation/adapter_transformer/roberta-base-baseline_adapter/multinli/pytorch_adapter.bin\n",
            "Configuration saved in /content/drive/MyDrive/Dissertation/adapter_transformer/roberta-base-baseline_adapter/baseline_2/adapter_config.json\n",
            "Module weights saved in /content/drive/MyDrive/Dissertation/adapter_transformer/roberta-base-baseline_adapter/baseline_2/pytorch_adapter.bin\n",
            "Configuration saved in /content/drive/MyDrive/Dissertation/adapter_transformer/roberta-base-baseline_adapter/baseline_2/head_config.json\n",
            "Module weights saved in /content/drive/MyDrive/Dissertation/adapter_transformer/roberta-base-baseline_adapter/baseline_2/pytorch_model_head.bin\n",
            "Configuration saved in /content/drive/MyDrive/Dissertation/adapter_transformer/roberta-base-baseline_adapter/pmbst/adapter_config.json\n",
            "Module weights saved in /content/drive/MyDrive/Dissertation/adapter_transformer/roberta-base-baseline_adapter/pmbst/pytorch_adapter.bin\n"
          ]
        }
      ]
    }
  ]
}