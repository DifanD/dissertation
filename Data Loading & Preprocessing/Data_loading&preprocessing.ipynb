{
  "nbformat": 4,
  "nbformat_minor": 0,
  "metadata": {
    "colab": {
      "provenance": [],
      "gpuType": "T4"
    },
    "kernelspec": {
      "name": "python3",
      "display_name": "Python 3"
    },
    "language_info": {
      "name": "python"
    },
    "accelerator": "GPU",
    "widgets": {
      "application/vnd.jupyter.widget-state+json": {
        "01d181d5424d4617838467755fe1c1e4": {
          "model_module": "@jupyter-widgets/controls",
          "model_name": "HBoxModel",
          "model_module_version": "1.5.0",
          "state": {
            "_dom_classes": [],
            "_model_module": "@jupyter-widgets/controls",
            "_model_module_version": "1.5.0",
            "_model_name": "HBoxModel",
            "_view_count": null,
            "_view_module": "@jupyter-widgets/controls",
            "_view_module_version": "1.5.0",
            "_view_name": "HBoxView",
            "box_style": "",
            "children": [
              "IPY_MODEL_983ece79994f4f389d0179b64943a257",
              "IPY_MODEL_d9c0d658001d469092679dc96a481a74",
              "IPY_MODEL_969523bdd9b3472d8fb497b3573e2a39"
            ],
            "layout": "IPY_MODEL_f620539ed6074067991e432215c692c4"
          }
        },
        "983ece79994f4f389d0179b64943a257": {
          "model_module": "@jupyter-widgets/controls",
          "model_name": "HTMLModel",
          "model_module_version": "1.5.0",
          "state": {
            "_dom_classes": [],
            "_model_module": "@jupyter-widgets/controls",
            "_model_module_version": "1.5.0",
            "_model_name": "HTMLModel",
            "_view_count": null,
            "_view_module": "@jupyter-widgets/controls",
            "_view_module_version": "1.5.0",
            "_view_name": "HTMLView",
            "description": "",
            "description_tooltip": null,
            "layout": "IPY_MODEL_7c6ca42e3d8e4ea39b846209406e83bc",
            "placeholder": "​",
            "style": "IPY_MODEL_89ea4dd0b6064862b41df4e6d950b09d",
            "value": "Downloading (…)lve/main/config.json: 100%"
          }
        },
        "d9c0d658001d469092679dc96a481a74": {
          "model_module": "@jupyter-widgets/controls",
          "model_name": "FloatProgressModel",
          "model_module_version": "1.5.0",
          "state": {
            "_dom_classes": [],
            "_model_module": "@jupyter-widgets/controls",
            "_model_module_version": "1.5.0",
            "_model_name": "FloatProgressModel",
            "_view_count": null,
            "_view_module": "@jupyter-widgets/controls",
            "_view_module_version": "1.5.0",
            "_view_name": "ProgressView",
            "bar_style": "success",
            "description": "",
            "description_tooltip": null,
            "layout": "IPY_MODEL_56792e651a49461eb8331bff47bad514",
            "max": 4892,
            "min": 0,
            "orientation": "horizontal",
            "style": "IPY_MODEL_06655372cd7b4a1ab9e0faea82f8f239",
            "value": 4892
          }
        },
        "969523bdd9b3472d8fb497b3573e2a39": {
          "model_module": "@jupyter-widgets/controls",
          "model_name": "HTMLModel",
          "model_module_version": "1.5.0",
          "state": {
            "_dom_classes": [],
            "_model_module": "@jupyter-widgets/controls",
            "_model_module_version": "1.5.0",
            "_model_name": "HTMLModel",
            "_view_count": null,
            "_view_module": "@jupyter-widgets/controls",
            "_view_module_version": "1.5.0",
            "_view_name": "HTMLView",
            "description": "",
            "description_tooltip": null,
            "layout": "IPY_MODEL_c1fd644b751045d9a27f3933cc0522d3",
            "placeholder": "​",
            "style": "IPY_MODEL_89dc5c16a2d1460780f06324a9a0fb71",
            "value": " 4.89k/4.89k [00:00&lt;00:00, 224kB/s]"
          }
        },
        "f620539ed6074067991e432215c692c4": {
          "model_module": "@jupyter-widgets/base",
          "model_name": "LayoutModel",
          "model_module_version": "1.2.0",
          "state": {
            "_model_module": "@jupyter-widgets/base",
            "_model_module_version": "1.2.0",
            "_model_name": "LayoutModel",
            "_view_count": null,
            "_view_module": "@jupyter-widgets/base",
            "_view_module_version": "1.2.0",
            "_view_name": "LayoutView",
            "align_content": null,
            "align_items": null,
            "align_self": null,
            "border": null,
            "bottom": null,
            "display": null,
            "flex": null,
            "flex_flow": null,
            "grid_area": null,
            "grid_auto_columns": null,
            "grid_auto_flow": null,
            "grid_auto_rows": null,
            "grid_column": null,
            "grid_gap": null,
            "grid_row": null,
            "grid_template_areas": null,
            "grid_template_columns": null,
            "grid_template_rows": null,
            "height": null,
            "justify_content": null,
            "justify_items": null,
            "left": null,
            "margin": null,
            "max_height": null,
            "max_width": null,
            "min_height": null,
            "min_width": null,
            "object_fit": null,
            "object_position": null,
            "order": null,
            "overflow": null,
            "overflow_x": null,
            "overflow_y": null,
            "padding": null,
            "right": null,
            "top": null,
            "visibility": null,
            "width": null
          }
        },
        "7c6ca42e3d8e4ea39b846209406e83bc": {
          "model_module": "@jupyter-widgets/base",
          "model_name": "LayoutModel",
          "model_module_version": "1.2.0",
          "state": {
            "_model_module": "@jupyter-widgets/base",
            "_model_module_version": "1.2.0",
            "_model_name": "LayoutModel",
            "_view_count": null,
            "_view_module": "@jupyter-widgets/base",
            "_view_module_version": "1.2.0",
            "_view_name": "LayoutView",
            "align_content": null,
            "align_items": null,
            "align_self": null,
            "border": null,
            "bottom": null,
            "display": null,
            "flex": null,
            "flex_flow": null,
            "grid_area": null,
            "grid_auto_columns": null,
            "grid_auto_flow": null,
            "grid_auto_rows": null,
            "grid_column": null,
            "grid_gap": null,
            "grid_row": null,
            "grid_template_areas": null,
            "grid_template_columns": null,
            "grid_template_rows": null,
            "height": null,
            "justify_content": null,
            "justify_items": null,
            "left": null,
            "margin": null,
            "max_height": null,
            "max_width": null,
            "min_height": null,
            "min_width": null,
            "object_fit": null,
            "object_position": null,
            "order": null,
            "overflow": null,
            "overflow_x": null,
            "overflow_y": null,
            "padding": null,
            "right": null,
            "top": null,
            "visibility": null,
            "width": null
          }
        },
        "89ea4dd0b6064862b41df4e6d950b09d": {
          "model_module": "@jupyter-widgets/controls",
          "model_name": "DescriptionStyleModel",
          "model_module_version": "1.5.0",
          "state": {
            "_model_module": "@jupyter-widgets/controls",
            "_model_module_version": "1.5.0",
            "_model_name": "DescriptionStyleModel",
            "_view_count": null,
            "_view_module": "@jupyter-widgets/base",
            "_view_module_version": "1.2.0",
            "_view_name": "StyleView",
            "description_width": ""
          }
        },
        "56792e651a49461eb8331bff47bad514": {
          "model_module": "@jupyter-widgets/base",
          "model_name": "LayoutModel",
          "model_module_version": "1.2.0",
          "state": {
            "_model_module": "@jupyter-widgets/base",
            "_model_module_version": "1.2.0",
            "_model_name": "LayoutModel",
            "_view_count": null,
            "_view_module": "@jupyter-widgets/base",
            "_view_module_version": "1.2.0",
            "_view_name": "LayoutView",
            "align_content": null,
            "align_items": null,
            "align_self": null,
            "border": null,
            "bottom": null,
            "display": null,
            "flex": null,
            "flex_flow": null,
            "grid_area": null,
            "grid_auto_columns": null,
            "grid_auto_flow": null,
            "grid_auto_rows": null,
            "grid_column": null,
            "grid_gap": null,
            "grid_row": null,
            "grid_template_areas": null,
            "grid_template_columns": null,
            "grid_template_rows": null,
            "height": null,
            "justify_content": null,
            "justify_items": null,
            "left": null,
            "margin": null,
            "max_height": null,
            "max_width": null,
            "min_height": null,
            "min_width": null,
            "object_fit": null,
            "object_position": null,
            "order": null,
            "overflow": null,
            "overflow_x": null,
            "overflow_y": null,
            "padding": null,
            "right": null,
            "top": null,
            "visibility": null,
            "width": null
          }
        },
        "06655372cd7b4a1ab9e0faea82f8f239": {
          "model_module": "@jupyter-widgets/controls",
          "model_name": "ProgressStyleModel",
          "model_module_version": "1.5.0",
          "state": {
            "_model_module": "@jupyter-widgets/controls",
            "_model_module_version": "1.5.0",
            "_model_name": "ProgressStyleModel",
            "_view_count": null,
            "_view_module": "@jupyter-widgets/base",
            "_view_module_version": "1.2.0",
            "_view_name": "StyleView",
            "bar_color": null,
            "description_width": ""
          }
        },
        "c1fd644b751045d9a27f3933cc0522d3": {
          "model_module": "@jupyter-widgets/base",
          "model_name": "LayoutModel",
          "model_module_version": "1.2.0",
          "state": {
            "_model_module": "@jupyter-widgets/base",
            "_model_module_version": "1.2.0",
            "_model_name": "LayoutModel",
            "_view_count": null,
            "_view_module": "@jupyter-widgets/base",
            "_view_module_version": "1.2.0",
            "_view_name": "LayoutView",
            "align_content": null,
            "align_items": null,
            "align_self": null,
            "border": null,
            "bottom": null,
            "display": null,
            "flex": null,
            "flex_flow": null,
            "grid_area": null,
            "grid_auto_columns": null,
            "grid_auto_flow": null,
            "grid_auto_rows": null,
            "grid_column": null,
            "grid_gap": null,
            "grid_row": null,
            "grid_template_areas": null,
            "grid_template_columns": null,
            "grid_template_rows": null,
            "height": null,
            "justify_content": null,
            "justify_items": null,
            "left": null,
            "margin": null,
            "max_height": null,
            "max_width": null,
            "min_height": null,
            "min_width": null,
            "object_fit": null,
            "object_position": null,
            "order": null,
            "overflow": null,
            "overflow_x": null,
            "overflow_y": null,
            "padding": null,
            "right": null,
            "top": null,
            "visibility": null,
            "width": null
          }
        },
        "89dc5c16a2d1460780f06324a9a0fb71": {
          "model_module": "@jupyter-widgets/controls",
          "model_name": "DescriptionStyleModel",
          "model_module_version": "1.5.0",
          "state": {
            "_model_module": "@jupyter-widgets/controls",
            "_model_module_version": "1.5.0",
            "_model_name": "DescriptionStyleModel",
            "_view_count": null,
            "_view_module": "@jupyter-widgets/base",
            "_view_module_version": "1.2.0",
            "_view_name": "StyleView",
            "description_width": ""
          }
        },
        "eff2f14e04c54b75b1f12fefc8308702": {
          "model_module": "@jupyter-widgets/controls",
          "model_name": "HBoxModel",
          "model_module_version": "1.5.0",
          "state": {
            "_dom_classes": [],
            "_model_module": "@jupyter-widgets/controls",
            "_model_module_version": "1.5.0",
            "_model_name": "HBoxModel",
            "_view_count": null,
            "_view_module": "@jupyter-widgets/controls",
            "_view_module_version": "1.5.0",
            "_view_name": "HBoxView",
            "box_style": "",
            "children": [
              "IPY_MODEL_2a620064aff24575a2e8c001b187c1a8",
              "IPY_MODEL_88dd2c8343df4095b765ed7b71351c1c",
              "IPY_MODEL_9083b96db74f452a92550b83979743b1"
            ],
            "layout": "IPY_MODEL_ae1121e592ef4c3bbba7ce87d65b40f1"
          }
        },
        "2a620064aff24575a2e8c001b187c1a8": {
          "model_module": "@jupyter-widgets/controls",
          "model_name": "HTMLModel",
          "model_module_version": "1.5.0",
          "state": {
            "_dom_classes": [],
            "_model_module": "@jupyter-widgets/controls",
            "_model_module_version": "1.5.0",
            "_model_name": "HTMLModel",
            "_view_count": null,
            "_view_module": "@jupyter-widgets/controls",
            "_view_module_version": "1.5.0",
            "_view_name": "HTMLView",
            "description": "",
            "description_tooltip": null,
            "layout": "IPY_MODEL_e4dca682e21a49fb9333f10f43814ca1",
            "placeholder": "​",
            "style": "IPY_MODEL_1e5a6e5e5cac450abbb0ae6993b2094d",
            "value": "Downloading pytorch_model.bin: 100%"
          }
        },
        "88dd2c8343df4095b765ed7b71351c1c": {
          "model_module": "@jupyter-widgets/controls",
          "model_name": "FloatProgressModel",
          "model_module_version": "1.5.0",
          "state": {
            "_dom_classes": [],
            "_model_module": "@jupyter-widgets/controls",
            "_model_module_version": "1.5.0",
            "_model_name": "FloatProgressModel",
            "_view_count": null,
            "_view_module": "@jupyter-widgets/controls",
            "_view_module_version": "1.5.0",
            "_view_name": "ProgressView",
            "bar_style": "success",
            "description": "",
            "description_tooltip": null,
            "layout": "IPY_MODEL_d75b8106cff045b7b12452d9313895f9",
            "max": 1129238081,
            "min": 0,
            "orientation": "horizontal",
            "style": "IPY_MODEL_50ff5191e3a642b19e3bd931330fdf04",
            "value": 1129238081
          }
        },
        "9083b96db74f452a92550b83979743b1": {
          "model_module": "@jupyter-widgets/controls",
          "model_name": "HTMLModel",
          "model_module_version": "1.5.0",
          "state": {
            "_dom_classes": [],
            "_model_module": "@jupyter-widgets/controls",
            "_model_module_version": "1.5.0",
            "_model_name": "HTMLModel",
            "_view_count": null,
            "_view_module": "@jupyter-widgets/controls",
            "_view_module_version": "1.5.0",
            "_view_name": "HTMLView",
            "description": "",
            "description_tooltip": null,
            "layout": "IPY_MODEL_a1a9d070c827486fa4d5c52c04ba748e",
            "placeholder": "​",
            "style": "IPY_MODEL_bda71fcdb2f749dca36e62bd0b738bb6",
            "value": " 1.13G/1.13G [00:22&lt;00:00, 54.2MB/s]"
          }
        },
        "ae1121e592ef4c3bbba7ce87d65b40f1": {
          "model_module": "@jupyter-widgets/base",
          "model_name": "LayoutModel",
          "model_module_version": "1.2.0",
          "state": {
            "_model_module": "@jupyter-widgets/base",
            "_model_module_version": "1.2.0",
            "_model_name": "LayoutModel",
            "_view_count": null,
            "_view_module": "@jupyter-widgets/base",
            "_view_module_version": "1.2.0",
            "_view_name": "LayoutView",
            "align_content": null,
            "align_items": null,
            "align_self": null,
            "border": null,
            "bottom": null,
            "display": null,
            "flex": null,
            "flex_flow": null,
            "grid_area": null,
            "grid_auto_columns": null,
            "grid_auto_flow": null,
            "grid_auto_rows": null,
            "grid_column": null,
            "grid_gap": null,
            "grid_row": null,
            "grid_template_areas": null,
            "grid_template_columns": null,
            "grid_template_rows": null,
            "height": null,
            "justify_content": null,
            "justify_items": null,
            "left": null,
            "margin": null,
            "max_height": null,
            "max_width": null,
            "min_height": null,
            "min_width": null,
            "object_fit": null,
            "object_position": null,
            "order": null,
            "overflow": null,
            "overflow_x": null,
            "overflow_y": null,
            "padding": null,
            "right": null,
            "top": null,
            "visibility": null,
            "width": null
          }
        },
        "e4dca682e21a49fb9333f10f43814ca1": {
          "model_module": "@jupyter-widgets/base",
          "model_name": "LayoutModel",
          "model_module_version": "1.2.0",
          "state": {
            "_model_module": "@jupyter-widgets/base",
            "_model_module_version": "1.2.0",
            "_model_name": "LayoutModel",
            "_view_count": null,
            "_view_module": "@jupyter-widgets/base",
            "_view_module_version": "1.2.0",
            "_view_name": "LayoutView",
            "align_content": null,
            "align_items": null,
            "align_self": null,
            "border": null,
            "bottom": null,
            "display": null,
            "flex": null,
            "flex_flow": null,
            "grid_area": null,
            "grid_auto_columns": null,
            "grid_auto_flow": null,
            "grid_auto_rows": null,
            "grid_column": null,
            "grid_gap": null,
            "grid_row": null,
            "grid_template_areas": null,
            "grid_template_columns": null,
            "grid_template_rows": null,
            "height": null,
            "justify_content": null,
            "justify_items": null,
            "left": null,
            "margin": null,
            "max_height": null,
            "max_width": null,
            "min_height": null,
            "min_width": null,
            "object_fit": null,
            "object_position": null,
            "order": null,
            "overflow": null,
            "overflow_x": null,
            "overflow_y": null,
            "padding": null,
            "right": null,
            "top": null,
            "visibility": null,
            "width": null
          }
        },
        "1e5a6e5e5cac450abbb0ae6993b2094d": {
          "model_module": "@jupyter-widgets/controls",
          "model_name": "DescriptionStyleModel",
          "model_module_version": "1.5.0",
          "state": {
            "_model_module": "@jupyter-widgets/controls",
            "_model_module_version": "1.5.0",
            "_model_name": "DescriptionStyleModel",
            "_view_count": null,
            "_view_module": "@jupyter-widgets/base",
            "_view_module_version": "1.2.0",
            "_view_name": "StyleView",
            "description_width": ""
          }
        },
        "d75b8106cff045b7b12452d9313895f9": {
          "model_module": "@jupyter-widgets/base",
          "model_name": "LayoutModel",
          "model_module_version": "1.2.0",
          "state": {
            "_model_module": "@jupyter-widgets/base",
            "_model_module_version": "1.2.0",
            "_model_name": "LayoutModel",
            "_view_count": null,
            "_view_module": "@jupyter-widgets/base",
            "_view_module_version": "1.2.0",
            "_view_name": "LayoutView",
            "align_content": null,
            "align_items": null,
            "align_self": null,
            "border": null,
            "bottom": null,
            "display": null,
            "flex": null,
            "flex_flow": null,
            "grid_area": null,
            "grid_auto_columns": null,
            "grid_auto_flow": null,
            "grid_auto_rows": null,
            "grid_column": null,
            "grid_gap": null,
            "grid_row": null,
            "grid_template_areas": null,
            "grid_template_columns": null,
            "grid_template_rows": null,
            "height": null,
            "justify_content": null,
            "justify_items": null,
            "left": null,
            "margin": null,
            "max_height": null,
            "max_width": null,
            "min_height": null,
            "min_width": null,
            "object_fit": null,
            "object_position": null,
            "order": null,
            "overflow": null,
            "overflow_x": null,
            "overflow_y": null,
            "padding": null,
            "right": null,
            "top": null,
            "visibility": null,
            "width": null
          }
        },
        "50ff5191e3a642b19e3bd931330fdf04": {
          "model_module": "@jupyter-widgets/controls",
          "model_name": "ProgressStyleModel",
          "model_module_version": "1.5.0",
          "state": {
            "_model_module": "@jupyter-widgets/controls",
            "_model_module_version": "1.5.0",
            "_model_name": "ProgressStyleModel",
            "_view_count": null,
            "_view_module": "@jupyter-widgets/base",
            "_view_module_version": "1.2.0",
            "_view_name": "StyleView",
            "bar_color": null,
            "description_width": ""
          }
        },
        "a1a9d070c827486fa4d5c52c04ba748e": {
          "model_module": "@jupyter-widgets/base",
          "model_name": "LayoutModel",
          "model_module_version": "1.2.0",
          "state": {
            "_model_module": "@jupyter-widgets/base",
            "_model_module_version": "1.2.0",
            "_model_name": "LayoutModel",
            "_view_count": null,
            "_view_module": "@jupyter-widgets/base",
            "_view_module_version": "1.2.0",
            "_view_name": "LayoutView",
            "align_content": null,
            "align_items": null,
            "align_self": null,
            "border": null,
            "bottom": null,
            "display": null,
            "flex": null,
            "flex_flow": null,
            "grid_area": null,
            "grid_auto_columns": null,
            "grid_auto_flow": null,
            "grid_auto_rows": null,
            "grid_column": null,
            "grid_gap": null,
            "grid_row": null,
            "grid_template_areas": null,
            "grid_template_columns": null,
            "grid_template_rows": null,
            "height": null,
            "justify_content": null,
            "justify_items": null,
            "left": null,
            "margin": null,
            "max_height": null,
            "max_width": null,
            "min_height": null,
            "min_width": null,
            "object_fit": null,
            "object_position": null,
            "order": null,
            "overflow": null,
            "overflow_x": null,
            "overflow_y": null,
            "padding": null,
            "right": null,
            "top": null,
            "visibility": null,
            "width": null
          }
        },
        "bda71fcdb2f749dca36e62bd0b738bb6": {
          "model_module": "@jupyter-widgets/controls",
          "model_name": "DescriptionStyleModel",
          "model_module_version": "1.5.0",
          "state": {
            "_model_module": "@jupyter-widgets/controls",
            "_model_module_version": "1.5.0",
            "_model_name": "DescriptionStyleModel",
            "_view_count": null,
            "_view_module": "@jupyter-widgets/base",
            "_view_module_version": "1.2.0",
            "_view_name": "StyleView",
            "description_width": ""
          }
        },
        "3555a3b54c9e4ca7b50645d5709ef246": {
          "model_module": "@jupyter-widgets/controls",
          "model_name": "HBoxModel",
          "model_module_version": "1.5.0",
          "state": {
            "_dom_classes": [],
            "_model_module": "@jupyter-widgets/controls",
            "_model_module_version": "1.5.0",
            "_model_name": "HBoxModel",
            "_view_count": null,
            "_view_module": "@jupyter-widgets/controls",
            "_view_module_version": "1.5.0",
            "_view_name": "HBoxView",
            "box_style": "",
            "children": [
              "IPY_MODEL_cf6aac622c164231a0f2b834cfcc109c",
              "IPY_MODEL_e9af09b843c64ba9aff64903887fdca9",
              "IPY_MODEL_0fa11f1055ca4c859b93a7950223db46"
            ],
            "layout": "IPY_MODEL_f93f35324861421caa3ec18ff585df2f"
          }
        },
        "cf6aac622c164231a0f2b834cfcc109c": {
          "model_module": "@jupyter-widgets/controls",
          "model_name": "HTMLModel",
          "model_module_version": "1.5.0",
          "state": {
            "_dom_classes": [],
            "_model_module": "@jupyter-widgets/controls",
            "_model_module_version": "1.5.0",
            "_model_name": "HTMLModel",
            "_view_count": null,
            "_view_module": "@jupyter-widgets/controls",
            "_view_module_version": "1.5.0",
            "_view_name": "HTMLView",
            "description": "",
            "description_tooltip": null,
            "layout": "IPY_MODEL_4c94038307f14302b8ea11f855e32a79",
            "placeholder": "​",
            "style": "IPY_MODEL_f36ee2f9300b466eb1cef5fb873d117b",
            "value": "Downloading (…)rocessor_config.json: 100%"
          }
        },
        "e9af09b843c64ba9aff64903887fdca9": {
          "model_module": "@jupyter-widgets/controls",
          "model_name": "FloatProgressModel",
          "model_module_version": "1.5.0",
          "state": {
            "_dom_classes": [],
            "_model_module": "@jupyter-widgets/controls",
            "_model_module_version": "1.5.0",
            "_model_name": "FloatProgressModel",
            "_view_count": null,
            "_view_module": "@jupyter-widgets/controls",
            "_view_module_version": "1.5.0",
            "_view_name": "ProgressView",
            "bar_style": "success",
            "description": "",
            "description_tooltip": null,
            "layout": "IPY_MODEL_276a0f16a5674a69b356ed21348e89ab",
            "max": 249,
            "min": 0,
            "orientation": "horizontal",
            "style": "IPY_MODEL_20177171139047bca69050d5c4e58a1f",
            "value": 249
          }
        },
        "0fa11f1055ca4c859b93a7950223db46": {
          "model_module": "@jupyter-widgets/controls",
          "model_name": "HTMLModel",
          "model_module_version": "1.5.0",
          "state": {
            "_dom_classes": [],
            "_model_module": "@jupyter-widgets/controls",
            "_model_module_version": "1.5.0",
            "_model_name": "HTMLModel",
            "_view_count": null,
            "_view_module": "@jupyter-widgets/controls",
            "_view_module_version": "1.5.0",
            "_view_name": "HTMLView",
            "description": "",
            "description_tooltip": null,
            "layout": "IPY_MODEL_d4da76e8a90d4d478063adbee9c8e858",
            "placeholder": "​",
            "style": "IPY_MODEL_070bdc6592f0418cbe7c1f858456c857",
            "value": " 249/249 [00:00&lt;00:00, 11.5kB/s]"
          }
        },
        "f93f35324861421caa3ec18ff585df2f": {
          "model_module": "@jupyter-widgets/base",
          "model_name": "LayoutModel",
          "model_module_version": "1.2.0",
          "state": {
            "_model_module": "@jupyter-widgets/base",
            "_model_module_version": "1.2.0",
            "_model_name": "LayoutModel",
            "_view_count": null,
            "_view_module": "@jupyter-widgets/base",
            "_view_module_version": "1.2.0",
            "_view_name": "LayoutView",
            "align_content": null,
            "align_items": null,
            "align_self": null,
            "border": null,
            "bottom": null,
            "display": null,
            "flex": null,
            "flex_flow": null,
            "grid_area": null,
            "grid_auto_columns": null,
            "grid_auto_flow": null,
            "grid_auto_rows": null,
            "grid_column": null,
            "grid_gap": null,
            "grid_row": null,
            "grid_template_areas": null,
            "grid_template_columns": null,
            "grid_template_rows": null,
            "height": null,
            "justify_content": null,
            "justify_items": null,
            "left": null,
            "margin": null,
            "max_height": null,
            "max_width": null,
            "min_height": null,
            "min_width": null,
            "object_fit": null,
            "object_position": null,
            "order": null,
            "overflow": null,
            "overflow_x": null,
            "overflow_y": null,
            "padding": null,
            "right": null,
            "top": null,
            "visibility": null,
            "width": null
          }
        },
        "4c94038307f14302b8ea11f855e32a79": {
          "model_module": "@jupyter-widgets/base",
          "model_name": "LayoutModel",
          "model_module_version": "1.2.0",
          "state": {
            "_model_module": "@jupyter-widgets/base",
            "_model_module_version": "1.2.0",
            "_model_name": "LayoutModel",
            "_view_count": null,
            "_view_module": "@jupyter-widgets/base",
            "_view_module_version": "1.2.0",
            "_view_name": "LayoutView",
            "align_content": null,
            "align_items": null,
            "align_self": null,
            "border": null,
            "bottom": null,
            "display": null,
            "flex": null,
            "flex_flow": null,
            "grid_area": null,
            "grid_auto_columns": null,
            "grid_auto_flow": null,
            "grid_auto_rows": null,
            "grid_column": null,
            "grid_gap": null,
            "grid_row": null,
            "grid_template_areas": null,
            "grid_template_columns": null,
            "grid_template_rows": null,
            "height": null,
            "justify_content": null,
            "justify_items": null,
            "left": null,
            "margin": null,
            "max_height": null,
            "max_width": null,
            "min_height": null,
            "min_width": null,
            "object_fit": null,
            "object_position": null,
            "order": null,
            "overflow": null,
            "overflow_x": null,
            "overflow_y": null,
            "padding": null,
            "right": null,
            "top": null,
            "visibility": null,
            "width": null
          }
        },
        "f36ee2f9300b466eb1cef5fb873d117b": {
          "model_module": "@jupyter-widgets/controls",
          "model_name": "DescriptionStyleModel",
          "model_module_version": "1.5.0",
          "state": {
            "_model_module": "@jupyter-widgets/controls",
            "_model_module_version": "1.5.0",
            "_model_name": "DescriptionStyleModel",
            "_view_count": null,
            "_view_module": "@jupyter-widgets/base",
            "_view_module_version": "1.2.0",
            "_view_name": "StyleView",
            "description_width": ""
          }
        },
        "276a0f16a5674a69b356ed21348e89ab": {
          "model_module": "@jupyter-widgets/base",
          "model_name": "LayoutModel",
          "model_module_version": "1.2.0",
          "state": {
            "_model_module": "@jupyter-widgets/base",
            "_model_module_version": "1.2.0",
            "_model_name": "LayoutModel",
            "_view_count": null,
            "_view_module": "@jupyter-widgets/base",
            "_view_module_version": "1.2.0",
            "_view_name": "LayoutView",
            "align_content": null,
            "align_items": null,
            "align_self": null,
            "border": null,
            "bottom": null,
            "display": null,
            "flex": null,
            "flex_flow": null,
            "grid_area": null,
            "grid_auto_columns": null,
            "grid_auto_flow": null,
            "grid_auto_rows": null,
            "grid_column": null,
            "grid_gap": null,
            "grid_row": null,
            "grid_template_areas": null,
            "grid_template_columns": null,
            "grid_template_rows": null,
            "height": null,
            "justify_content": null,
            "justify_items": null,
            "left": null,
            "margin": null,
            "max_height": null,
            "max_width": null,
            "min_height": null,
            "min_width": null,
            "object_fit": null,
            "object_position": null,
            "order": null,
            "overflow": null,
            "overflow_x": null,
            "overflow_y": null,
            "padding": null,
            "right": null,
            "top": null,
            "visibility": null,
            "width": null
          }
        },
        "20177171139047bca69050d5c4e58a1f": {
          "model_module": "@jupyter-widgets/controls",
          "model_name": "ProgressStyleModel",
          "model_module_version": "1.5.0",
          "state": {
            "_model_module": "@jupyter-widgets/controls",
            "_model_module_version": "1.5.0",
            "_model_name": "ProgressStyleModel",
            "_view_count": null,
            "_view_module": "@jupyter-widgets/base",
            "_view_module_version": "1.2.0",
            "_view_name": "StyleView",
            "bar_color": null,
            "description_width": ""
          }
        },
        "d4da76e8a90d4d478063adbee9c8e858": {
          "model_module": "@jupyter-widgets/base",
          "model_name": "LayoutModel",
          "model_module_version": "1.2.0",
          "state": {
            "_model_module": "@jupyter-widgets/base",
            "_model_module_version": "1.2.0",
            "_model_name": "LayoutModel",
            "_view_count": null,
            "_view_module": "@jupyter-widgets/base",
            "_view_module_version": "1.2.0",
            "_view_name": "LayoutView",
            "align_content": null,
            "align_items": null,
            "align_self": null,
            "border": null,
            "bottom": null,
            "display": null,
            "flex": null,
            "flex_flow": null,
            "grid_area": null,
            "grid_auto_columns": null,
            "grid_auto_flow": null,
            "grid_auto_rows": null,
            "grid_column": null,
            "grid_gap": null,
            "grid_row": null,
            "grid_template_areas": null,
            "grid_template_columns": null,
            "grid_template_rows": null,
            "height": null,
            "justify_content": null,
            "justify_items": null,
            "left": null,
            "margin": null,
            "max_height": null,
            "max_width": null,
            "min_height": null,
            "min_width": null,
            "object_fit": null,
            "object_position": null,
            "order": null,
            "overflow": null,
            "overflow_x": null,
            "overflow_y": null,
            "padding": null,
            "right": null,
            "top": null,
            "visibility": null,
            "width": null
          }
        },
        "070bdc6592f0418cbe7c1f858456c857": {
          "model_module": "@jupyter-widgets/controls",
          "model_name": "DescriptionStyleModel",
          "model_module_version": "1.5.0",
          "state": {
            "_model_module": "@jupyter-widgets/controls",
            "_model_module_version": "1.5.0",
            "_model_name": "DescriptionStyleModel",
            "_view_count": null,
            "_view_module": "@jupyter-widgets/base",
            "_view_module_version": "1.2.0",
            "_view_name": "StyleView",
            "description_width": ""
          }
        },
        "cd8c485b1db344c5a04d69a466929e60": {
          "model_module": "@jupyter-widgets/controls",
          "model_name": "HBoxModel",
          "model_module_version": "1.5.0",
          "state": {
            "_dom_classes": [],
            "_model_module": "@jupyter-widgets/controls",
            "_model_module_version": "1.5.0",
            "_model_name": "HBoxModel",
            "_view_count": null,
            "_view_module": "@jupyter-widgets/controls",
            "_view_module_version": "1.5.0",
            "_view_name": "HBoxView",
            "box_style": "",
            "children": [
              "IPY_MODEL_ea97207036f84e149eb8824f0c8fb519",
              "IPY_MODEL_9ff23ac5d620457e9d60c5fa43090cbe",
              "IPY_MODEL_0d6b4c97f4024598b5eff9b5eebdc6db"
            ],
            "layout": "IPY_MODEL_49fd62304db64fdc9e254124a87dde9b"
          }
        },
        "ea97207036f84e149eb8824f0c8fb519": {
          "model_module": "@jupyter-widgets/controls",
          "model_name": "HTMLModel",
          "model_module_version": "1.5.0",
          "state": {
            "_dom_classes": [],
            "_model_module": "@jupyter-widgets/controls",
            "_model_module_version": "1.5.0",
            "_model_name": "HTMLModel",
            "_view_count": null,
            "_view_module": "@jupyter-widgets/controls",
            "_view_module_version": "1.5.0",
            "_view_name": "HTMLView",
            "description": "",
            "description_tooltip": null,
            "layout": "IPY_MODEL_ba680cc163b1484b8e2240f2d751d1c2",
            "placeholder": "​",
            "style": "IPY_MODEL_6b6ddf0f771945ddba1fb0699c7efeb9",
            "value": "Downloading (…)okenizer_config.json: 100%"
          }
        },
        "9ff23ac5d620457e9d60c5fa43090cbe": {
          "model_module": "@jupyter-widgets/controls",
          "model_name": "FloatProgressModel",
          "model_module_version": "1.5.0",
          "state": {
            "_dom_classes": [],
            "_model_module": "@jupyter-widgets/controls",
            "_model_module_version": "1.5.0",
            "_model_name": "FloatProgressModel",
            "_view_count": null,
            "_view_module": "@jupyter-widgets/controls",
            "_view_module_version": "1.5.0",
            "_view_name": "ProgressView",
            "bar_style": "success",
            "description": "",
            "description_tooltip": null,
            "layout": "IPY_MODEL_3b12918d6e2548d3967abffbca4aa03f",
            "max": 2583,
            "min": 0,
            "orientation": "horizontal",
            "style": "IPY_MODEL_ea200d0e60fd4e208decd170cdb58e1b",
            "value": 2583
          }
        },
        "0d6b4c97f4024598b5eff9b5eebdc6db": {
          "model_module": "@jupyter-widgets/controls",
          "model_name": "HTMLModel",
          "model_module_version": "1.5.0",
          "state": {
            "_dom_classes": [],
            "_model_module": "@jupyter-widgets/controls",
            "_model_module_version": "1.5.0",
            "_model_name": "HTMLModel",
            "_view_count": null,
            "_view_module": "@jupyter-widgets/controls",
            "_view_module_version": "1.5.0",
            "_view_name": "HTMLView",
            "description": "",
            "description_tooltip": null,
            "layout": "IPY_MODEL_99f06dbb947743168452f9a82a04708e",
            "placeholder": "​",
            "style": "IPY_MODEL_49c7d3c140ea472ba985046cd909eede",
            "value": " 2.58k/2.58k [00:00&lt;00:00, 115kB/s]"
          }
        },
        "49fd62304db64fdc9e254124a87dde9b": {
          "model_module": "@jupyter-widgets/base",
          "model_name": "LayoutModel",
          "model_module_version": "1.2.0",
          "state": {
            "_model_module": "@jupyter-widgets/base",
            "_model_module_version": "1.2.0",
            "_model_name": "LayoutModel",
            "_view_count": null,
            "_view_module": "@jupyter-widgets/base",
            "_view_module_version": "1.2.0",
            "_view_name": "LayoutView",
            "align_content": null,
            "align_items": null,
            "align_self": null,
            "border": null,
            "bottom": null,
            "display": null,
            "flex": null,
            "flex_flow": null,
            "grid_area": null,
            "grid_auto_columns": null,
            "grid_auto_flow": null,
            "grid_auto_rows": null,
            "grid_column": null,
            "grid_gap": null,
            "grid_row": null,
            "grid_template_areas": null,
            "grid_template_columns": null,
            "grid_template_rows": null,
            "height": null,
            "justify_content": null,
            "justify_items": null,
            "left": null,
            "margin": null,
            "max_height": null,
            "max_width": null,
            "min_height": null,
            "min_width": null,
            "object_fit": null,
            "object_position": null,
            "order": null,
            "overflow": null,
            "overflow_x": null,
            "overflow_y": null,
            "padding": null,
            "right": null,
            "top": null,
            "visibility": null,
            "width": null
          }
        },
        "ba680cc163b1484b8e2240f2d751d1c2": {
          "model_module": "@jupyter-widgets/base",
          "model_name": "LayoutModel",
          "model_module_version": "1.2.0",
          "state": {
            "_model_module": "@jupyter-widgets/base",
            "_model_module_version": "1.2.0",
            "_model_name": "LayoutModel",
            "_view_count": null,
            "_view_module": "@jupyter-widgets/base",
            "_view_module_version": "1.2.0",
            "_view_name": "LayoutView",
            "align_content": null,
            "align_items": null,
            "align_self": null,
            "border": null,
            "bottom": null,
            "display": null,
            "flex": null,
            "flex_flow": null,
            "grid_area": null,
            "grid_auto_columns": null,
            "grid_auto_flow": null,
            "grid_auto_rows": null,
            "grid_column": null,
            "grid_gap": null,
            "grid_row": null,
            "grid_template_areas": null,
            "grid_template_columns": null,
            "grid_template_rows": null,
            "height": null,
            "justify_content": null,
            "justify_items": null,
            "left": null,
            "margin": null,
            "max_height": null,
            "max_width": null,
            "min_height": null,
            "min_width": null,
            "object_fit": null,
            "object_position": null,
            "order": null,
            "overflow": null,
            "overflow_x": null,
            "overflow_y": null,
            "padding": null,
            "right": null,
            "top": null,
            "visibility": null,
            "width": null
          }
        },
        "6b6ddf0f771945ddba1fb0699c7efeb9": {
          "model_module": "@jupyter-widgets/controls",
          "model_name": "DescriptionStyleModel",
          "model_module_version": "1.5.0",
          "state": {
            "_model_module": "@jupyter-widgets/controls",
            "_model_module_version": "1.5.0",
            "_model_name": "DescriptionStyleModel",
            "_view_count": null,
            "_view_module": "@jupyter-widgets/base",
            "_view_module_version": "1.2.0",
            "_view_name": "StyleView",
            "description_width": ""
          }
        },
        "3b12918d6e2548d3967abffbca4aa03f": {
          "model_module": "@jupyter-widgets/base",
          "model_name": "LayoutModel",
          "model_module_version": "1.2.0",
          "state": {
            "_model_module": "@jupyter-widgets/base",
            "_model_module_version": "1.2.0",
            "_model_name": "LayoutModel",
            "_view_count": null,
            "_view_module": "@jupyter-widgets/base",
            "_view_module_version": "1.2.0",
            "_view_name": "LayoutView",
            "align_content": null,
            "align_items": null,
            "align_self": null,
            "border": null,
            "bottom": null,
            "display": null,
            "flex": null,
            "flex_flow": null,
            "grid_area": null,
            "grid_auto_columns": null,
            "grid_auto_flow": null,
            "grid_auto_rows": null,
            "grid_column": null,
            "grid_gap": null,
            "grid_row": null,
            "grid_template_areas": null,
            "grid_template_columns": null,
            "grid_template_rows": null,
            "height": null,
            "justify_content": null,
            "justify_items": null,
            "left": null,
            "margin": null,
            "max_height": null,
            "max_width": null,
            "min_height": null,
            "min_width": null,
            "object_fit": null,
            "object_position": null,
            "order": null,
            "overflow": null,
            "overflow_x": null,
            "overflow_y": null,
            "padding": null,
            "right": null,
            "top": null,
            "visibility": null,
            "width": null
          }
        },
        "ea200d0e60fd4e208decd170cdb58e1b": {
          "model_module": "@jupyter-widgets/controls",
          "model_name": "ProgressStyleModel",
          "model_module_version": "1.5.0",
          "state": {
            "_model_module": "@jupyter-widgets/controls",
            "_model_module_version": "1.5.0",
            "_model_name": "ProgressStyleModel",
            "_view_count": null,
            "_view_module": "@jupyter-widgets/base",
            "_view_module_version": "1.2.0",
            "_view_name": "StyleView",
            "bar_color": null,
            "description_width": ""
          }
        },
        "99f06dbb947743168452f9a82a04708e": {
          "model_module": "@jupyter-widgets/base",
          "model_name": "LayoutModel",
          "model_module_version": "1.2.0",
          "state": {
            "_model_module": "@jupyter-widgets/base",
            "_model_module_version": "1.2.0",
            "_model_name": "LayoutModel",
            "_view_count": null,
            "_view_module": "@jupyter-widgets/base",
            "_view_module_version": "1.2.0",
            "_view_name": "LayoutView",
            "align_content": null,
            "align_items": null,
            "align_self": null,
            "border": null,
            "bottom": null,
            "display": null,
            "flex": null,
            "flex_flow": null,
            "grid_area": null,
            "grid_auto_columns": null,
            "grid_auto_flow": null,
            "grid_auto_rows": null,
            "grid_column": null,
            "grid_gap": null,
            "grid_row": null,
            "grid_template_areas": null,
            "grid_template_columns": null,
            "grid_template_rows": null,
            "height": null,
            "justify_content": null,
            "justify_items": null,
            "left": null,
            "margin": null,
            "max_height": null,
            "max_width": null,
            "min_height": null,
            "min_width": null,
            "object_fit": null,
            "object_position": null,
            "order": null,
            "overflow": null,
            "overflow_x": null,
            "overflow_y": null,
            "padding": null,
            "right": null,
            "top": null,
            "visibility": null,
            "width": null
          }
        },
        "49c7d3c140ea472ba985046cd909eede": {
          "model_module": "@jupyter-widgets/controls",
          "model_name": "DescriptionStyleModel",
          "model_module_version": "1.5.0",
          "state": {
            "_model_module": "@jupyter-widgets/controls",
            "_model_module_version": "1.5.0",
            "_model_name": "DescriptionStyleModel",
            "_view_count": null,
            "_view_module": "@jupyter-widgets/base",
            "_view_module_version": "1.2.0",
            "_view_name": "StyleView",
            "description_width": ""
          }
        },
        "8ef0c080b42c4d308838b006269b4734": {
          "model_module": "@jupyter-widgets/controls",
          "model_name": "HBoxModel",
          "model_module_version": "1.5.0",
          "state": {
            "_dom_classes": [],
            "_model_module": "@jupyter-widgets/controls",
            "_model_module_version": "1.5.0",
            "_model_name": "HBoxModel",
            "_view_count": null,
            "_view_module": "@jupyter-widgets/controls",
            "_view_module_version": "1.5.0",
            "_view_name": "HBoxView",
            "box_style": "",
            "children": [
              "IPY_MODEL_11ff42b9429f4c878f18208f8169a038",
              "IPY_MODEL_b65e8e96fa514cb69403d3c04bc6f83d",
              "IPY_MODEL_0f842614e437461099ad72a929782687"
            ],
            "layout": "IPY_MODEL_168292554834433d97c7675fb9c34c8d"
          }
        },
        "11ff42b9429f4c878f18208f8169a038": {
          "model_module": "@jupyter-widgets/controls",
          "model_name": "HTMLModel",
          "model_module_version": "1.5.0",
          "state": {
            "_dom_classes": [],
            "_model_module": "@jupyter-widgets/controls",
            "_model_module_version": "1.5.0",
            "_model_name": "HTMLModel",
            "_view_count": null,
            "_view_module": "@jupyter-widgets/controls",
            "_view_module_version": "1.5.0",
            "_view_name": "HTMLView",
            "description": "",
            "description_tooltip": null,
            "layout": "IPY_MODEL_fa07ac23851044d89d7642ef6ab5dddc",
            "placeholder": "​",
            "style": "IPY_MODEL_61a2d0c5d3e547f18412d5feeed0bfaf",
            "value": "Downloading spiece.model: 100%"
          }
        },
        "b65e8e96fa514cb69403d3c04bc6f83d": {
          "model_module": "@jupyter-widgets/controls",
          "model_name": "FloatProgressModel",
          "model_module_version": "1.5.0",
          "state": {
            "_dom_classes": [],
            "_model_module": "@jupyter-widgets/controls",
            "_model_module_version": "1.5.0",
            "_model_name": "FloatProgressModel",
            "_view_count": null,
            "_view_module": "@jupyter-widgets/controls",
            "_view_module_version": "1.5.0",
            "_view_name": "ProgressView",
            "bar_style": "success",
            "description": "",
            "description_tooltip": null,
            "layout": "IPY_MODEL_a0737e86b63b452e9bfafc83403785ea",
            "max": 851388,
            "min": 0,
            "orientation": "horizontal",
            "style": "IPY_MODEL_9f4cc175d2f7411cabd0f12def15c99a",
            "value": 851388
          }
        },
        "0f842614e437461099ad72a929782687": {
          "model_module": "@jupyter-widgets/controls",
          "model_name": "HTMLModel",
          "model_module_version": "1.5.0",
          "state": {
            "_dom_classes": [],
            "_model_module": "@jupyter-widgets/controls",
            "_model_module_version": "1.5.0",
            "_model_name": "HTMLModel",
            "_view_count": null,
            "_view_module": "@jupyter-widgets/controls",
            "_view_module_version": "1.5.0",
            "_view_name": "HTMLView",
            "description": "",
            "description_tooltip": null,
            "layout": "IPY_MODEL_8cb96f43940544b390ccd99fe336b394",
            "placeholder": "​",
            "style": "IPY_MODEL_487e0a157d634e6d9669f69bf2c8450e",
            "value": " 851k/851k [00:00&lt;00:00, 6.56MB/s]"
          }
        },
        "168292554834433d97c7675fb9c34c8d": {
          "model_module": "@jupyter-widgets/base",
          "model_name": "LayoutModel",
          "model_module_version": "1.2.0",
          "state": {
            "_model_module": "@jupyter-widgets/base",
            "_model_module_version": "1.2.0",
            "_model_name": "LayoutModel",
            "_view_count": null,
            "_view_module": "@jupyter-widgets/base",
            "_view_module_version": "1.2.0",
            "_view_name": "LayoutView",
            "align_content": null,
            "align_items": null,
            "align_self": null,
            "border": null,
            "bottom": null,
            "display": null,
            "flex": null,
            "flex_flow": null,
            "grid_area": null,
            "grid_auto_columns": null,
            "grid_auto_flow": null,
            "grid_auto_rows": null,
            "grid_column": null,
            "grid_gap": null,
            "grid_row": null,
            "grid_template_areas": null,
            "grid_template_columns": null,
            "grid_template_rows": null,
            "height": null,
            "justify_content": null,
            "justify_items": null,
            "left": null,
            "margin": null,
            "max_height": null,
            "max_width": null,
            "min_height": null,
            "min_width": null,
            "object_fit": null,
            "object_position": null,
            "order": null,
            "overflow": null,
            "overflow_x": null,
            "overflow_y": null,
            "padding": null,
            "right": null,
            "top": null,
            "visibility": null,
            "width": null
          }
        },
        "fa07ac23851044d89d7642ef6ab5dddc": {
          "model_module": "@jupyter-widgets/base",
          "model_name": "LayoutModel",
          "model_module_version": "1.2.0",
          "state": {
            "_model_module": "@jupyter-widgets/base",
            "_model_module_version": "1.2.0",
            "_model_name": "LayoutModel",
            "_view_count": null,
            "_view_module": "@jupyter-widgets/base",
            "_view_module_version": "1.2.0",
            "_view_name": "LayoutView",
            "align_content": null,
            "align_items": null,
            "align_self": null,
            "border": null,
            "bottom": null,
            "display": null,
            "flex": null,
            "flex_flow": null,
            "grid_area": null,
            "grid_auto_columns": null,
            "grid_auto_flow": null,
            "grid_auto_rows": null,
            "grid_column": null,
            "grid_gap": null,
            "grid_row": null,
            "grid_template_areas": null,
            "grid_template_columns": null,
            "grid_template_rows": null,
            "height": null,
            "justify_content": null,
            "justify_items": null,
            "left": null,
            "margin": null,
            "max_height": null,
            "max_width": null,
            "min_height": null,
            "min_width": null,
            "object_fit": null,
            "object_position": null,
            "order": null,
            "overflow": null,
            "overflow_x": null,
            "overflow_y": null,
            "padding": null,
            "right": null,
            "top": null,
            "visibility": null,
            "width": null
          }
        },
        "61a2d0c5d3e547f18412d5feeed0bfaf": {
          "model_module": "@jupyter-widgets/controls",
          "model_name": "DescriptionStyleModel",
          "model_module_version": "1.5.0",
          "state": {
            "_model_module": "@jupyter-widgets/controls",
            "_model_module_version": "1.5.0",
            "_model_name": "DescriptionStyleModel",
            "_view_count": null,
            "_view_module": "@jupyter-widgets/base",
            "_view_module_version": "1.2.0",
            "_view_name": "StyleView",
            "description_width": ""
          }
        },
        "a0737e86b63b452e9bfafc83403785ea": {
          "model_module": "@jupyter-widgets/base",
          "model_name": "LayoutModel",
          "model_module_version": "1.2.0",
          "state": {
            "_model_module": "@jupyter-widgets/base",
            "_model_module_version": "1.2.0",
            "_model_name": "LayoutModel",
            "_view_count": null,
            "_view_module": "@jupyter-widgets/base",
            "_view_module_version": "1.2.0",
            "_view_name": "LayoutView",
            "align_content": null,
            "align_items": null,
            "align_self": null,
            "border": null,
            "bottom": null,
            "display": null,
            "flex": null,
            "flex_flow": null,
            "grid_area": null,
            "grid_auto_columns": null,
            "grid_auto_flow": null,
            "grid_auto_rows": null,
            "grid_column": null,
            "grid_gap": null,
            "grid_row": null,
            "grid_template_areas": null,
            "grid_template_columns": null,
            "grid_template_rows": null,
            "height": null,
            "justify_content": null,
            "justify_items": null,
            "left": null,
            "margin": null,
            "max_height": null,
            "max_width": null,
            "min_height": null,
            "min_width": null,
            "object_fit": null,
            "object_position": null,
            "order": null,
            "overflow": null,
            "overflow_x": null,
            "overflow_y": null,
            "padding": null,
            "right": null,
            "top": null,
            "visibility": null,
            "width": null
          }
        },
        "9f4cc175d2f7411cabd0f12def15c99a": {
          "model_module": "@jupyter-widgets/controls",
          "model_name": "ProgressStyleModel",
          "model_module_version": "1.5.0",
          "state": {
            "_model_module": "@jupyter-widgets/controls",
            "_model_module_version": "1.5.0",
            "_model_name": "ProgressStyleModel",
            "_view_count": null,
            "_view_module": "@jupyter-widgets/base",
            "_view_module_version": "1.2.0",
            "_view_name": "StyleView",
            "bar_color": null,
            "description_width": ""
          }
        },
        "8cb96f43940544b390ccd99fe336b394": {
          "model_module": "@jupyter-widgets/base",
          "model_name": "LayoutModel",
          "model_module_version": "1.2.0",
          "state": {
            "_model_module": "@jupyter-widgets/base",
            "_model_module_version": "1.2.0",
            "_model_name": "LayoutModel",
            "_view_count": null,
            "_view_module": "@jupyter-widgets/base",
            "_view_module_version": "1.2.0",
            "_view_name": "LayoutView",
            "align_content": null,
            "align_items": null,
            "align_self": null,
            "border": null,
            "bottom": null,
            "display": null,
            "flex": null,
            "flex_flow": null,
            "grid_area": null,
            "grid_auto_columns": null,
            "grid_auto_flow": null,
            "grid_auto_rows": null,
            "grid_column": null,
            "grid_gap": null,
            "grid_row": null,
            "grid_template_areas": null,
            "grid_template_columns": null,
            "grid_template_rows": null,
            "height": null,
            "justify_content": null,
            "justify_items": null,
            "left": null,
            "margin": null,
            "max_height": null,
            "max_width": null,
            "min_height": null,
            "min_width": null,
            "object_fit": null,
            "object_position": null,
            "order": null,
            "overflow": null,
            "overflow_x": null,
            "overflow_y": null,
            "padding": null,
            "right": null,
            "top": null,
            "visibility": null,
            "width": null
          }
        },
        "487e0a157d634e6d9669f69bf2c8450e": {
          "model_module": "@jupyter-widgets/controls",
          "model_name": "DescriptionStyleModel",
          "model_module_version": "1.5.0",
          "state": {
            "_model_module": "@jupyter-widgets/controls",
            "_model_module_version": "1.5.0",
            "_model_name": "DescriptionStyleModel",
            "_view_count": null,
            "_view_module": "@jupyter-widgets/base",
            "_view_module_version": "1.2.0",
            "_view_name": "StyleView",
            "description_width": ""
          }
        },
        "90336358a7bd4ee2b298343e4f4f8e2b": {
          "model_module": "@jupyter-widgets/controls",
          "model_name": "HBoxModel",
          "model_module_version": "1.5.0",
          "state": {
            "_dom_classes": [],
            "_model_module": "@jupyter-widgets/controls",
            "_model_module_version": "1.5.0",
            "_model_name": "HBoxModel",
            "_view_count": null,
            "_view_module": "@jupyter-widgets/controls",
            "_view_module_version": "1.5.0",
            "_view_name": "HBoxView",
            "box_style": "",
            "children": [
              "IPY_MODEL_a5fb642376ec4843bdb9b1e26a060dec",
              "IPY_MODEL_b8d699f6b03b48d8bd83ecae733defc2",
              "IPY_MODEL_4ad921e77cbb41f1950a3b63be79d67c"
            ],
            "layout": "IPY_MODEL_c89aec8de12645cba7f740f2d8db9744"
          }
        },
        "a5fb642376ec4843bdb9b1e26a060dec": {
          "model_module": "@jupyter-widgets/controls",
          "model_name": "HTMLModel",
          "model_module_version": "1.5.0",
          "state": {
            "_dom_classes": [],
            "_model_module": "@jupyter-widgets/controls",
            "_model_module_version": "1.5.0",
            "_model_name": "HTMLModel",
            "_view_count": null,
            "_view_module": "@jupyter-widgets/controls",
            "_view_module_version": "1.5.0",
            "_view_name": "HTMLView",
            "description": "",
            "description_tooltip": null,
            "layout": "IPY_MODEL_f2c8537b5bae4beebcfd754fdf90b151",
            "placeholder": "​",
            "style": "IPY_MODEL_3fe16656b3ff4b40a1f26c0b3d418d6d",
            "value": "Downloading (…)/main/tokenizer.json: 100%"
          }
        },
        "b8d699f6b03b48d8bd83ecae733defc2": {
          "model_module": "@jupyter-widgets/controls",
          "model_name": "FloatProgressModel",
          "model_module_version": "1.5.0",
          "state": {
            "_dom_classes": [],
            "_model_module": "@jupyter-widgets/controls",
            "_model_module_version": "1.5.0",
            "_model_name": "FloatProgressModel",
            "_view_count": null,
            "_view_module": "@jupyter-widgets/controls",
            "_view_module_version": "1.5.0",
            "_view_name": "ProgressView",
            "bar_style": "success",
            "description": "",
            "description_tooltip": null,
            "layout": "IPY_MODEL_c084b494123e4bafa1264b58530f48ab",
            "max": 3265159,
            "min": 0,
            "orientation": "horizontal",
            "style": "IPY_MODEL_aa90b4ab574249bb9cb66564e36d4ca9",
            "value": 3265159
          }
        },
        "4ad921e77cbb41f1950a3b63be79d67c": {
          "model_module": "@jupyter-widgets/controls",
          "model_name": "HTMLModel",
          "model_module_version": "1.5.0",
          "state": {
            "_dom_classes": [],
            "_model_module": "@jupyter-widgets/controls",
            "_model_module_version": "1.5.0",
            "_model_name": "HTMLModel",
            "_view_count": null,
            "_view_module": "@jupyter-widgets/controls",
            "_view_module_version": "1.5.0",
            "_view_name": "HTMLView",
            "description": "",
            "description_tooltip": null,
            "layout": "IPY_MODEL_7c553aa43634490fa231ad187ebf46bd",
            "placeholder": "​",
            "style": "IPY_MODEL_a1aeb957051a48c4a78f9cac5f879cc6",
            "value": " 3.27M/3.27M [00:00&lt;00:00, 9.49MB/s]"
          }
        },
        "c89aec8de12645cba7f740f2d8db9744": {
          "model_module": "@jupyter-widgets/base",
          "model_name": "LayoutModel",
          "model_module_version": "1.2.0",
          "state": {
            "_model_module": "@jupyter-widgets/base",
            "_model_module_version": "1.2.0",
            "_model_name": "LayoutModel",
            "_view_count": null,
            "_view_module": "@jupyter-widgets/base",
            "_view_module_version": "1.2.0",
            "_view_name": "LayoutView",
            "align_content": null,
            "align_items": null,
            "align_self": null,
            "border": null,
            "bottom": null,
            "display": null,
            "flex": null,
            "flex_flow": null,
            "grid_area": null,
            "grid_auto_columns": null,
            "grid_auto_flow": null,
            "grid_auto_rows": null,
            "grid_column": null,
            "grid_gap": null,
            "grid_row": null,
            "grid_template_areas": null,
            "grid_template_columns": null,
            "grid_template_rows": null,
            "height": null,
            "justify_content": null,
            "justify_items": null,
            "left": null,
            "margin": null,
            "max_height": null,
            "max_width": null,
            "min_height": null,
            "min_width": null,
            "object_fit": null,
            "object_position": null,
            "order": null,
            "overflow": null,
            "overflow_x": null,
            "overflow_y": null,
            "padding": null,
            "right": null,
            "top": null,
            "visibility": null,
            "width": null
          }
        },
        "f2c8537b5bae4beebcfd754fdf90b151": {
          "model_module": "@jupyter-widgets/base",
          "model_name": "LayoutModel",
          "model_module_version": "1.2.0",
          "state": {
            "_model_module": "@jupyter-widgets/base",
            "_model_module_version": "1.2.0",
            "_model_name": "LayoutModel",
            "_view_count": null,
            "_view_module": "@jupyter-widgets/base",
            "_view_module_version": "1.2.0",
            "_view_name": "LayoutView",
            "align_content": null,
            "align_items": null,
            "align_self": null,
            "border": null,
            "bottom": null,
            "display": null,
            "flex": null,
            "flex_flow": null,
            "grid_area": null,
            "grid_auto_columns": null,
            "grid_auto_flow": null,
            "grid_auto_rows": null,
            "grid_column": null,
            "grid_gap": null,
            "grid_row": null,
            "grid_template_areas": null,
            "grid_template_columns": null,
            "grid_template_rows": null,
            "height": null,
            "justify_content": null,
            "justify_items": null,
            "left": null,
            "margin": null,
            "max_height": null,
            "max_width": null,
            "min_height": null,
            "min_width": null,
            "object_fit": null,
            "object_position": null,
            "order": null,
            "overflow": null,
            "overflow_x": null,
            "overflow_y": null,
            "padding": null,
            "right": null,
            "top": null,
            "visibility": null,
            "width": null
          }
        },
        "3fe16656b3ff4b40a1f26c0b3d418d6d": {
          "model_module": "@jupyter-widgets/controls",
          "model_name": "DescriptionStyleModel",
          "model_module_version": "1.5.0",
          "state": {
            "_model_module": "@jupyter-widgets/controls",
            "_model_module_version": "1.5.0",
            "_model_name": "DescriptionStyleModel",
            "_view_count": null,
            "_view_module": "@jupyter-widgets/base",
            "_view_module_version": "1.2.0",
            "_view_name": "StyleView",
            "description_width": ""
          }
        },
        "c084b494123e4bafa1264b58530f48ab": {
          "model_module": "@jupyter-widgets/base",
          "model_name": "LayoutModel",
          "model_module_version": "1.2.0",
          "state": {
            "_model_module": "@jupyter-widgets/base",
            "_model_module_version": "1.2.0",
            "_model_name": "LayoutModel",
            "_view_count": null,
            "_view_module": "@jupyter-widgets/base",
            "_view_module_version": "1.2.0",
            "_view_name": "LayoutView",
            "align_content": null,
            "align_items": null,
            "align_self": null,
            "border": null,
            "bottom": null,
            "display": null,
            "flex": null,
            "flex_flow": null,
            "grid_area": null,
            "grid_auto_columns": null,
            "grid_auto_flow": null,
            "grid_auto_rows": null,
            "grid_column": null,
            "grid_gap": null,
            "grid_row": null,
            "grid_template_areas": null,
            "grid_template_columns": null,
            "grid_template_rows": null,
            "height": null,
            "justify_content": null,
            "justify_items": null,
            "left": null,
            "margin": null,
            "max_height": null,
            "max_width": null,
            "min_height": null,
            "min_width": null,
            "object_fit": null,
            "object_position": null,
            "order": null,
            "overflow": null,
            "overflow_x": null,
            "overflow_y": null,
            "padding": null,
            "right": null,
            "top": null,
            "visibility": null,
            "width": null
          }
        },
        "aa90b4ab574249bb9cb66564e36d4ca9": {
          "model_module": "@jupyter-widgets/controls",
          "model_name": "ProgressStyleModel",
          "model_module_version": "1.5.0",
          "state": {
            "_model_module": "@jupyter-widgets/controls",
            "_model_module_version": "1.5.0",
            "_model_name": "ProgressStyleModel",
            "_view_count": null,
            "_view_module": "@jupyter-widgets/base",
            "_view_module_version": "1.2.0",
            "_view_name": "StyleView",
            "bar_color": null,
            "description_width": ""
          }
        },
        "7c553aa43634490fa231ad187ebf46bd": {
          "model_module": "@jupyter-widgets/base",
          "model_name": "LayoutModel",
          "model_module_version": "1.2.0",
          "state": {
            "_model_module": "@jupyter-widgets/base",
            "_model_module_version": "1.2.0",
            "_model_name": "LayoutModel",
            "_view_count": null,
            "_view_module": "@jupyter-widgets/base",
            "_view_module_version": "1.2.0",
            "_view_name": "LayoutView",
            "align_content": null,
            "align_items": null,
            "align_self": null,
            "border": null,
            "bottom": null,
            "display": null,
            "flex": null,
            "flex_flow": null,
            "grid_area": null,
            "grid_auto_columns": null,
            "grid_auto_flow": null,
            "grid_auto_rows": null,
            "grid_column": null,
            "grid_gap": null,
            "grid_row": null,
            "grid_template_areas": null,
            "grid_template_columns": null,
            "grid_template_rows": null,
            "height": null,
            "justify_content": null,
            "justify_items": null,
            "left": null,
            "margin": null,
            "max_height": null,
            "max_width": null,
            "min_height": null,
            "min_width": null,
            "object_fit": null,
            "object_position": null,
            "order": null,
            "overflow": null,
            "overflow_x": null,
            "overflow_y": null,
            "padding": null,
            "right": null,
            "top": null,
            "visibility": null,
            "width": null
          }
        },
        "a1aeb957051a48c4a78f9cac5f879cc6": {
          "model_module": "@jupyter-widgets/controls",
          "model_name": "DescriptionStyleModel",
          "model_module_version": "1.5.0",
          "state": {
            "_model_module": "@jupyter-widgets/controls",
            "_model_module_version": "1.5.0",
            "_model_name": "DescriptionStyleModel",
            "_view_count": null,
            "_view_module": "@jupyter-widgets/base",
            "_view_module_version": "1.2.0",
            "_view_name": "StyleView",
            "description_width": ""
          }
        },
        "eb83ee7ada084978808e6d6b7afaaf89": {
          "model_module": "@jupyter-widgets/controls",
          "model_name": "HBoxModel",
          "model_module_version": "1.5.0",
          "state": {
            "_dom_classes": [],
            "_model_module": "@jupyter-widgets/controls",
            "_model_module_version": "1.5.0",
            "_model_name": "HBoxModel",
            "_view_count": null,
            "_view_module": "@jupyter-widgets/controls",
            "_view_module_version": "1.5.0",
            "_view_name": "HBoxView",
            "box_style": "",
            "children": [
              "IPY_MODEL_06a24668c70f49d594e3643fb251b009",
              "IPY_MODEL_bfc6d97c98374bf0abad7f88ec9e08a9",
              "IPY_MODEL_dfa0b9804f3a4f17972cd9353070c37f"
            ],
            "layout": "IPY_MODEL_08faafb42502446b83269efe52bc41e2"
          }
        },
        "06a24668c70f49d594e3643fb251b009": {
          "model_module": "@jupyter-widgets/controls",
          "model_name": "HTMLModel",
          "model_module_version": "1.5.0",
          "state": {
            "_dom_classes": [],
            "_model_module": "@jupyter-widgets/controls",
            "_model_module_version": "1.5.0",
            "_model_name": "HTMLModel",
            "_view_count": null,
            "_view_module": "@jupyter-widgets/controls",
            "_view_module_version": "1.5.0",
            "_view_name": "HTMLView",
            "description": "",
            "description_tooltip": null,
            "layout": "IPY_MODEL_239b41fe11fa42fb90694237619c07df",
            "placeholder": "​",
            "style": "IPY_MODEL_777c5d6dae1b4d09a00d97978864f2fc",
            "value": "Downloading (…)cial_tokens_map.json: 100%"
          }
        },
        "bfc6d97c98374bf0abad7f88ec9e08a9": {
          "model_module": "@jupyter-widgets/controls",
          "model_name": "FloatProgressModel",
          "model_module_version": "1.5.0",
          "state": {
            "_dom_classes": [],
            "_model_module": "@jupyter-widgets/controls",
            "_model_module_version": "1.5.0",
            "_model_name": "FloatProgressModel",
            "_view_count": null,
            "_view_module": "@jupyter-widgets/controls",
            "_view_module_version": "1.5.0",
            "_view_name": "ProgressView",
            "bar_style": "success",
            "description": "",
            "description_tooltip": null,
            "layout": "IPY_MODEL_9b18083247ad49bb8473b64341f47558",
            "max": 2201,
            "min": 0,
            "orientation": "horizontal",
            "style": "IPY_MODEL_c9472846427c4218ba8c3dbf55c103e2",
            "value": 2201
          }
        },
        "dfa0b9804f3a4f17972cd9353070c37f": {
          "model_module": "@jupyter-widgets/controls",
          "model_name": "HTMLModel",
          "model_module_version": "1.5.0",
          "state": {
            "_dom_classes": [],
            "_model_module": "@jupyter-widgets/controls",
            "_model_module_version": "1.5.0",
            "_model_name": "HTMLModel",
            "_view_count": null,
            "_view_module": "@jupyter-widgets/controls",
            "_view_module_version": "1.5.0",
            "_view_name": "HTMLView",
            "description": "",
            "description_tooltip": null,
            "layout": "IPY_MODEL_8db50b8fbcf44402a99a18f7bec61dcd",
            "placeholder": "​",
            "style": "IPY_MODEL_bb6663818e1e46018c7d030fe63df20c",
            "value": " 2.20k/2.20k [00:00&lt;00:00, 127kB/s]"
          }
        },
        "08faafb42502446b83269efe52bc41e2": {
          "model_module": "@jupyter-widgets/base",
          "model_name": "LayoutModel",
          "model_module_version": "1.2.0",
          "state": {
            "_model_module": "@jupyter-widgets/base",
            "_model_module_version": "1.2.0",
            "_model_name": "LayoutModel",
            "_view_count": null,
            "_view_module": "@jupyter-widgets/base",
            "_view_module_version": "1.2.0",
            "_view_name": "LayoutView",
            "align_content": null,
            "align_items": null,
            "align_self": null,
            "border": null,
            "bottom": null,
            "display": null,
            "flex": null,
            "flex_flow": null,
            "grid_area": null,
            "grid_auto_columns": null,
            "grid_auto_flow": null,
            "grid_auto_rows": null,
            "grid_column": null,
            "grid_gap": null,
            "grid_row": null,
            "grid_template_areas": null,
            "grid_template_columns": null,
            "grid_template_rows": null,
            "height": null,
            "justify_content": null,
            "justify_items": null,
            "left": null,
            "margin": null,
            "max_height": null,
            "max_width": null,
            "min_height": null,
            "min_width": null,
            "object_fit": null,
            "object_position": null,
            "order": null,
            "overflow": null,
            "overflow_x": null,
            "overflow_y": null,
            "padding": null,
            "right": null,
            "top": null,
            "visibility": null,
            "width": null
          }
        },
        "239b41fe11fa42fb90694237619c07df": {
          "model_module": "@jupyter-widgets/base",
          "model_name": "LayoutModel",
          "model_module_version": "1.2.0",
          "state": {
            "_model_module": "@jupyter-widgets/base",
            "_model_module_version": "1.2.0",
            "_model_name": "LayoutModel",
            "_view_count": null,
            "_view_module": "@jupyter-widgets/base",
            "_view_module_version": "1.2.0",
            "_view_name": "LayoutView",
            "align_content": null,
            "align_items": null,
            "align_self": null,
            "border": null,
            "bottom": null,
            "display": null,
            "flex": null,
            "flex_flow": null,
            "grid_area": null,
            "grid_auto_columns": null,
            "grid_auto_flow": null,
            "grid_auto_rows": null,
            "grid_column": null,
            "grid_gap": null,
            "grid_row": null,
            "grid_template_areas": null,
            "grid_template_columns": null,
            "grid_template_rows": null,
            "height": null,
            "justify_content": null,
            "justify_items": null,
            "left": null,
            "margin": null,
            "max_height": null,
            "max_width": null,
            "min_height": null,
            "min_width": null,
            "object_fit": null,
            "object_position": null,
            "order": null,
            "overflow": null,
            "overflow_x": null,
            "overflow_y": null,
            "padding": null,
            "right": null,
            "top": null,
            "visibility": null,
            "width": null
          }
        },
        "777c5d6dae1b4d09a00d97978864f2fc": {
          "model_module": "@jupyter-widgets/controls",
          "model_name": "DescriptionStyleModel",
          "model_module_version": "1.5.0",
          "state": {
            "_model_module": "@jupyter-widgets/controls",
            "_model_module_version": "1.5.0",
            "_model_name": "DescriptionStyleModel",
            "_view_count": null,
            "_view_module": "@jupyter-widgets/base",
            "_view_module_version": "1.2.0",
            "_view_name": "StyleView",
            "description_width": ""
          }
        },
        "9b18083247ad49bb8473b64341f47558": {
          "model_module": "@jupyter-widgets/base",
          "model_name": "LayoutModel",
          "model_module_version": "1.2.0",
          "state": {
            "_model_module": "@jupyter-widgets/base",
            "_model_module_version": "1.2.0",
            "_model_name": "LayoutModel",
            "_view_count": null,
            "_view_module": "@jupyter-widgets/base",
            "_view_module_version": "1.2.0",
            "_view_name": "LayoutView",
            "align_content": null,
            "align_items": null,
            "align_self": null,
            "border": null,
            "bottom": null,
            "display": null,
            "flex": null,
            "flex_flow": null,
            "grid_area": null,
            "grid_auto_columns": null,
            "grid_auto_flow": null,
            "grid_auto_rows": null,
            "grid_column": null,
            "grid_gap": null,
            "grid_row": null,
            "grid_template_areas": null,
            "grid_template_columns": null,
            "grid_template_rows": null,
            "height": null,
            "justify_content": null,
            "justify_items": null,
            "left": null,
            "margin": null,
            "max_height": null,
            "max_width": null,
            "min_height": null,
            "min_width": null,
            "object_fit": null,
            "object_position": null,
            "order": null,
            "overflow": null,
            "overflow_x": null,
            "overflow_y": null,
            "padding": null,
            "right": null,
            "top": null,
            "visibility": null,
            "width": null
          }
        },
        "c9472846427c4218ba8c3dbf55c103e2": {
          "model_module": "@jupyter-widgets/controls",
          "model_name": "ProgressStyleModel",
          "model_module_version": "1.5.0",
          "state": {
            "_model_module": "@jupyter-widgets/controls",
            "_model_module_version": "1.5.0",
            "_model_name": "ProgressStyleModel",
            "_view_count": null,
            "_view_module": "@jupyter-widgets/base",
            "_view_module_version": "1.2.0",
            "_view_name": "StyleView",
            "bar_color": null,
            "description_width": ""
          }
        },
        "8db50b8fbcf44402a99a18f7bec61dcd": {
          "model_module": "@jupyter-widgets/base",
          "model_name": "LayoutModel",
          "model_module_version": "1.2.0",
          "state": {
            "_model_module": "@jupyter-widgets/base",
            "_model_module_version": "1.2.0",
            "_model_name": "LayoutModel",
            "_view_count": null,
            "_view_module": "@jupyter-widgets/base",
            "_view_module_version": "1.2.0",
            "_view_name": "LayoutView",
            "align_content": null,
            "align_items": null,
            "align_self": null,
            "border": null,
            "bottom": null,
            "display": null,
            "flex": null,
            "flex_flow": null,
            "grid_area": null,
            "grid_auto_columns": null,
            "grid_auto_flow": null,
            "grid_auto_rows": null,
            "grid_column": null,
            "grid_gap": null,
            "grid_row": null,
            "grid_template_areas": null,
            "grid_template_columns": null,
            "grid_template_rows": null,
            "height": null,
            "justify_content": null,
            "justify_items": null,
            "left": null,
            "margin": null,
            "max_height": null,
            "max_width": null,
            "min_height": null,
            "min_width": null,
            "object_fit": null,
            "object_position": null,
            "order": null,
            "overflow": null,
            "overflow_x": null,
            "overflow_y": null,
            "padding": null,
            "right": null,
            "top": null,
            "visibility": null,
            "width": null
          }
        },
        "bb6663818e1e46018c7d030fe63df20c": {
          "model_module": "@jupyter-widgets/controls",
          "model_name": "DescriptionStyleModel",
          "model_module_version": "1.5.0",
          "state": {
            "_model_module": "@jupyter-widgets/controls",
            "_model_module_version": "1.5.0",
            "_model_name": "DescriptionStyleModel",
            "_view_count": null,
            "_view_module": "@jupyter-widgets/base",
            "_view_module_version": "1.2.0",
            "_view_name": "StyleView",
            "description_width": ""
          }
        }
      }
    }
  },
  "cells": [
    {
      "cell_type": "markdown",
      "source": [
        "# Set-up\n",
        "For faster implementation, please create three empty folders on your Google Drive, named as 'Lease','Processed_pdf', and 'Pdf_text'.\n",
        "\n",
        "Also, please find your sharepoint username and sharepoint password"
      ],
      "metadata": {
        "id": "kAKf4SV-1gWo"
      }
    },
    {
      "cell_type": "code",
      "execution_count": null,
      "metadata": {
        "colab": {
          "base_uri": "https://localhost:8080/"
        },
        "id": "DbVNtRIsw5BV",
        "outputId": "2a9a2c77-730e-49fe-ce34-fce469e66698"
      },
      "outputs": [
        {
          "output_type": "stream",
          "name": "stdout",
          "text": [
            "Collecting Office365-REST-Python-Client\n",
            "  Downloading Office365_REST_Python_Client-2.4.3-py3-none-any.whl (942 kB)\n",
            "\u001b[2K     \u001b[90m━━━━━━━━━━━━━━━━━━━━━━━━━━━━━━━━━━━━━━━\u001b[0m \u001b[32m942.9/942.9 kB\u001b[0m \u001b[31m5.9 MB/s\u001b[0m eta \u001b[36m0:00:00\u001b[0m\n",
            "\u001b[?25hRequirement already satisfied: requests in /usr/local/lib/python3.10/dist-packages (from Office365-REST-Python-Client) (2.27.1)\n",
            "Collecting msal (from Office365-REST-Python-Client)\n",
            "  Downloading msal-1.23.0-py2.py3-none-any.whl (90 kB)\n",
            "\u001b[2K     \u001b[90m━━━━━━━━━━━━━━━━━━━━━━━━━━━━━━━━━━━━━━━━\u001b[0m \u001b[32m90.8/90.8 kB\u001b[0m \u001b[31m8.6 MB/s\u001b[0m eta \u001b[36m0:00:00\u001b[0m\n",
            "\u001b[?25hRequirement already satisfied: pytz in /usr/local/lib/python3.10/dist-packages (from Office365-REST-Python-Client) (2022.7.1)\n",
            "Requirement already satisfied: PyJWT[crypto]<3,>=1.0.0 in /usr/lib/python3/dist-packages (from msal->Office365-REST-Python-Client) (2.3.0)\n",
            "Requirement already satisfied: cryptography<44,>=0.6 in /usr/lib/python3/dist-packages (from msal->Office365-REST-Python-Client) (3.4.8)\n",
            "Requirement already satisfied: urllib3<1.27,>=1.21.1 in /usr/local/lib/python3.10/dist-packages (from requests->Office365-REST-Python-Client) (1.26.16)\n",
            "Requirement already satisfied: certifi>=2017.4.17 in /usr/local/lib/python3.10/dist-packages (from requests->Office365-REST-Python-Client) (2023.7.22)\n",
            "Requirement already satisfied: charset-normalizer~=2.0.0 in /usr/local/lib/python3.10/dist-packages (from requests->Office365-REST-Python-Client) (2.0.12)\n",
            "Requirement already satisfied: idna<4,>=2.5 in /usr/local/lib/python3.10/dist-packages (from requests->Office365-REST-Python-Client) (3.4)\n",
            "Installing collected packages: msal, Office365-REST-Python-Client\n",
            "Successfully installed Office365-REST-Python-Client-2.4.3 msal-1.23.0\n",
            "Collecting PyPDF2\n",
            "  Downloading pypdf2-3.0.1-py3-none-any.whl (232 kB)\n",
            "\u001b[2K     \u001b[90m━━━━━━━━━━━━━━━━━━━━━━━━━━━━━━━━━━━━━━━\u001b[0m \u001b[32m232.6/232.6 kB\u001b[0m \u001b[31m2.5 MB/s\u001b[0m eta \u001b[36m0:00:00\u001b[0m\n",
            "\u001b[?25hInstalling collected packages: PyPDF2\n",
            "Successfully installed PyPDF2-3.0.1\n",
            "Collecting pdfminer\n",
            "  Downloading pdfminer-20191125.tar.gz (4.2 MB)\n",
            "\u001b[2K     \u001b[90m━━━━━━━━━━━━━━━━━━━━━━━━━━━━━━━━━━━━━━━━\u001b[0m \u001b[32m4.2/4.2 MB\u001b[0m \u001b[31m12.5 MB/s\u001b[0m eta \u001b[36m0:00:00\u001b[0m\n",
            "\u001b[?25h  Preparing metadata (setup.py) ... \u001b[?25l\u001b[?25hdone\n",
            "Collecting pycryptodome (from pdfminer)\n",
            "  Downloading pycryptodome-3.18.0-cp35-abi3-manylinux_2_17_x86_64.manylinux2014_x86_64.whl (2.1 MB)\n",
            "\u001b[2K     \u001b[90m━━━━━━━━━━━━━━━━━━━━━━━━━━━━━━━━━━━━━━━━\u001b[0m \u001b[32m2.1/2.1 MB\u001b[0m \u001b[31m21.0 MB/s\u001b[0m eta \u001b[36m0:00:00\u001b[0m\n",
            "\u001b[?25hBuilding wheels for collected packages: pdfminer\n",
            "  Building wheel for pdfminer (setup.py) ... \u001b[?25l\u001b[?25hdone\n",
            "  Created wheel for pdfminer: filename=pdfminer-20191125-py3-none-any.whl size=6140105 sha256=bf3b37e26a5a4ab00ac9c2937aa0acfbfc96093dc885d2c309cfcc978bc54a10\n",
            "  Stored in directory: /root/.cache/pip/wheels/4e/c1/68/f7bd0a8f514661f76b5cbe3b5f76e0033d79f1296012cbbf72\n",
            "Successfully built pdfminer\n",
            "Installing collected packages: pycryptodome, pdfminer\n",
            "Successfully installed pdfminer-20191125 pycryptodome-3.18.0\n",
            "\u001b[2K     \u001b[90m━━━━━━━━━━━━━━━━━━━━━━━━━━━━━━━━━━━━━━━━\u001b[0m \u001b[32m7.4/7.4 MB\u001b[0m \u001b[31m14.4 MB/s\u001b[0m eta \u001b[36m0:00:00\u001b[0m\n",
            "\u001b[2K     \u001b[90m━━━━━━━━━━━━━━━━━━━━━━━━━━━━━━━━━━━━━━\u001b[0m \u001b[32m268.8/268.8 kB\u001b[0m \u001b[31m23.4 MB/s\u001b[0m eta \u001b[36m0:00:00\u001b[0m\n",
            "\u001b[2K     \u001b[90m━━━━━━━━━━━━━━━━━━━━━━━━━━━━━━━━━━━━━━━━\u001b[0m \u001b[32m7.8/7.8 MB\u001b[0m \u001b[31m39.1 MB/s\u001b[0m eta \u001b[36m0:00:00\u001b[0m\n",
            "\u001b[2K     \u001b[90m━━━━━━━━━━━━━━━━━━━━━━━━━━━━━━━━━━━━━━━━\u001b[0m \u001b[32m1.3/1.3 MB\u001b[0m \u001b[31m41.8 MB/s\u001b[0m eta \u001b[36m0:00:00\u001b[0m\n",
            "Reading package lists... Done\n",
            "Building dependency tree... Done\n",
            "Reading state information... Done\n",
            "The following additional packages will be installed:\n",
            "  tesseract-ocr-eng tesseract-ocr-osd\n",
            "The following NEW packages will be installed:\n",
            "  tesseract-ocr tesseract-ocr-eng tesseract-ocr-osd\n",
            "0 upgraded, 3 newly installed, 0 to remove and 15 not upgraded.\n",
            "Need to get 4,816 kB of archives.\n",
            "After this operation, 15.6 MB of additional disk space will be used.\n",
            "Get:1 http://archive.ubuntu.com/ubuntu jammy/universe amd64 tesseract-ocr-eng all 1:4.00~git30-7274cfa-1.1 [1,591 kB]\n",
            "Get:2 http://archive.ubuntu.com/ubuntu jammy/universe amd64 tesseract-ocr-osd all 1:4.00~git30-7274cfa-1.1 [2,990 kB]\n",
            "Get:3 http://archive.ubuntu.com/ubuntu jammy/universe amd64 tesseract-ocr amd64 4.1.1-2.1build1 [236 kB]\n",
            "Fetched 4,816 kB in 1s (4,249 kB/s)\n",
            "debconf: unable to initialize frontend: Dialog\n",
            "debconf: (No usable dialog-like program is installed, so the dialog based frontend cannot be used. at /usr/share/perl5/Debconf/FrontEnd/Dialog.pm line 78, <> line 3.)\n",
            "debconf: falling back to frontend: Readline\n",
            "debconf: unable to initialize frontend: Readline\n",
            "debconf: (This frontend requires a controlling tty.)\n",
            "debconf: falling back to frontend: Teletype\n",
            "dpkg-preconfigure: unable to re-open stdin: \n",
            "Selecting previously unselected package tesseract-ocr-eng.\n",
            "(Reading database ... 120500 files and directories currently installed.)\n",
            "Preparing to unpack .../tesseract-ocr-eng_1%3a4.00~git30-7274cfa-1.1_all.deb ...\n",
            "Unpacking tesseract-ocr-eng (1:4.00~git30-7274cfa-1.1) ...\n",
            "Selecting previously unselected package tesseract-ocr-osd.\n",
            "Preparing to unpack .../tesseract-ocr-osd_1%3a4.00~git30-7274cfa-1.1_all.deb ...\n",
            "Unpacking tesseract-ocr-osd (1:4.00~git30-7274cfa-1.1) ...\n",
            "Selecting previously unselected package tesseract-ocr.\n",
            "Preparing to unpack .../tesseract-ocr_4.1.1-2.1build1_amd64.deb ...\n",
            "Unpacking tesseract-ocr (4.1.1-2.1build1) ...\n",
            "Setting up tesseract-ocr-eng (1:4.00~git30-7274cfa-1.1) ...\n",
            "Setting up tesseract-ocr-osd (1:4.00~git30-7274cfa-1.1) ...\n",
            "Setting up tesseract-ocr (4.1.1-2.1build1) ...\n",
            "Processing triggers for man-db (2.10.2-1) ...\n",
            "Collecting pytesseract\n",
            "  Downloading pytesseract-0.3.10-py3-none-any.whl (14 kB)\n",
            "Requirement already satisfied: packaging>=21.3 in /usr/local/lib/python3.10/dist-packages (from pytesseract) (23.1)\n",
            "Requirement already satisfied: Pillow>=8.0.0 in /usr/local/lib/python3.10/dist-packages (from pytesseract) (9.4.0)\n",
            "Installing collected packages: pytesseract\n",
            "Successfully installed pytesseract-0.3.10\n",
            "Collecting pdf2image\n",
            "  Downloading pdf2image-1.16.3-py3-none-any.whl (11 kB)\n",
            "Requirement already satisfied: pillow in /usr/local/lib/python3.10/dist-packages (from pdf2image) (9.4.0)\n",
            "Installing collected packages: pdf2image\n",
            "Successfully installed pdf2image-1.16.3\n",
            "Reading package lists... Done\n",
            "Building dependency tree... Done\n",
            "Reading state information... Done\n",
            "The following NEW packages will be installed:\n",
            "  poppler-utils\n",
            "0 upgraded, 1 newly installed, 0 to remove and 15 not upgraded.\n",
            "Need to get 186 kB of archives.\n",
            "After this operation, 696 kB of additional disk space will be used.\n",
            "Get:1 http://archive.ubuntu.com/ubuntu jammy-updates/main amd64 poppler-utils amd64 22.02.0-2ubuntu0.1 [186 kB]\n",
            "Fetched 186 kB in 1s (330 kB/s)\n",
            "Selecting previously unselected package poppler-utils.\n",
            "(Reading database ... 120547 files and directories currently installed.)\n",
            "Preparing to unpack .../poppler-utils_22.02.0-2ubuntu0.1_amd64.deb ...\n",
            "Unpacking poppler-utils (22.02.0-2ubuntu0.1) ...\n",
            "Setting up poppler-utils (22.02.0-2ubuntu0.1) ...\n",
            "Processing triggers for man-db (2.10.2-1) ...\n"
          ]
        }
      ],
      "source": [
        "# Install Packages\n",
        "! pip install Office365-REST-Python-Client\n",
        "! pip install PyPDF2\n",
        "! pip install pdfminer\n",
        "! pip install -q transformers\n",
        "!sudo apt install tesseract-ocr\n",
        "!pip install pytesseract\n",
        "! pip install pdf2image\n",
        "!apt-get install poppler-utils"
      ]
    },
    {
      "cell_type": "code",
      "source": [
        "# Upgrade packages\n",
        "!sudo apt-get dist-upgrade"
      ],
      "metadata": {
        "colab": {
          "base_uri": "https://localhost:8080/"
        },
        "id": "HuJnAhVzxa7L",
        "outputId": "ea8805eb-8093-4d37-c871-73772d6f739a"
      },
      "execution_count": null,
      "outputs": [
        {
          "output_type": "stream",
          "name": "stdout",
          "text": [
            "Reading package lists... Done\n",
            "Building dependency tree... Done\n",
            "Reading state information... Done\n",
            "Calculating upgrade... Done\n",
            "The following packages have been kept back:\n",
            "  libcudnn8 libcudnn8-dev libnccl-dev libnccl2\n",
            "The following packages will be upgraded:\n",
            "  binutils binutils-common binutils-x86-64-linux-gnu cuda-keyring\n",
            "  cuda-toolkit-config-common libbinutils libcap2 libctf-nobfd0 libctf0\n",
            "  libldap-2.5-0 linux-libc-dev\n",
            "11 upgraded, 0 newly installed, 0 to remove and 4 not upgraded.\n",
            "Need to get 4,954 kB of archives.\n",
            "After this operation, 0 B of additional disk space will be used.\n",
            "Get:1 https://developer.download.nvidia.com/compute/cuda/repos/ubuntu2204/x86_64  cuda-keyring 1.1-1 [4,332 B]\n",
            "Get:2 https://developer.download.nvidia.com/compute/cuda/repos/ubuntu2204/x86_64  cuda-toolkit-config-common 12.2.128-1 [16.4 kB]\n",
            "Get:3 http://archive.ubuntu.com/ubuntu jammy-updates/main amd64 libcap2 amd64 1:2.44-1ubuntu0.22.04.1 [18.3 kB]\n",
            "Get:4 http://archive.ubuntu.com/ubuntu jammy-updates/main amd64 libctf0 amd64 2.38-4ubuntu2.3 [103 kB]\n",
            "Get:5 http://archive.ubuntu.com/ubuntu jammy-updates/main amd64 libctf-nobfd0 amd64 2.38-4ubuntu2.3 [107 kB]\n",
            "Get:6 http://archive.ubuntu.com/ubuntu jammy-updates/main amd64 binutils-x86-64-linux-gnu amd64 2.38-4ubuntu2.3 [2,327 kB]\n",
            "Get:7 http://archive.ubuntu.com/ubuntu jammy-updates/main amd64 libbinutils amd64 2.38-4ubuntu2.3 [662 kB]\n",
            "Get:8 http://archive.ubuntu.com/ubuntu jammy-updates/main amd64 binutils amd64 2.38-4ubuntu2.3 [3,190 B]\n",
            "Get:9 http://archive.ubuntu.com/ubuntu jammy-updates/main amd64 binutils-common amd64 2.38-4ubuntu2.3 [222 kB]\n",
            "Get:10 http://archive.ubuntu.com/ubuntu jammy-updates/main amd64 libldap-2.5-0 amd64 2.5.15+dfsg-0ubuntu0.22.04.1 [183 kB]\n",
            "Get:11 http://archive.ubuntu.com/ubuntu jammy-updates/main amd64 linux-libc-dev amd64 5.15.0-78.85 [1,307 kB]\n",
            "Fetched 4,954 kB in 1s (4,485 kB/s)\n",
            "debconf: unable to initialize frontend: Dialog\n",
            "debconf: (No usable dialog-like program is installed, so the dialog based frontend cannot be used. at /usr/share/perl5/Debconf/FrontEnd/Dialog.pm line 78, <> line 11.)\n",
            "debconf: falling back to frontend: Readline\n",
            "debconf: unable to initialize frontend: Readline\n",
            "debconf: (This frontend requires a controlling tty.)\n",
            "debconf: falling back to frontend: Teletype\n",
            "dpkg-preconfigure: unable to re-open stdin: \n",
            "(Reading database ... 120577 files and directories currently installed.)\n",
            "Preparing to unpack .../libcap2_1%3a2.44-1ubuntu0.22.04.1_amd64.deb ...\n",
            "Unpacking libcap2:amd64 (1:2.44-1ubuntu0.22.04.1) over (1:2.44-1build3) ...\n",
            "Setting up libcap2:amd64 (1:2.44-1ubuntu0.22.04.1) ...\n",
            "(Reading database ... 120577 files and directories currently installed.)\n",
            "Preparing to unpack .../0-libctf0_2.38-4ubuntu2.3_amd64.deb ...\n",
            "Unpacking libctf0:amd64 (2.38-4ubuntu2.3) over (2.38-4ubuntu2.2) ...\n",
            "Preparing to unpack .../1-libctf-nobfd0_2.38-4ubuntu2.3_amd64.deb ...\n",
            "Unpacking libctf-nobfd0:amd64 (2.38-4ubuntu2.3) over (2.38-4ubuntu2.2) ...\n",
            "Preparing to unpack .../2-binutils-x86-64-linux-gnu_2.38-4ubuntu2.3_amd64.deb ...\n",
            "Unpacking binutils-x86-64-linux-gnu (2.38-4ubuntu2.3) over (2.38-4ubuntu2.2) ...\n",
            "Preparing to unpack .../3-libbinutils_2.38-4ubuntu2.3_amd64.deb ...\n",
            "Unpacking libbinutils:amd64 (2.38-4ubuntu2.3) over (2.38-4ubuntu2.2) ...\n",
            "Preparing to unpack .../4-binutils_2.38-4ubuntu2.3_amd64.deb ...\n",
            "Unpacking binutils (2.38-4ubuntu2.3) over (2.38-4ubuntu2.2) ...\n",
            "Preparing to unpack .../5-binutils-common_2.38-4ubuntu2.3_amd64.deb ...\n",
            "Unpacking binutils-common:amd64 (2.38-4ubuntu2.3) over (2.38-4ubuntu2.2) ...\n",
            "Preparing to unpack .../6-cuda-keyring_1.1-1_all.deb ...\n",
            "Unpacking cuda-keyring (1.1-1) over (1.0-1) ...\n",
            "Preparing to unpack .../7-cuda-toolkit-config-common_12.2.128-1_all.deb ...\n",
            "Unpacking cuda-toolkit-config-common (12.2.128-1) over (12.1.105-1) ...\n",
            "Preparing to unpack .../8-libldap-2.5-0_2.5.15+dfsg-0ubuntu0.22.04.1_amd64.deb ...\n",
            "Unpacking libldap-2.5-0:amd64 (2.5.15+dfsg-0ubuntu0.22.04.1) over (2.5.14+dfsg-0ubuntu0.22.04.2) ...\n",
            "Preparing to unpack .../9-linux-libc-dev_5.15.0-78.85_amd64.deb ...\n",
            "Unpacking linux-libc-dev:amd64 (5.15.0-78.85) over (5.15.0-75.82) ...\n",
            "Setting up cuda-toolkit-config-common (12.2.128-1) ...\n",
            "Setting up binutils-common:amd64 (2.38-4ubuntu2.3) ...\n",
            "Setting up linux-libc-dev:amd64 (5.15.0-78.85) ...\n",
            "Setting up libctf-nobfd0:amd64 (2.38-4ubuntu2.3) ...\n",
            "Setting up libldap-2.5-0:amd64 (2.5.15+dfsg-0ubuntu0.22.04.1) ...\n",
            "Setting up cuda-keyring (1.1-1) ...\n",
            "Setting up libbinutils:amd64 (2.38-4ubuntu2.3) ...\n",
            "Setting up libctf0:amd64 (2.38-4ubuntu2.3) ...\n",
            "Setting up binutils-x86-64-linux-gnu (2.38-4ubuntu2.3) ...\n",
            "Setting up binutils (2.38-4ubuntu2.3) ...\n",
            "Processing triggers for libc-bin (2.35-0ubuntu3.1) ...\n",
            "Processing triggers for man-db (2.10.2-1) ...\n"
          ]
        }
      ]
    },
    {
      "cell_type": "code",
      "source": [
        "# Import libraries and modules\n",
        "from office365.runtime.auth.user_credential import UserCredential\n",
        "from office365.sharepoint.client_context import ClientContext\n",
        "from office365.sharepoint.files.file import File\n",
        "import os\n",
        "import pytesseract\n",
        "from pytesseract import Output\n",
        "import cv2\n",
        "from google.colab.patches import cv2_imshow\n",
        "import re\n",
        "import pytesseract\n",
        "import shutil\n",
        "import os\n",
        "import random\n",
        "try:\n",
        "    from PIL import Image\n",
        "except ImportError:\n",
        "    import Image\n",
        "import tempfile\n",
        "from pathlib import Path\n",
        "import PIL\n",
        "from PIL import ImageDraw\n",
        "from pdf2image import convert_from_path, convert_from_bytes\n",
        "import pandas as pd"
      ],
      "metadata": {
        "id": "QuXas8rQxmEw"
      },
      "execution_count": null,
      "outputs": []
    },
    {
      "cell_type": "markdown",
      "source": [
        "# Connect to Sharepoint"
      ],
      "metadata": {
        "id": "IbvQSQuEyRHu"
      }
    },
    {
      "cell_type": "code",
      "source": [
        "sharepoint_url = \"https://davittjonesbouldltd.sharepoint.com/sites/Files\"\n",
        "sharepoint_files = 'Shared Documents'\n",
        "site_name = 'Files'\n",
        "username = 'difan.deng@djblaw.co.uk'\n",
        "password = 'PaperMoon543!'\n",
        "folder_name = 'Adminwork/Difan Deng/Lease'"
      ],
      "metadata": {
        "id": "JVRFQeZIxo0J"
      },
      "execution_count": null,
      "outputs": []
    },
    {
      "cell_type": "code",
      "source": [
        "# Build a connection\n",
        "connection_sharepoint = ClientContext(sharepoint_url).with_credentials(\n",
        "            UserCredential(\n",
        "                username,\n",
        "                password\n",
        "            )\n",
        "        )"
      ],
      "metadata": {
        "id": "wUhc3mDCyYmD"
      },
      "execution_count": null,
      "outputs": []
    },
    {
      "cell_type": "markdown",
      "source": [
        "# Download file from sharepoint"
      ],
      "metadata": {
        "id": "SNzYLyVYybD7"
      }
    },
    {
      "cell_type": "code",
      "source": [
        "# Define a function to extract files from folders and download\n",
        "def get_folders(files,folder):\n",
        "        # Establish the connection\n",
        "        connection = connection_sharepoint\n",
        "        # Get list of folders in the main folder\n",
        "        target_folder_url = f'{files}/{folder}'\n",
        "        root_folder = connection.web.get_folder_by_server_relative_url(target_folder_url)\n",
        "        subfolders = root_folder.folders\n",
        "        connection.load(subfolders)\n",
        "        connection.execute_query()\n",
        "        folder_names = []\n",
        "        # Get all folders in the 'Lease' folder\n",
        "        for s_folder in subfolders:\n",
        "            folder_names.append(s_folder.properties['Name'])\n",
        "        # Loop over each folder to get the files\n",
        "        folder_names = [i for i in folder_names if 'cvs' in i.lower()] # This line is spcified for CVS\n",
        "        for i in range(len(folder_names)):\n",
        "          folder_url = f'{files}/{folder}/{folder_names[i]}'\n",
        "          file_source = connection.web.get_folder_by_server_relative_url(folder_url)\n",
        "          file_list = file_source.files\n",
        "          connection.load(file_list)\n",
        "          connection.execute_query()\n",
        "          file_name = []\n",
        "          for file in file_list:\n",
        "            file_name.append(file.properties['Name'])\n",
        "        # Download the file if file_name is not empty\n",
        "          for x in range(len(file_name)):\n",
        "            if (('lease' in file_name[x].lower()) and ('pdf' in file_name[x])): # only download lease file & pdf files\n",
        "              file_name_x = file_name[x]\n",
        "              with open(f\"/content/drive/MyDrive/Lease/{file_name_x}\", 'wb') as output_file: # Specify the output location\n",
        "                file_url = folder_url + '/' + file_name_x\n",
        "                file_connection = connection.web.get_file_by_server_relative_url(file_url)\n",
        "                file_connection.download(output_file)\n",
        "                connection.execute_query()\n",
        "                '''\n",
        "            else: # Remove unnecessary documents to save storage\n",
        "              file_name_y = file_name[x]\n",
        "              file_url = folder_url + '/' + file_name_y\n",
        "              file_connection = connection.web.get_file_by_server_relative_url(file_url)\n",
        "              file_connection.delete_object()\n",
        "              connection.execute_query()\n",
        "            # Do not download non-lease files\n",
        "            '''\n",
        "            x+=1\n",
        "          i+=1"
      ],
      "metadata": {
        "id": "givjKl8hycFi"
      },
      "execution_count": null,
      "outputs": []
    },
    {
      "cell_type": "code",
      "source": [
        "        connection = connection_sharepoint\n",
        "        # Get list of folders in the main folder\n",
        "        target_folder_url = f'{sharepoint_files}/{folder_name}'\n",
        "        root_folder = connection.web.get_folder_by_server_relative_url(target_folder_url)\n",
        "        subfolders = root_folder.folders\n",
        "        connection.load(subfolders)\n",
        "        connection.execute_query()\n",
        "        folder_names = []\n",
        "        # Get all folders in the 'Lease' folder\n",
        "        for s_folder in subfolders:\n",
        "            folder_names.append(s_folder.properties['Name'])"
      ],
      "metadata": {
        "id": "5vHRw_Yo0bOh"
      },
      "execution_count": null,
      "outputs": []
    },
    {
      "cell_type": "code",
      "source": [
        "# Get the list of file directories in the sharepoint\n",
        "file_name = []\n",
        "for i in range(len(folder_names)):\n",
        "    folder_url = f'{sharepoint_files}/{folder_name}/{folder_names[i]}'\n",
        "    file_source = connection.web.get_folder_by_server_relative_url(folder_url)\n",
        "    file_list = file_source.files\n",
        "    connection.load(file_list)\n",
        "    connection.execute_query()\n",
        "    for file in file_list:\n",
        "        file_name.append(file.properties['Name'])\n",
        "    i+=1"
      ],
      "metadata": {
        "id": "QoTT55sq0-tn"
      },
      "execution_count": null,
      "outputs": []
    },
    {
      "cell_type": "code",
      "source": [
        "# Download files by file directories\n",
        "get_folders(sharepoint_files,folder_name)"
      ],
      "metadata": {
        "id": "lLZrO-DPzHiG"
      },
      "execution_count": null,
      "outputs": []
    },
    {
      "cell_type": "code",
      "source": [
        "# check length of the direcotry\n",
        "dir = '/content/drive/MyDrive/Lease'\n",
        "leases_NUm = os.listdir(dir)\n",
        "len(leases_NUm)"
      ],
      "metadata": {
        "colab": {
          "base_uri": "https://localhost:8080/"
        },
        "id": "IUeivMZe5rN7",
        "outputId": "da3de74e-2249-479e-dcc0-278aff087c8a"
      },
      "execution_count": null,
      "outputs": [
        {
          "output_type": "execute_result",
          "data": {
            "text/plain": [
              "390"
            ]
          },
          "metadata": {},
          "execution_count": 30
        }
      ]
    },
    {
      "cell_type": "markdown",
      "source": [
        "# Classify pdf documents into text or image"
      ],
      "metadata": {
        "id": "u8WogzpR5sa7"
      }
    },
    {
      "cell_type": "code",
      "source": [
        "# Find all file path for leases in the folder\n",
        "dir = '/content/drive/MyDrive/Lease' # same as output directory\n",
        "lease_path = []\n",
        "for path in os.listdir(dir):\n",
        "    # check if current path is a file\n",
        "    if os.path.isfile(os.path.join(dir, path)):\n",
        "      lease_path.append(dir + '/' + path)"
      ],
      "metadata": {
        "id": "Wnk-4N4M5ufN"
      },
      "execution_count": null,
      "outputs": []
    },
    {
      "cell_type": "code",
      "source": [
        "# Functions to classify the pdfs into either text-based or image-based\n",
        "pdf_types = []\n",
        "error_pdf = []\n",
        "def get_pdf_searchable_pages(fname):\n",
        "    \"\"\" intentifying a digitally created pdf or a scanned pdf\"\"\"\n",
        "    from pdfminer.pdfpage import PDFPage\n",
        "    searchable_pages = []\n",
        "    non_searchable_pages = []\n",
        "    page_num = 2\n",
        "    try:\n",
        "      with open(fname, 'rb') as infile:\n",
        "        for page in PDFPage.get_pages(infile,check_extractable=False):\n",
        "            page_num += 1\n",
        "            if 'Font' in page.resources.keys():\n",
        "                searchable_pages.append(page_num)\n",
        "            else:\n",
        "                non_searchable_pages.append(page_num)\n",
        "      if page_num == len(searchable_pages):\n",
        "          pdf_types.append(1)\n",
        "      elif page_num != len(searchable_pages):\n",
        "          pdf_types.append(0)\n",
        "      else:\n",
        "          pdf_types.append(\"fault\")\n",
        "    except:\n",
        "      error_pdf.append(fname)\n",
        "      lease_path.remove(fname)"
      ],
      "metadata": {
        "id": "KvxCPowN6B4A"
      },
      "execution_count": null,
      "outputs": []
    },
    {
      "cell_type": "code",
      "source": [
        "# Classify the pdfs\n",
        "for i in lease_path:\n",
        "  get_pdf_searchable_pages(i)"
      ],
      "metadata": {
        "id": "Ybgt68mH6D6Q"
      },
      "execution_count": null,
      "outputs": []
    },
    {
      "cell_type": "code",
      "source": [
        "# Split csv leases accordingly to text pdf and image pdf\n",
        "def find_indices(list_to_search, values):\n",
        "    indices = []\n",
        "    for idx, value in enumerate(list_to_search):\n",
        "        if value == values:\n",
        "            indices.append(idx)\n",
        "    return indices\n",
        "text_pdf_indices = find_indices(pdf_types, 1)\n",
        "image_pdf_indices = find_indices(pdf_types,0)"
      ],
      "metadata": {
        "id": "A5tHILP66EV2"
      },
      "execution_count": null,
      "outputs": []
    },
    {
      "cell_type": "code",
      "source": [
        "# Image-based filepath\n",
        "image_pdf = []\n",
        "for i in image_pdf_indices:\n",
        "  image_pdf.append(lease_path[i])\n",
        "# Test-nased filepath\n",
        "text_pdf = []\n",
        "for i in text_pdf_indices:\n",
        "  text_pdf.append(lease_path[i])"
      ],
      "metadata": {
        "id": "MatNdHCy6GmW"
      },
      "execution_count": null,
      "outputs": []
    },
    {
      "cell_type": "code",
      "source": [
        "len(lease_path)"
      ],
      "metadata": {
        "colab": {
          "base_uri": "https://localhost:8080/"
        },
        "id": "lZB9WsSNWddj",
        "outputId": "aea2908d-5904-41a9-fbf6-f49ab8b4eede"
      },
      "execution_count": null,
      "outputs": [
        {
          "output_type": "execute_result",
          "data": {
            "text/plain": [
              "92"
            ]
          },
          "metadata": {},
          "execution_count": 32
        }
      ]
    },
    {
      "cell_type": "markdown",
      "source": [
        "# PDF to Image and Image preprocessing"
      ],
      "metadata": {
        "id": "CDOHX67Q-E8f"
      }
    },
    {
      "cell_type": "code",
      "source": [
        "from pdf2image.exceptions import (\n",
        "PDFInfoNotInstalledError,\n",
        "PDFPageCountError,\n",
        "PDFSyntaxError\n",
        ")"
      ],
      "metadata": {
        "id": "ROCn9tY0-G2v"
      },
      "execution_count": null,
      "outputs": []
    },
    {
      "cell_type": "markdown",
      "source": [
        "## Convert PDFs to images"
      ],
      "metadata": {
        "id": "5KZ1vY8cpNGc"
      }
    },
    {
      "cell_type": "code",
      "source": [
        "# Construct a function that transforms image-based pdfs to images\n",
        "import shutil\n",
        "shutil.rmtree\n",
        "def pdf_to_image(file_path):\n",
        "  # Find all filepath that contains an error\n",
        "  file_path = f\"{file_path}\"\n",
        "  error_file = []\n",
        "  missing_file = []\n",
        "  check_file = os.path.exists(file_path)\n",
        "  # write file\n",
        "  if check_file==True:\n",
        "    try:\n",
        "      name = file_path.split('/')[-1][:-4] # Get the name of leases\n",
        "      folder_name = '/content/drive/MyDrive/Processed_pdf/' + name # Set customised output directory\n",
        "      if not os.path.exists(folder_name):\n",
        "        os.mkdir(folder_name)\n",
        "        with open(file_path, \"rb\") as pdf_file:\n",
        "          images = convert_from_bytes(pdf_file.read(), fmt='jpeg',\n",
        "                              output_folder= folder_name,\n",
        "                              dpi=300\n",
        "                              )\n",
        "        try:\n",
        "          os.remove(file_path)\n",
        "        except NotADirectoryError: # If it is already been deleted\n",
        "          pass\n",
        "      else:\n",
        "        pass # Ensure that it will not create the file that is already created\n",
        "      return folder_name\n",
        "    except (ValueError,PDFPageCountError):\n",
        "      error_file.append(file_path)\n",
        "  elif check_file==False:\n",
        "    missing_file.append(file_path)"
      ],
      "metadata": {
        "id": "rJ7WeCcb-LUA"
      },
      "execution_count": null,
      "outputs": []
    },
    {
      "cell_type": "markdown",
      "source": [
        "## Image pre-processing"
      ],
      "metadata": {
        "id": "TRgP24JQpS-K"
      }
    },
    {
      "cell_type": "code",
      "source": [
        "from IPython.core.display import Image\n",
        "from pytesseract import Output\n",
        "from pytesseract import TesseractError\n",
        "# Image preprocessing\n",
        "# Define a function to detect and rotate image\n",
        "def rotate_image(image_path):\n",
        "  orientation_angle=pytesseract.image_to_osd(image_path, output_type=Output.DICT)['orientation'] # Angle of orientation\n",
        "  if orientation_angle == 90:\n",
        "    image_path = cv2.rotate(image_path, cv2.ROTATE_90_COUNTERCLOCKWISE)\n",
        "  elif orientation_angle == 180:\n",
        "    image_path = cv2.rotate(image_path, cv2.ROTATE_180)\n",
        "  elif orientation_angle == 270:\n",
        "    image_path = cv2.rotate(image_path, cv2.ROTATE_90_CLOCKWISE)\n",
        "  else:\n",
        "    pass\n",
        "  return image_path\n",
        "\n",
        "# Preprocessing before OCR to enhance results\n",
        "def image_preprocessing(lease_folder):\n",
        "  lease_folder = f\"{lease_folder}\"\n",
        "  orig_leases = os.listdir(lease_folder)\n",
        "  orig_leases = [i for i in orig_leases if '.pdf' in i] # Exclude the non-lease folder\n",
        "  for leases in range(0,len(orig_leases)):\n",
        "    orig_leases[leases] = lease_folder + '/' + orig_leases[leases] # Extract all folders from the root folder\n",
        "  for index in range(0,len(orig_leases)):\n",
        "    folders = orig_leases[index]\n",
        "    files = os.listdir(folders) # List all file names in the input folder\n",
        "    for i in range(0,len(files)):\n",
        "      files[i] = folders + '/' + files[i] # Above steps to extract all file directories in this directory\n",
        "    for image in files:\n",
        "      if image.endswith('.jpg'):\n",
        "        try:\n",
        "          image_path = image # Image directory\n",
        "          img = cv2.imread(image_path , cv2.IMREAD_GRAYSCALE) # Convert image to black and white\n",
        "          img = rotate_image(img) # Rotate image if is not scanned vertically\n",
        "          ret3,th3 = cv2.threshold(img,0,255,cv2.THRESH_BINARY+cv2.THRESH_OTSU) # Binarization\n",
        "          cv2.imwrite(image_path, th3) #Overwrite original images\n",
        "        except TesseractError:\n",
        "          pass\n",
        "      else:\n",
        "        pass\n",
        "    index+=1"
      ],
      "metadata": {
        "id": "402ky4H3-_8u"
      },
      "execution_count": null,
      "outputs": []
    },
    {
      "cell_type": "markdown",
      "source": [
        "##  Combination of above functions"
      ],
      "metadata": {
        "id": "PjbWIMv0pkDf"
      }
    },
    {
      "cell_type": "code",
      "source": [
        "# Build a pipeline that export pdf to images and perform image preprocessing\n",
        "def pdf_to_image_process(filepath):\n",
        "  try:\n",
        "    filepath = f\"{filepath}\"\n",
        "      # Process image\n",
        "    img_folder_dir = pdf_to_image(filepath)\n",
        "    image_preprocessing(img_folder_dir)\n",
        "  except FileNotFoundError:\n",
        "    pass"
      ],
      "metadata": {
        "id": "F9I3F51lK35E"
      },
      "execution_count": null,
      "outputs": []
    },
    {
      "cell_type": "code",
      "source": [
        "# Process all files in the directory\n",
        "for i in image_pdf:\n",
        "  pdf_to_image_process(i)"
      ],
      "metadata": {
        "id": "EDQr5CNTBR5i"
      },
      "execution_count": null,
      "outputs": []
    },
    {
      "cell_type": "markdown",
      "source": [
        "# Convert image to text"
      ],
      "metadata": {
        "id": "5faj9ftTJZob"
      }
    },
    {
      "cell_type": "code",
      "source": [
        "# Get the folder directories of all folders containing preprocessed images\n",
        "import os\n",
        "dir = '/content/drive/MyDrive/Processed_pdf'\n",
        "files = os.listdir(dir)\n",
        "for i in range(0,len(files)):\n",
        "  files[i] = dir + '/' + files[i]"
      ],
      "metadata": {
        "id": "GJUz5gTfMkKp"
      },
      "execution_count": null,
      "outputs": []
    },
    {
      "cell_type": "code",
      "source": [
        "# Get the file directories of all files in each folder\n",
        "List_leases = []\n",
        "for folders in range(0,len(files)):\n",
        "  leases = os.listdir(files[folders])\n",
        "  for i in range(0,len(leases)):\n",
        "    if (('chopped' in leases[i]) or ('.jpg' not in leases[i])):\n",
        "      leases.remove(leases[i])\n",
        "    else:\n",
        "      leases[i] = files[folders] + '/' + leases[i]\n",
        "      i+=1\n",
        "  List_leases.append(leases)\n",
        "  folders +=1"
      ],
      "metadata": {
        "id": "N0Jy5zUSM_Yr"
      },
      "execution_count": null,
      "outputs": []
    },
    {
      "cell_type": "code",
      "source": [
        "# Functions to convert image to text\n",
        "def image_to_text(dir):\n",
        "  # Get the folder directories of all folders containing preprocessed images\n",
        "  folders = os.listdir(dir)\n",
        "  for i in range(0,len(folders)):\n",
        "    folders[i] = dir + '/' + folders[i]\n",
        "  # Get the file directories of all files in each folder\n",
        "  List_leases = []\n",
        "  for folder in range(0,len(folders)):\n",
        "    leases = os.listdir(folders[folder])\n",
        "    for i in range(0,len(leases)):\n",
        "      if (('chopped' in leases[i]) or ('.jpg' not in leases[i])):\n",
        "        leases.remove(leases[i])\n",
        "      else:\n",
        "        leases[i] = folders[folder] + '/' + leases[i]\n",
        "        i+=1\n",
        "    List_leases.append(leases)\n",
        "    folder +=1\n",
        "  # Image to text\n",
        "  error_image = []\n",
        "  for i in range(len(List_leases)):\n",
        "      text_scanned=''\n",
        "      pdf_name= folders[i].split('/')[-1]\n",
        "      ouput_folder = '/content/drive/MyDrive/Pdf_text'\n",
        "      output_path = ouput_folder + '/' + pdf_name + '.txt'\n",
        "      # Check if output path already exists to avoid unnecessary conversion\n",
        "      if os.path.exists(output_path):\n",
        "        pass\n",
        "      else:\n",
        "        try:\n",
        "          for x in range(len(List_leases[i])):\n",
        "            img = cv2.imread(List_leases[i][x])\n",
        "            text = pytesseract.image_to_string(img)\n",
        "            text_scanned += text\n",
        "            #os.remove(dir[i])\n",
        "            x+=1\n",
        "          fileTxt = open(output_path, \"w\")\n",
        "          fileTxt.write(text_scanned)\n",
        "        except TypeError:\n",
        "          error_image.append(List_leases[i])\n",
        "      i+=1"
      ],
      "metadata": {
        "id": "mGPv9oXDP5q6"
      },
      "execution_count": null,
      "outputs": []
    },
    {
      "cell_type": "code",
      "source": [
        "# Process all exported pdf files\n",
        "image_to_text('/content/drive/MyDrive/Processed_pdf')"
      ],
      "metadata": {
        "id": "bf7sSEaRTAdt"
      },
      "execution_count": null,
      "outputs": []
    },
    {
      "cell_type": "markdown",
      "source": [
        "# Convert text pdf to txt file"
      ],
      "metadata": {
        "id": "eDTtobZdKfm-"
      }
    },
    {
      "cell_type": "code",
      "source": [
        "! pip install PyPDF2\n",
        "import PyPDF2"
      ],
      "metadata": {
        "colab": {
          "base_uri": "https://localhost:8080/"
        },
        "id": "A0_H2P3QKeaO",
        "outputId": "4e4e4d07-edba-4154-f931-59e8a4c8b1a3"
      },
      "execution_count": null,
      "outputs": [
        {
          "output_type": "stream",
          "name": "stdout",
          "text": [
            "Requirement already satisfied: PyPDF2 in /usr/local/lib/python3.10/dist-packages (3.0.1)\n"
          ]
        }
      ]
    },
    {
      "cell_type": "code",
      "source": [
        "! pip install tika"
      ],
      "metadata": {
        "colab": {
          "base_uri": "https://localhost:8080/"
        },
        "id": "2FEgULj8Odho",
        "outputId": "f6712770-2606-448c-eded-c78fc92bc8af"
      },
      "execution_count": null,
      "outputs": [
        {
          "output_type": "stream",
          "name": "stdout",
          "text": [
            "Collecting tika\n",
            "  Downloading tika-2.6.0.tar.gz (27 kB)\n",
            "  Preparing metadata (setup.py) ... \u001b[?25l\u001b[?25hdone\n",
            "Requirement already satisfied: setuptools in /usr/local/lib/python3.10/dist-packages (from tika) (67.7.2)\n",
            "Requirement already satisfied: requests in /usr/local/lib/python3.10/dist-packages (from tika) (2.27.1)\n",
            "Requirement already satisfied: urllib3<1.27,>=1.21.1 in /usr/local/lib/python3.10/dist-packages (from requests->tika) (1.26.16)\n",
            "Requirement already satisfied: certifi>=2017.4.17 in /usr/local/lib/python3.10/dist-packages (from requests->tika) (2023.5.7)\n",
            "Requirement already satisfied: charset-normalizer~=2.0.0 in /usr/local/lib/python3.10/dist-packages (from requests->tika) (2.0.12)\n",
            "Requirement already satisfied: idna<4,>=2.5 in /usr/local/lib/python3.10/dist-packages (from requests->tika) (3.4)\n",
            "Building wheels for collected packages: tika\n",
            "  Building wheel for tika (setup.py) ... \u001b[?25l\u001b[?25hdone\n",
            "  Created wheel for tika: filename=tika-2.6.0-py3-none-any.whl size=32625 sha256=5b137d7dbee430367fe936a1beab1e590f5ed5f65a5c6f5fe4d3e837b04bf2ea\n",
            "  Stored in directory: /root/.cache/pip/wheels/5f/71/c7/b757709531121b1700cffda5b6b0d4aad095fb507ec84316d0\n",
            "Successfully built tika\n",
            "Installing collected packages: tika\n",
            "Successfully installed tika-2.6.0\n"
          ]
        }
      ]
    },
    {
      "cell_type": "code",
      "source": [
        "# import parser object from tike\n",
        "from tika import parser"
      ],
      "metadata": {
        "id": "xNtsIDVtO5y7"
      },
      "execution_count": null,
      "outputs": []
    },
    {
      "cell_type": "code",
      "source": [
        "def text_pdf_to_txt(input_dir_list):\n",
        "  output_dir = '/content/drive/MyDrive/Pdf_text'\n",
        "  for i in range(len(input_dir_list)):\n",
        "    parsed_pdf = parser.from_file(input_dir_list[i])  # opening pdf file\n",
        "    # parsed_pdf['content'] returns string\n",
        "    data = parsed_pdf['content']\n",
        "    # Write to text files\n",
        "    file_name = input_dir_list[i].split('/')[-1][:-4]\n",
        "    output_name = output_dir + '/'+ file_name + '.txt'\n",
        "    with open(output_name,\"w+\") as f:\n",
        "      f.writelines(data)\n",
        "    i+=1"
      ],
      "metadata": {
        "id": "w9YY-kVhOv4U"
      },
      "execution_count": null,
      "outputs": []
    },
    {
      "cell_type": "code",
      "source": [
        "# Convert text-based pdf to text\n",
        "text_pdf_to_txt(text_pdf)"
      ],
      "metadata": {
        "id": "ku48fEY2PY4G"
      },
      "execution_count": null,
      "outputs": []
    },
    {
      "cell_type": "markdown",
      "source": [
        "# Verification that every pdf is converted to text"
      ],
      "metadata": {
        "id": "1QKdmSrLA5NA"
      }
    },
    {
      "cell_type": "code",
      "source": [
        "dir_text = '/content/drive/MyDrive/Pdf_text'\n",
        "converted_pdf = os.listdir(dir)\n",
        "len(set(converted_pdf))"
      ],
      "metadata": {
        "colab": {
          "base_uri": "https://localhost:8080/"
        },
        "id": "jdgTX_A19mxY",
        "outputId": "896c2ddf-1392-495d-9c9e-dfe021e85ffd"
      },
      "execution_count": null,
      "outputs": [
        {
          "output_type": "execute_result",
          "data": {
            "text/plain": [
              "387"
            ]
          },
          "metadata": {},
          "execution_count": 10
        }
      ]
    },
    {
      "cell_type": "markdown",
      "source": [
        "# Image extraction date"
      ],
      "metadata": {
        "id": "PTKjfGseWhnl"
      }
    },
    {
      "cell_type": "markdown",
      "source": [
        "## Find all image path contains date"
      ],
      "metadata": {
        "id": "J21IB9bMWsY5"
      }
    },
    {
      "cell_type": "code",
      "source": [
        "# import libraries\n",
        "import torch\n",
        "from functools import partial\n",
        "from PIL import Image\n",
        "from transformers import Pix2StructForConditionalGeneration as psg\n",
        "from transformers import Pix2StructProcessor as psp\n",
        "import glob"
      ],
      "metadata": {
        "id": "hIz-C_RYXcXb"
      },
      "execution_count": null,
      "outputs": []
    },
    {
      "cell_type": "code",
      "source": [
        "# Get the folders in the root directory\n",
        "rootdir = '/content/drive/MyDrive/Processed_pdf'\n",
        "folderdir = []\n",
        "for path in glob.glob(f'{rootdir}/*'):\n",
        "    folderdir.append(path)"
      ],
      "metadata": {
        "id": "wgxgV9R2oXo1"
      },
      "execution_count": null,
      "outputs": []
    },
    {
      "cell_type": "code",
      "source": [
        "# Define a function to extract values from lease\n",
        "def extract_and_crop(folder):\n",
        "  folderdir = folder\n",
        "  file_image_dir = []\n",
        "  # Get files in the folder\n",
        "  for fol in range(len(folderdir)):\n",
        "    curr_folder = folderdir[fol]\n",
        "    file_folder = []\n",
        "    for files in glob.glob(f'{curr_folder}/*'):\n",
        "      file_folder.append(files)\n",
        "    # If a lease is less than 3 pages ignore\n",
        "    if len(file_folder) <=3:\n",
        "      fol+=1\n",
        "    else:\n",
        "  # Search date in the file\n",
        "      for f in range(0,3): # We only want to extract date from the first 3 pages\n",
        "        date_pattern = ['date','dated']\n",
        "        img = cv2.imread(file_folder[f])\n",
        "        d = pytesseract.image_to_data(img, output_type=Output.DICT) # Get attributes/metadata of the image\n",
        "        text = d['text']\n",
        "        text = [i.lower() for i in text]\n",
        "        response= []\n",
        "        for i in text:\n",
        "          res = any(item==i for item in date_pattern)\n",
        "          response.append(res)\n",
        "        if True in response:\n",
        "          file_image_dir.append(file_folder[f])\n",
        "        else:\n",
        "          f+=1\n",
        "    fol+=1\n",
        "  return file_image_dir"
      ],
      "metadata": {
        "id": "JmT9Pc49Wkj0"
      },
      "execution_count": null,
      "outputs": []
    },
    {
      "cell_type": "code",
      "source": [
        "# Find all images containing 'date' related' text\n",
        "file_image_dir = extract_and_crop(folderdir)"
      ],
      "metadata": {
        "id": "CaV2eJyRlQJ2"
      },
      "execution_count": null,
      "outputs": []
    },
    {
      "cell_type": "code",
      "source": [
        "# Define a function to remove duplicated pages from the same lease\n",
        "def remove_duplicate_dir(list_dir):\n",
        "  duplicate_index= []\n",
        "  for i in range(len(list_dir)-1):\n",
        "    folder_name = list_dir[i].split('/')[-2]\n",
        "    next_folder_name = list_dir[i+1].split('/')[-2]\n",
        "    if folder_name == next_folder_name:\n",
        "      duplicate_index.append(i+1)\n",
        "    i+=1\n",
        "  # Sort index from largest to smallest\n",
        "  d = sorted(duplicate_index,reverse=True)\n",
        "  return d"
      ],
      "metadata": {
        "id": "gz-pwvYmY3GS"
      },
      "execution_count": null,
      "outputs": []
    },
    {
      "cell_type": "code",
      "source": [
        "# List index of duplicated entry\n",
        "index_dup = remove_duplicate_dir(file_image_dir)\n",
        "# Remove duplicate from list by index\n",
        "for i in range(len(index_dup)):\n",
        "  del file_image_dir[index_dup[i]]\n",
        "  i+=1"
      ],
      "metadata": {
        "id": "UzvcRtGEby8A"
      },
      "execution_count": null,
      "outputs": []
    },
    {
      "cell_type": "markdown",
      "source": [
        "## Save filedirectory in a pickle file"
      ],
      "metadata": {
        "id": "ZeUsVMBOW15Q"
      }
    },
    {
      "cell_type": "code",
      "source": [
        "# Python program to store list to file using pickle module\n",
        "import pickle\n",
        "# write list to binary file\n",
        "def write_list(a_list):\n",
        "    # store list in binary file so 'wb' mode\n",
        "    with open('/content/drive/MyDrive/image_dir', 'wb') as fp:\n",
        "        pickle.dump(a_list, fp)\n",
        "        print('Done writing list into a binary file')\n",
        "write_list(file_image_dir)"
      ],
      "metadata": {
        "colab": {
          "base_uri": "https://localhost:8080/"
        },
        "id": "Gkf7rL71rfuA",
        "outputId": "777aa356-1d39-4b3c-f145-a56c3e6d1b90"
      },
      "execution_count": null,
      "outputs": [
        {
          "output_type": "stream",
          "name": "stdout",
          "text": [
            "Done writing list into a binary file\n"
          ]
        }
      ]
    },
    {
      "cell_type": "markdown",
      "source": [
        "## Read image date"
      ],
      "metadata": {
        "id": "p7A8cKVuW7jP"
      }
    },
    {
      "cell_type": "code",
      "source": [
        "# Reload back the list\n",
        "import pickle\n",
        "with open('/content/drive/MyDrive/image_dir', 'rb') as f:\n",
        "  image_dir = pickle.load(f)"
      ],
      "metadata": {
        "id": "xW9fCVWGTRZU"
      },
      "execution_count": null,
      "outputs": []
    },
    {
      "cell_type": "code",
      "source": [
        "index_dup = remove_duplicate_dir(image_dir)\n",
        "# Remove duplicate from list by index\n",
        "for i in range(len(index_dup)):\n",
        "  del image_dir[index_dup[i]]\n",
        "  i+=1"
      ],
      "metadata": {
        "id": "FJD1vnNYXTAB"
      },
      "execution_count": null,
      "outputs": []
    },
    {
      "cell_type": "code",
      "source": [
        "# Import pix2struct model and processor\n",
        "DEVICE = \"cuda\" if torch.cuda.is_available() else \"cpu\"\n",
        "model = psg.from_pretrained(\"google/pix2struct-docvqa-base\").to(DEVICE)\n",
        "processor = psp.from_pretrained(\"google/pix2struct-docvqa-base\")"
      ],
      "metadata": {
        "colab": {
          "base_uri": "https://localhost:8080/",
          "height": 241,
          "referenced_widgets": [
            "01d181d5424d4617838467755fe1c1e4",
            "983ece79994f4f389d0179b64943a257",
            "d9c0d658001d469092679dc96a481a74",
            "969523bdd9b3472d8fb497b3573e2a39",
            "f620539ed6074067991e432215c692c4",
            "7c6ca42e3d8e4ea39b846209406e83bc",
            "89ea4dd0b6064862b41df4e6d950b09d",
            "56792e651a49461eb8331bff47bad514",
            "06655372cd7b4a1ab9e0faea82f8f239",
            "c1fd644b751045d9a27f3933cc0522d3",
            "89dc5c16a2d1460780f06324a9a0fb71",
            "eff2f14e04c54b75b1f12fefc8308702",
            "2a620064aff24575a2e8c001b187c1a8",
            "88dd2c8343df4095b765ed7b71351c1c",
            "9083b96db74f452a92550b83979743b1",
            "ae1121e592ef4c3bbba7ce87d65b40f1",
            "e4dca682e21a49fb9333f10f43814ca1",
            "1e5a6e5e5cac450abbb0ae6993b2094d",
            "d75b8106cff045b7b12452d9313895f9",
            "50ff5191e3a642b19e3bd931330fdf04",
            "a1a9d070c827486fa4d5c52c04ba748e",
            "bda71fcdb2f749dca36e62bd0b738bb6",
            "3555a3b54c9e4ca7b50645d5709ef246",
            "cf6aac622c164231a0f2b834cfcc109c",
            "e9af09b843c64ba9aff64903887fdca9",
            "0fa11f1055ca4c859b93a7950223db46",
            "f93f35324861421caa3ec18ff585df2f",
            "4c94038307f14302b8ea11f855e32a79",
            "f36ee2f9300b466eb1cef5fb873d117b",
            "276a0f16a5674a69b356ed21348e89ab",
            "20177171139047bca69050d5c4e58a1f",
            "d4da76e8a90d4d478063adbee9c8e858",
            "070bdc6592f0418cbe7c1f858456c857",
            "cd8c485b1db344c5a04d69a466929e60",
            "ea97207036f84e149eb8824f0c8fb519",
            "9ff23ac5d620457e9d60c5fa43090cbe",
            "0d6b4c97f4024598b5eff9b5eebdc6db",
            "49fd62304db64fdc9e254124a87dde9b",
            "ba680cc163b1484b8e2240f2d751d1c2",
            "6b6ddf0f771945ddba1fb0699c7efeb9",
            "3b12918d6e2548d3967abffbca4aa03f",
            "ea200d0e60fd4e208decd170cdb58e1b",
            "99f06dbb947743168452f9a82a04708e",
            "49c7d3c140ea472ba985046cd909eede",
            "8ef0c080b42c4d308838b006269b4734",
            "11ff42b9429f4c878f18208f8169a038",
            "b65e8e96fa514cb69403d3c04bc6f83d",
            "0f842614e437461099ad72a929782687",
            "168292554834433d97c7675fb9c34c8d",
            "fa07ac23851044d89d7642ef6ab5dddc",
            "61a2d0c5d3e547f18412d5feeed0bfaf",
            "a0737e86b63b452e9bfafc83403785ea",
            "9f4cc175d2f7411cabd0f12def15c99a",
            "8cb96f43940544b390ccd99fe336b394",
            "487e0a157d634e6d9669f69bf2c8450e",
            "90336358a7bd4ee2b298343e4f4f8e2b",
            "a5fb642376ec4843bdb9b1e26a060dec",
            "b8d699f6b03b48d8bd83ecae733defc2",
            "4ad921e77cbb41f1950a3b63be79d67c",
            "c89aec8de12645cba7f740f2d8db9744",
            "f2c8537b5bae4beebcfd754fdf90b151",
            "3fe16656b3ff4b40a1f26c0b3d418d6d",
            "c084b494123e4bafa1264b58530f48ab",
            "aa90b4ab574249bb9cb66564e36d4ca9",
            "7c553aa43634490fa231ad187ebf46bd",
            "a1aeb957051a48c4a78f9cac5f879cc6",
            "eb83ee7ada084978808e6d6b7afaaf89",
            "06a24668c70f49d594e3643fb251b009",
            "bfc6d97c98374bf0abad7f88ec9e08a9",
            "dfa0b9804f3a4f17972cd9353070c37f",
            "08faafb42502446b83269efe52bc41e2",
            "239b41fe11fa42fb90694237619c07df",
            "777c5d6dae1b4d09a00d97978864f2fc",
            "9b18083247ad49bb8473b64341f47558",
            "c9472846427c4218ba8c3dbf55c103e2",
            "8db50b8fbcf44402a99a18f7bec61dcd",
            "bb6663818e1e46018c7d030fe63df20c"
          ]
        },
        "id": "Z0HB2fiiX7tc",
        "outputId": "1d830b5a-8836-4842-e6e6-f4cbd5a8fcdc"
      },
      "execution_count": null,
      "outputs": [
        {
          "output_type": "display_data",
          "data": {
            "text/plain": [
              "Downloading (…)lve/main/config.json:   0%|          | 0.00/4.89k [00:00<?, ?B/s]"
            ],
            "application/vnd.jupyter.widget-view+json": {
              "version_major": 2,
              "version_minor": 0,
              "model_id": "01d181d5424d4617838467755fe1c1e4"
            }
          },
          "metadata": {}
        },
        {
          "output_type": "display_data",
          "data": {
            "text/plain": [
              "Downloading pytorch_model.bin:   0%|          | 0.00/1.13G [00:00<?, ?B/s]"
            ],
            "application/vnd.jupyter.widget-view+json": {
              "version_major": 2,
              "version_minor": 0,
              "model_id": "eff2f14e04c54b75b1f12fefc8308702"
            }
          },
          "metadata": {}
        },
        {
          "output_type": "display_data",
          "data": {
            "text/plain": [
              "Downloading (…)rocessor_config.json:   0%|          | 0.00/249 [00:00<?, ?B/s]"
            ],
            "application/vnd.jupyter.widget-view+json": {
              "version_major": 2,
              "version_minor": 0,
              "model_id": "3555a3b54c9e4ca7b50645d5709ef246"
            }
          },
          "metadata": {}
        },
        {
          "output_type": "display_data",
          "data": {
            "text/plain": [
              "Downloading (…)okenizer_config.json:   0%|          | 0.00/2.58k [00:00<?, ?B/s]"
            ],
            "application/vnd.jupyter.widget-view+json": {
              "version_major": 2,
              "version_minor": 0,
              "model_id": "cd8c485b1db344c5a04d69a466929e60"
            }
          },
          "metadata": {}
        },
        {
          "output_type": "display_data",
          "data": {
            "text/plain": [
              "Downloading spiece.model:   0%|          | 0.00/851k [00:00<?, ?B/s]"
            ],
            "application/vnd.jupyter.widget-view+json": {
              "version_major": 2,
              "version_minor": 0,
              "model_id": "8ef0c080b42c4d308838b006269b4734"
            }
          },
          "metadata": {}
        },
        {
          "output_type": "display_data",
          "data": {
            "text/plain": [
              "Downloading (…)/main/tokenizer.json:   0%|          | 0.00/3.27M [00:00<?, ?B/s]"
            ],
            "application/vnd.jupyter.widget-view+json": {
              "version_major": 2,
              "version_minor": 0,
              "model_id": "90336358a7bd4ee2b298343e4f4f8e2b"
            }
          },
          "metadata": {}
        },
        {
          "output_type": "display_data",
          "data": {
            "text/plain": [
              "Downloading (…)cial_tokens_map.json:   0%|          | 0.00/2.20k [00:00<?, ?B/s]"
            ],
            "application/vnd.jupyter.widget-view+json": {
              "version_major": 2,
              "version_minor": 0,
              "model_id": "eb83ee7ada084978808e6d6b7afaaf89"
            }
          },
          "metadata": {}
        }
      ]
    },
    {
      "cell_type": "code",
      "source": [
        "# Define a function to generate responses\n",
        "def generate(model, processor, img, questions):\n",
        "  inputs = processor(images=[img for _ in range(len(questions))],\n",
        "           text=questions, return_tensors=\"pt\").to(DEVICE)\n",
        "  predictions = model.generate(**inputs, max_new_tokens=256)\n",
        "  return zip(questions, processor.batch_decode(predictions, skip_special_tokens=True))"
      ],
      "metadata": {
        "id": "1HQmIX1oYD4Z"
      },
      "execution_count": null,
      "outputs": []
    },
    {
      "cell_type": "code",
      "source": [
        "# Read image\n",
        "# Create an empty pd dataframe to store data\n",
        "DOL = pd.DataFrame(columns=['Lease_name','Date of Lease'])\n",
        "#Define a function to read_image using pix2struct\n",
        "def read_image(image_path):\n",
        "  image = Image.open(image_path).convert('RGB')\n",
        "  question = 'What is the date'\n",
        "  inputs = processor(images=image, text=question, return_tensors=\"pt\").to(\"cuda\")\n",
        "  predictions = model.generate(**inputs)\n",
        "  date = processor.decode(predictions[0], skip_special_tokens=True)\n",
        "  folder_name = image_path.split('/')[-2]\n",
        "  lease_date_row = {'Lease_name': folder_name, 'Date of Lease': date}\n",
        "  DOL.loc[len(DOL)] = lease_date_row"
      ],
      "metadata": {
        "id": "g-T1Ndvyg4JP"
      },
      "execution_count": null,
      "outputs": []
    },
    {
      "cell_type": "code",
      "source": [
        "for i in range(len(image_dir)):\n",
        "  read_image(image_dir[i])\n",
        "  i+=1"
      ],
      "metadata": {
        "id": "hZ6hynuzg7Qt"
      },
      "execution_count": null,
      "outputs": []
    },
    {
      "cell_type": "code",
      "source": [
        "# Save to file in parquet and csv\n",
        "DOL.to_parquet('DOL.parquet')\n",
        "DOL.to_csv('DOL.csv')"
      ],
      "metadata": {
        "id": "lSrHt_SbsOy2"
      },
      "execution_count": null,
      "outputs": []
    },
    {
      "cell_type": "markdown",
      "source": [
        "# Upload transformed text file to sharepoint"
      ],
      "metadata": {
        "id": "A5UmzUZs-_Q_"
      }
    },
    {
      "cell_type": "code",
      "source": [
        "sharepoint_url = \"https://davittjonesbouldltd.sharepoint.com/sites/Files\"\n",
        "sharepoint_files = 'Shared Documents'\n",
        "site_name = 'Files'\n",
        "username = 'difan.deng@djblaw.co.uk'\n",
        "password = 'PaperMoon543!'\n",
        "folder_name = 'Adminwork/Difan Deng/Lease'\n",
        "text_folder_name = 'Adminwork/Difan Deng/Lease_text'"
      ],
      "metadata": {
        "id": "Rh77wB7CCqoW"
      },
      "execution_count": null,
      "outputs": []
    },
    {
      "cell_type": "code",
      "source": [
        "# Define functions to upload a single file\n",
        "from concurrent.futures import ThreadPoolExecutor, as_completed\n",
        "def upload_to_sharepoint(connection,files, folder,filefolder):\n",
        "    target_folder_path = f'{files}/{folder}'\n",
        "    target_folder = connection.web.get_folder_by_server_relative_url(target_folder_path)\n",
        "    file_list = os.listdir(filefolder)\n",
        "    for i in range(len(file_list)):\n",
        "      file_name = filefolder + '/' + file_list[i]\n",
        "      with open(f'{file_name}', 'rb') as content_file:\n",
        "        file_content = content_file.read()\n",
        "        target_folder.upload_file(file_name.split('/')[-1], file_content).execute_query()\n",
        "      i+=1"
      ],
      "metadata": {
        "id": "pW_qOj3y_YqF"
      },
      "execution_count": null,
      "outputs": []
    },
    {
      "cell_type": "code",
      "source": [
        "# Upload to sharepoint\n",
        "file_directory = '/content/drive/MyDrive/Pdf_text' # Customised for your own folder\n",
        "upload_to_sharepoint(connection_sharepoint,sharepoint_files,text_folder_name,file_directory)"
      ],
      "metadata": {
        "id": "KhTTLVUkBqJ2"
      },
      "execution_count": null,
      "outputs": []
    }
  ]
}