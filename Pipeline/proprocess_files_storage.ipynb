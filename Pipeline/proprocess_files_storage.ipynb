{
  "nbformat": 4,
  "nbformat_minor": 0,
  "metadata": {
    "colab": {
      "provenance": []
    },
    "kernelspec": {
      "name": "python3",
      "display_name": "Python 3"
    },
    "language_info": {
      "name": "python"
    }
  },
  "cells": [
    {
      "cell_type": "code",
      "source": [
        "import os\n",
        "import glob\n",
        "folder_path = []\n",
        "rootdir = '/content/drive/MyDrive/Dissertation/leases_djb'\n",
        "for it in os.scandir(rootdir):\n",
        "    if it.is_dir():\n",
        "      folder_path.append(it.path)"
      ],
      "metadata": {
        "id": "Jd7-wclaqX_b"
      },
      "execution_count": 1,
      "outputs": []
    },
    {
      "cell_type": "code",
      "source": [
        "import glob\n",
        "file_list_head = []\n",
        "for i in folder_path:\n",
        "  fileList_head = glob.glob(i + '/Ancillary*')# all files starts with \"Ancillary\"\n",
        "  fileList_heads= glob.glob(i + '/Heads*') # all files starts with \"Heads\"\n",
        "  file_list_head.append(fileList_head)\n",
        "  file_list_head.append(fileList_heads)"
      ],
      "metadata": {
        "id": "P-4fXPvmrxTv"
      },
      "execution_count": 2,
      "outputs": []
    },
    {
      "cell_type": "code",
      "source": [
        "# Remove empty [] in the list\n",
        "for i in file_list_head:\n",
        "  if i == []:\n",
        "    file_list_head.remove(i)"
      ],
      "metadata": {
        "id": "8NR2QltRZxpJ"
      },
      "execution_count": 3,
      "outputs": []
    },
    {
      "cell_type": "code",
      "source": [
        "# Remove all unnnecessary folders\n",
        "import shutil\n",
        "for i in file_list_head:\n",
        "  if i != []:\n",
        "    dir = i[0]\n",
        "    shutil.rmtree(dir,ignore_errors=True)"
      ],
      "metadata": {
        "id": "Mkb1Vcwcv6NW"
      },
      "execution_count": 37,
      "outputs": []
    },
    {
      "cell_type": "code",
      "source": [
        "# Identify the leases in the folders\n",
        "import fnmatch\n",
        "Leases = []\n",
        "leases_path = []\n",
        "lease_name_list = []\n",
        "for files in folder_path:\n",
        "  for folder in os.listdir(files):\n",
        "    Lease_directory = files + '/'+ folder\n",
        "    if fnmatch.fnmatch(Lease_directory,'*[ease]*.*'):\n",
        "      Leases.append(Lease_directory)\n",
        "for files in Leases:\n",
        "  dir = files\n",
        "  lease = glob.glob(dir + '/*[ease]*.*')\n",
        "  leases_path.append(lease)"
      ],
      "metadata": {
        "id": "m-hHdEis9FoY"
      },
      "execution_count": 46,
      "outputs": []
    },
    {
      "cell_type": "code",
      "source": [
        "# Get the lease name\n",
        "leases_path[1][0]"
      ],
      "metadata": {
        "colab": {
          "base_uri": "https://localhost:8080/",
          "height": 53
        },
        "id": "wvWyqnlSS0Hm",
        "outputId": "f7654962-7d90-4dc9-afbc-2428e7e1b138"
      },
      "execution_count": 63,
      "outputs": [
        {
          "output_type": "execute_result",
          "data": {
            "text/plain": [
              "'/content/drive/MyDrive/Dissertation/leases_djb/10877.0250 Huddinknoll Common/Leases/\\u200bLease re Huddinknoll Common dated 6th February 2023 signed by Landlord..pdf'"
            ],
            "application/vnd.google.colaboratory.intrinsic+json": {
              "type": "string"
            }
          },
          "metadata": {},
          "execution_count": 63
        }
      ]
    },
    {
      "cell_type": "code",
      "source": [
        "import shutil\n",
        "# Count number of lists in a list\n",
        "def countList(lst):\n",
        "    return len(lst)\n",
        "countList(leases_path)\n",
        "# Move the leases into a new folder 'lease'\n",
        "lease_name = []\n",
        "for i in range(0,103):\n",
        "  Leases_list = leases_path[i]\n",
        "  for x in Leases_list:\n",
        "    lease_name = x.rpartition('/')[-1]\n",
        "    src_path = x \n",
        "    dest_path = '/content/drive/MyDrive/Dissertation/leases'\n",
        "    # Check if file already exists\n",
        "    if os.path.isdir(dest_path+'/'+lease_name):\n",
        "        shutil.rmtree(dest_path+'/'+lease_name)\n",
        "       \n",
        "    elif os.path.isfile(dest_path+'/'+lease_name):  \n",
        "        os.remove(dest_path+'/'+lease_name)\n",
        "    shutil.move(src_path, dest_path)\n",
        "  i+=1"
      ],
      "metadata": {
        "id": "yzoKOep7L4VW"
      },
      "execution_count": 64,
      "outputs": []
    },
    {
      "cell_type": "code",
      "source": [
        "# Remove the original DJB files to clean-up storage\n",
        "dir_source = '/content/drive/MyDrive/Dissertation/leases_djb'\n",
        "shutil.rmtree(dir_source,ignore_errors=True)"
      ],
      "metadata": {
        "id": "AFkS2Z91WhsW"
      },
      "execution_count": 65,
      "outputs": []
    }
  ]
}